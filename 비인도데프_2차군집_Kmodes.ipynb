{
 "cells": [
  {
   "cell_type": "code",
   "execution_count": 1,
   "id": "67b3c1c0",
   "metadata": {},
   "outputs": [],
   "source": [
    "import numpy as np\n",
    "import pandas as pd\n",
    "from tqdm import tqdm\n",
    "# pd.set_option('display.max_rows',1000)\n",
    "from datetime import datetime\n",
    "from kmodes.kprototypes import KPrototypes\n",
    "import matplotlib.pyplot as plt\n",
    "import matplotlib\n",
    "plt.style.use('seaborn')\n",
    "import seaborn as sns\n",
    "matplotlib.rcParams['font.family']='Malgun Gothic'\n",
    "matplotlib.rcParams['axes.unicode_minus'] = False\n",
    "from sklearn.preprocessing import StandardScaler, MinMaxScaler, RobustScaler"
   ]
  },
  {
   "cell_type": "markdown",
   "id": "03e5319a",
   "metadata": {},
   "source": [
    "# 데이터 불러오기"
   ]
  },
  {
   "cell_type": "code",
   "execution_count": 6,
   "id": "8d82547f",
   "metadata": {},
   "outputs": [],
   "source": [
    "# 군집이동 테이블 불러오기\n",
    "df = pd.read_csv('data/cluster/clust_1st_7_비인도데프.csv')\n",
    "df"
   ]
  },
  {
   "cell_type": "markdown",
   "id": "b72996da",
   "metadata": {},
   "source": [
    "# Kmodes (n=8)"
   ]
  },
  {
   "cell_type": "code",
   "execution_count": 163,
   "id": "64f9ad3f",
   "metadata": {},
   "outputs": [
    {
     "name": "stdout",
     "output_type": "stream",
     "text": [
      "Init: initializing centroids\n",
      "Init: initializing clusters\n",
      "Starting iterations...\n",
      "Run 1, iteration: 1/100, moves: 5668, cost: 87102.0\n",
      "Run 1, iteration: 2/100, moves: 3374, cost: 70875.0\n",
      "Run 1, iteration: 3/100, moves: 1783, cost: 66588.0\n",
      "Run 1, iteration: 4/100, moves: 862, cost: 66552.0\n",
      "Run 1, iteration: 5/100, moves: 40, cost: 66552.0\n"
     ]
    }
   ],
   "source": [
    "# Kmodes (n=8)\n",
    "from kmodes.kmodes import KModes\n",
    "kmodes = KModes(n_clusters=8,random_state=42, verbose=2,max_iter=100)\n",
    "kmodes.fit_predict(df.iloc[:,1:])\n",
    "cluster_2nd = kmodes.labels_"
   ]
  },
  {
   "cell_type": "code",
   "execution_count": 165,
   "id": "9524ac60",
   "metadata": {},
   "outputs": [],
   "source": [
    "df['2nd_cluster'] = cluster_2nd"
   ]
  },
  {
   "cell_type": "code",
   "execution_count": 168,
   "id": "8e7e0a36",
   "metadata": {},
   "outputs": [],
   "source": [
    "df2 = pd.read_csv('data/cluster/1차군집_7개_비인도데프.csv')"
   ]
  },
  {
   "cell_type": "code",
   "execution_count": 171,
   "id": "d6715355",
   "metadata": {},
   "outputs": [],
   "source": [
    "df3 = pd.merge(df2,df[['id','2nd_cluster']],how='left',on='id')"
   ]
  },
  {
   "cell_type": "markdown",
   "id": "480e7c88",
   "metadata": {},
   "source": [
    "# 데이터 저장"
   ]
  },
  {
   "cell_type": "code",
   "execution_count": 173,
   "id": "f0098423",
   "metadata": {},
   "outputs": [],
   "source": [
    "df3.to_csv('data/cluster/2차군집8_비인도데프.csv',index=False, encoding='utf-8-sig')"
   ]
  },
  {
   "cell_type": "code",
   "execution_count": null,
   "id": "e35f9817",
   "metadata": {},
   "outputs": [],
   "source": []
  }
 ],
 "metadata": {
  "kernelspec": {
   "display_name": "Python 3",
   "language": "python",
   "name": "python3"
  },
  "language_info": {
   "codemirror_mode": {
    "name": "ipython",
    "version": 3
   },
   "file_extension": ".py",
   "mimetype": "text/x-python",
   "name": "python",
   "nbconvert_exporter": "python",
   "pygments_lexer": "ipython3",
   "version": "3.8.10"
  }
 },
 "nbformat": 4,
 "nbformat_minor": 5
}
