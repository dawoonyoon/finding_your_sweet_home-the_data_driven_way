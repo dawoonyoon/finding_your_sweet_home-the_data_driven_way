{
 "cells": [
  {
   "cell_type": "code",
   "execution_count": 3,
   "id": "20a48259",
   "metadata": {
    "id": "20a48259"
   },
   "outputs": [],
   "source": [
    "import pandas as pd\n",
    "import numpy as np\n",
    "from math import ceil\n",
    "from tqdm import tqdm"
   ]
  },
  {
   "cell_type": "markdown",
   "id": "006f55a1",
   "metadata": {
    "id": "006f55a1"
   },
   "source": [
    "# 데이터 불러오기"
   ]
  },
  {
   "cell_type": "code",
   "execution_count": 6,
   "id": "0539cddb",
   "metadata": {
    "id": "0539cddb"
   },
   "outputs": [
    {
     "name": "stderr",
     "output_type": "stream",
     "text": [
      "C:\\Users\\medici\\anaconda3\\lib\\site-packages\\IPython\\core\\interactiveshell.py:3357: DtypeWarning: Columns (1,2,10) have mixed types.Specify dtype option on import or set low_memory=False.\n",
      "  if (await self.run_code(code, result,  async_=asy)):\n",
      "C:\\Users\\medici\\anaconda3\\lib\\site-packages\\IPython\\core\\interactiveshell.py:3357: DtypeWarning: Columns (2,10) have mixed types.Specify dtype option on import or set low_memory=False.\n",
      "  if (await self.run_code(code, result,  async_=asy)):\n"
     ]
    }
   ],
   "source": [
    "# 데이터 불러오기\n",
    "def takeData(t):\n",
    "    # 서울\n",
    "    df_seoul_2014 = pd.read_csv('data/' + t + '/서울_2014_' + t + '.csv',encoding='euc-kr')    # 2014\n",
    "    df_seoul_2015 = pd.read_csv('data/' + t + '/서울_2015_' + t + '.csv',encoding='euc-kr')    # 2015\n",
    "    df_seoul_2016 = pd.read_csv('data/' + t + '/서울_2016_' + t + '.csv',encoding='euc-kr')    # 2016\n",
    "    df_seoul_2017 = pd.read_csv('data/' + t + '/서울_2017_' + t + '.csv',encoding='euc-kr')    # 2017\n",
    "    df_seoul_2018 = pd.read_csv('data/' + t + '/서울_2018_' + t + '.csv',encoding='euc-kr')    # 2018\n",
    "    df_seoul_2019 = pd.read_csv('data/' + t + '/서울_2019_' + t + '.csv',encoding='euc-kr')    # 2019\n",
    "    df_seoul_2020 = pd.read_csv('data/' + t + '/서울_2020_' + t + '.csv',encoding='euc-kr')    # 2020\n",
    "    df_seoul_2021 = pd.read_csv('data/' + t + '/서울_2021_' + t + '.csv',encoding='euc-kr')    # 2021\n",
    "    \n",
    "    # 14~21 서울 데이터 생성\n",
    "    df_seoul = pd.concat([df_seoul_2014,\n",
    "                          df_seoul_2015,\n",
    "                          df_seoul_2016,\n",
    "                          df_seoul_2017,\n",
    "                          df_seoul_2018,\n",
    "                          df_seoul_2019,\n",
    "                          df_seoul_2020,\n",
    "                          df_seoul_2021])\n",
    "    \n",
    "    # 지역 컬럼 생성\n",
    "    df_seoul['지역'] = '서울'\n",
    "    # 인덱스 재정렬\n",
    "    df_seoul.reset_index(drop=True, inplace=True)\n",
    "    # 데이터 저장\n",
    "    df_seoul.to_csv('data/1421/df_seoul_' + t + '_1421.csv', index=False, encoding='utf-8-sig')\n",
    "    \n",
    "    # ----------------------------------------------------------------------------------------------------------------\n",
    "    # 경기\n",
    "    df_gyeonggido_2014 = pd.read_csv('data/' + t + '/경기도_2014_' + t + '.csv',encoding='euc-kr')    # 2014\n",
    "    df_gyeonggido_2015 = pd.read_csv('data/' + t + '/경기도_2015_' + t + '.csv',encoding='euc-kr')    # 2015\n",
    "    df_gyeonggido_2016 = pd.read_csv('data/' + t + '/경기도_2016_' + t + '.csv',encoding='euc-kr')    # 2016\n",
    "    df_gyeonggido_2017 = pd.read_csv('data/' + t + '/경기도_2017_' + t + '.csv',encoding='euc-kr')    # 2017\n",
    "    df_gyeonggido_2018 = pd.read_csv('data/' + t + '/경기도_2018_' + t + '.csv',encoding='euc-kr')    # 2018\n",
    "    df_gyeonggido_2019 = pd.read_csv('data/' + t + '/경기도_2019_' + t + '.csv',encoding='euc-kr')    # 2019\n",
    "    df_gyeonggido_2020 = pd.read_csv('data/' + t + '/경기도_2020_' + t + '.csv',encoding='euc-kr')    # 2020\n",
    "    df_gyeonggido_2021 = pd.read_csv('data/' + t + '/경기도_2021_' + t + '.csv',encoding='euc-kr')    # 2021\n",
    "\n",
    "    # 14~21 경기도 데이터 생성\n",
    "    df_gyeonggido = pd.concat([df_gyeonggido_2014,\n",
    "                               df_gyeonggido_2015,\n",
    "                               df_gyeonggido_2016,\n",
    "                               df_gyeonggido_2017,\n",
    "                               df_gyeonggido_2018,\n",
    "                               df_gyeonggido_2019,\n",
    "                               df_gyeonggido_2020,\n",
    "                               df_gyeonggido_2021])\n",
    "    \n",
    "    # 지역 컬럼 생성\n",
    "    df_gyeonggido['지역'] = '경기'\n",
    "    # 인덱스 재정렬\n",
    "    df_gyeonggido.reset_index(drop=True, inplace=True)\n",
    "    # 데이터 저장\n",
    "    df_gyeonggido.to_csv('data/1421/df_gyeonggi_' + t + '_1421.csv', index=False, encoding='utf-8-sig')\n",
    "    \n",
    "    # ----------------------------------------------------------------------------------------------------------------\n",
    "    # 인천\n",
    "    df_incheon_2014 = pd.read_csv('data/' + t + '/인천_2014_' + t + '.csv',encoding='euc-kr')    # 2014\n",
    "    df_incheon_2015 = pd.read_csv('data/' + t + '/인천_2015_' + t + '.csv',encoding='euc-kr')    # 2015\n",
    "    df_incheon_2016 = pd.read_csv('data/' + t + '/인천_2016_' + t + '.csv',encoding='euc-kr')    # 2016\n",
    "    df_incheon_2017 = pd.read_csv('data/' + t + '/인천_2017_' + t + '.csv',encoding='euc-kr')    # 2017\n",
    "    df_incheon_2018 = pd.read_csv('data/' + t + '/인천_2018_' + t + '.csv',encoding='euc-kr')    # 2018\n",
    "    df_incheon_2019 = pd.read_csv('data/' + t + '/인천_2019_' + t + '.csv',encoding='euc-kr')    # 2019\n",
    "    df_incheon_2020 = pd.read_csv('data/' + t + '/인천_2020_' + t + '.csv',encoding='euc-kr')    # 2020\n",
    "    df_incheon_2021 = pd.read_csv('data/' + t + '/인천_2021_' + t + '.csv',encoding='euc-kr')    # 2021\n",
    "\n",
    "    # 14~21 인천 데이터 생성\n",
    "    df_incheon = pd.concat([df_incheon_2014,\n",
    "                            df_incheon_2015,\n",
    "                            df_incheon_2016,\n",
    "                            df_incheon_2017,\n",
    "                            df_incheon_2018,\n",
    "                            df_incheon_2019,\n",
    "                            df_incheon_2020,\n",
    "                            df_incheon_2021])\n",
    "    \n",
    "    # 지역 컬럼 생성\n",
    "    df_incheon['지역'] = '인천'\n",
    "    # 인덱스 재정렬\n",
    "    df_incheon.reset_index(drop=True, inplace=True)\n",
    "    # 데이터 저장\n",
    "    df_incheon.to_csv('data/1421/df_incheon_' + t + '_1421.csv', index=False, encoding='utf-8-sig')\n",
    "\n",
    "    # ----------------------------------------------------------------------------------------------------------------\n",
    "    # 전체\n",
    "    df_total = pd.concat([df_seoul, df_gyeonggido, df_incheon])\n",
    "    # 인덱스 재정렬\n",
    "    df_total.reset_index(drop=True, inplace=True)\n",
    "    df_total.to_csv('data/1421/df_total_' + t + '_1421.csv', index=False, encoding='utf-8-sig')\n",
    "    return \n",
    "\n",
    "takeData('매매')\n",
    "takeData('전월세')"
   ]
  },
  {
   "cell_type": "markdown",
   "id": "c351358a",
   "metadata": {
    "id": "c351358a"
   },
   "source": [
    "# 매매 & 전월세 데이터 정의"
   ]
  },
  {
   "cell_type": "code",
   "execution_count": 3,
   "id": "ab86f123",
   "metadata": {
    "id": "ab86f123",
    "outputId": "f030d37d-e78e-4503-eae7-6f695bfe78ac"
   },
   "outputs": [
    {
     "name": "stderr",
     "output_type": "stream",
     "text": [
      "C:\\Users\\medici\\anaconda3\\lib\\site-packages\\IPython\\core\\interactiveshell.py:3165: DtypeWarning: Columns (2) have mixed types.Specify dtype option on import or set low_memory=False.\n",
      "  has_raised = await self.run_ast_nodes(code_ast.body, cell_name,\n",
      "C:\\Users\\medici\\anaconda3\\lib\\site-packages\\IPython\\core\\interactiveshell.py:3165: DtypeWarning: Columns (2,10) have mixed types.Specify dtype option on import or set low_memory=False.\n",
      "  has_raised = await self.run_ast_nodes(code_ast.body, cell_name,\n"
     ]
    }
   ],
   "source": [
    "# 매매, 전월세 데이터 불러오기\n",
    "df_mae = pd.read_csv('data/1421/df_total_매매_1421.csv')        # 매매\n",
    "df_jeonwol = pd.read_csv('data/1421/df_total_전월세_1421.csv')  # 전월세"
   ]
  },
  {
   "cell_type": "code",
   "execution_count": 5,
   "id": "ac9cbb1d",
   "metadata": {
    "id": "ac9cbb1d",
    "scrolled": false
   },
   "outputs": [
    {
     "data": {
      "text/plain": [
       "(2360679, 14)"
      ]
     },
     "metadata": {},
     "output_type": "display_data"
    },
    {
     "data": {
      "text/plain": [
       "(3209047, 15)"
      ]
     },
     "metadata": {},
     "output_type": "display_data"
    }
   ],
   "source": [
    "# 데이터 shape 확인\n",
    "def dp():\n",
    "    display(df_mae.shape)\n",
    "    display(df_jeonwol.shape)\n",
    "dp()"
   ]
  },
  {
   "cell_type": "code",
   "execution_count": 6,
   "id": "fda81ed0",
   "metadata": {},
   "outputs": [
    {
     "data": {
      "text/plain": [
       "(2350781, 14)"
      ]
     },
     "metadata": {},
     "output_type": "display_data"
    },
    {
     "data": {
      "text/plain": [
       "(3209047, 15)"
      ]
     },
     "metadata": {},
     "output_type": "display_data"
    }
   ],
   "source": [
    "# 중복데이터 제거\n",
    "df_mae.drop_duplicates(inplace=True)\n",
    "df_mae.drop_duplicates(inplace=True)\n",
    "dp()"
   ]
  },
  {
   "cell_type": "markdown",
   "id": "48163d8f",
   "metadata": {
    "id": "48163d8f"
   },
   "source": [
    "# 공통 전처리\n",
    "\n",
    "1. 컬럼 이름 재정의\n",
    "    - 매매\n",
    "        - `전용면적(㎡)` -> `전용면적_미제`\n",
    "        - `거래금액(만원)` -> `거래금액`\n",
    "    - 전월세\n",
    "        - `전용면적(㎡)` -> `전용면적_미제`\n",
    "        - `보증금(만원)` -> `거래금액`\n",
    "        - `월세(만원)` -> `월세`\n",
    "2. `층`이 1층인 데이터 제거\n",
    "3. `전용면적` $245m^2$ 이상인 데이터 삭제\n",
    "4. 경기도 지역 필터링\n",
    "5. `해제사유발생일` 데이터 중 NaN이 아닌 데이터는 삭제.\n",
    "6. `전용면적_미제`로부터 `전용면적_평` 변수 파생.\n",
    "7. `전용면적_미제` 올림처리.\n",
    "8. [도로명 주소 안내시스템 사이트]((https://www.juso.go.kr/openIndexPage.do)에 들어가 도로명에 맞는 본번과 부번을 입력\n",
    " - 결측치 처리\n",
    " - 본번에 `00A2` 등의 이상값 처리.\n",
    "9. `본번`과 `부번`으로 `번지`를 파생시키는 함수\n",
    "10. `계약년월`과 `계약일`로 `new_Date` 시계열변수와 `quater` 범주형변수 파생.\n",
    "11. `시군구`에서 `자치구_동` 파생\n",
    "12. `거래금액` 백 만단위 수치형 변수로 변환\n",
    "13. `도로명` 컬럼 삭제\n",
    "14. `시군구`, `단지명`, `전용면적_미제`로 `id` 변수 파생.\n"
   ]
  },
  {
   "cell_type": "markdown",
   "id": "301988fc",
   "metadata": {
    "id": "301988fc"
   },
   "source": [
    "### 1. 컬럼 이름 재정의\n",
    "- 매매\n",
    "  - `전용면적(㎡)` -> `전용면적_미제`\n",
    "  - `거래금액(만원)` -> `거래금액`\n",
    "  \n",
    "  \n",
    "- 전월세\n",
    "  - `전용면적(㎡)` -> `전용면적_미제`\n",
    "  - `보증금(만원)` -> `거래금액`\n",
    "  - `월세(만원)` -> `월세`"
   ]
  },
  {
   "cell_type": "code",
   "execution_count": 7,
   "id": "945f3d26",
   "metadata": {
    "id": "945f3d26"
   },
   "outputs": [],
   "source": [
    "# 컬럼 이름 재정의\n",
    "def renameColumns(df, keyword):\n",
    "    df = df.copy()\n",
    "    if keyword == '매매':\n",
    "        df.columns = ['시군구', '번지', '본번', '부번', '단지명', '전용면적_미제', '계약년월', '계약일',\n",
    "               '거래금액', '층', '건축년도', '도로명', '해제사유발생일','지역']\n",
    "    else:\n",
    "        # 컬럼 이름 재정의\n",
    "        df.columns = ['시군구', '번지', '본번', '부번', '단지명', '전월세구분', '전용면적_미제', '계약년월', '계약일',\n",
    "       '보증금', '월세', '층', '건축년도', '도로명','지역']\n",
    "    return df\n",
    "\n",
    "# 매매, 전월세 데이터에 각각 적용\n",
    "df_mae = renameColumns(df_mae,'매매')\n",
    "df_jeonwol = renameColumns(df_jeonwol,'전월세')"
   ]
  },
  {
   "cell_type": "markdown",
   "id": "cfab9c71",
   "metadata": {
    "id": "cfab9c71"
   },
   "source": [
    "### 2. `층`이 1층인 데이터 제거"
   ]
  },
  {
   "cell_type": "code",
   "execution_count": 8,
   "id": "f4ac44c6",
   "metadata": {
    "id": "f4ac44c6"
   },
   "outputs": [],
   "source": [
    "# 1층 데이터 삭제\n",
    "def remove1F(df):\n",
    "    df = df.copy()\n",
    "    floor_1st_mae = df[df['층'] == 1].index.values\n",
    "    df.drop(floor_1st_mae, inplace=True)\n",
    "    return df\n",
    "\n",
    "# 매매, 전월세 데이터에 각각 적용\n",
    "df_mae = remove1F(df_mae)\n",
    "df_jeonwol = remove1F(df_jeonwol)"
   ]
  },
  {
   "cell_type": "markdown",
   "id": "29ec34fb",
   "metadata": {
    "id": "29ec34fb"
   },
   "source": [
    "### 3. `전용면적` $245m^2$ 이상인 데이터 삭제"
   ]
  },
  {
   "cell_type": "code",
   "execution_count": 9,
   "id": "fbf781a1",
   "metadata": {
    "id": "fbf781a1"
   },
   "outputs": [],
   "source": [
    "# 245m2 이상의 전용면적을 삭제\n",
    "def remove245(df):\n",
    "    df = df.copy()\n",
    "    over245_index = df[df['전용면적_미제']>=245].index\n",
    "    df.drop(over245_index,inplace =True)\n",
    "    return df\n",
    "\n",
    "# 매매, 전월세 데이터에 각각 적용\n",
    "df_mae = remove245(df_mae)\n",
    "df_jeonwol = remove245(df_jeonwol)"
   ]
  },
  {
   "cell_type": "markdown",
   "id": "e8d5d22f",
   "metadata": {
    "id": "e8d5d22f"
   },
   "source": [
    "### 4. 경기도 지역 필터링\n",
    "- 9.30: 광명, 과천, 의왕 제거\n",
    "- 선정한 경기도 지역:   \n",
    "용인, 화성, 수원, 오산, 시흥, 안양, 의왕, 군포, 안산, 광명, 부천, 김포, 고양, 파주, 의정부, 남양주, 구리, 하남, 성남, 광명, 과천, 의왕, 평택"
   ]
  },
  {
   "cell_type": "code",
   "execution_count": 10,
   "id": "76f23229",
   "metadata": {
    "id": "76f23229",
    "scrolled": false
   },
   "outputs": [],
   "source": [
    "# 경기도 지역 필터링\n",
    "def removeGyeonggi(df):\n",
    "    df = df.copy()\n",
    "    df['구'] = df['시군구'].str.split(' ').str[1]\n",
    "    set_minus = {'광주시', '이천시', '안성시', '양평군', '여주시', '양주시', '포천시', '동두천시', '가평군', '연천군'}\n",
    "    \n",
    "    gu_remainder = set(df_mae['시군구'].str.split(' ').str[1].unique()) - set_minus\n",
    "    df = df[df['구'].isin(gu_remainder)]\n",
    "    df.drop('구', axis=1, inplace=True)\n",
    "    return df\n",
    "\n",
    "# 매매, 전월세 데이터에 각각 적용\n",
    "df_mae = removeGyeonggi(df_mae)\n",
    "df_jeonwol = removeGyeonggi(df_jeonwol)"
   ]
  },
  {
   "cell_type": "markdown",
   "id": "cfa93784",
   "metadata": {
    "id": "cfa93784"
   },
   "source": [
    "### 5. `해제사유발생일` 데이터 전처리."
   ]
  },
  {
   "cell_type": "code",
   "execution_count": 11,
   "id": "de25879b",
   "metadata": {
    "id": "de25879b"
   },
   "outputs": [],
   "source": [
    "# 해제사유발생일이 존재하는 값 조회해서 삭제\n",
    "def removeHaeje(df):\n",
    "    df = df.copy()\n",
    "    haeje = df_mae[df_mae['해제사유발생일'].isna()==False]    # 해제사유발생일\n",
    "\n",
    "    df.drop(haeje.index.values, inplace=True)                 # 해제사유발생일 삭제\n",
    "    df.reset_index(drop=True,inplace=True)                   # 인덱스 재정렬\n",
    "    \n",
    "    return df\n",
    "\n",
    "# 매매, 전월세 데이터에 각각 적용\n",
    "df_mae = removeHaeje(df_mae)\n",
    "df_mae.drop('해제사유발생일', axis=1, inplace=True)"
   ]
  },
  {
   "cell_type": "markdown",
   "id": "d0391fd0",
   "metadata": {},
   "source": [
    "#### ※ `전용면적_미제` 에서 결측치 발견. 네이버 부동산에도 데이터가 없어 삭제. (2개임)"
   ]
  },
  {
   "cell_type": "code",
   "execution_count": 13,
   "id": "8cd04ed5",
   "metadata": {
    "collapsed": true
   },
   "outputs": [
    {
     "data": {
      "text/html": [
       "<div>\n",
       "<style scoped>\n",
       "    .dataframe tbody tr th:only-of-type {\n",
       "        vertical-align: middle;\n",
       "    }\n",
       "\n",
       "    .dataframe tbody tr th {\n",
       "        vertical-align: top;\n",
       "    }\n",
       "\n",
       "    .dataframe thead th {\n",
       "        text-align: right;\n",
       "    }\n",
       "</style>\n",
       "<table border=\"1\" class=\"dataframe\">\n",
       "  <thead>\n",
       "    <tr style=\"text-align: right;\">\n",
       "      <th></th>\n",
       "      <th>시군구</th>\n",
       "      <th>번지</th>\n",
       "      <th>본번</th>\n",
       "      <th>부번</th>\n",
       "      <th>단지명</th>\n",
       "      <th>전월세구분</th>\n",
       "      <th>전용면적_미제</th>\n",
       "      <th>계약년월</th>\n",
       "      <th>계약일</th>\n",
       "      <th>보증금</th>\n",
       "      <th>월세</th>\n",
       "      <th>층</th>\n",
       "      <th>건축년도</th>\n",
       "      <th>도로명</th>\n",
       "      <th>지역</th>\n",
       "    </tr>\n",
       "  </thead>\n",
       "  <tbody>\n",
       "    <tr>\n",
       "      <th>0</th>\n",
       "      <td>서울특별시 강남구 개포동</td>\n",
       "      <td>655-2</td>\n",
       "      <td>655.0</td>\n",
       "      <td>2.0</td>\n",
       "      <td>개포2차현대아파트(220)</td>\n",
       "      <td>전세</td>\n",
       "      <td>77.75</td>\n",
       "      <td>201401</td>\n",
       "      <td>21</td>\n",
       "      <td>33,000</td>\n",
       "      <td>0</td>\n",
       "      <td>2.0</td>\n",
       "      <td>1988</td>\n",
       "      <td>언주로 103</td>\n",
       "      <td>서울</td>\n",
       "    </tr>\n",
       "    <tr>\n",
       "      <th>1</th>\n",
       "      <td>서울특별시 강남구 개포동</td>\n",
       "      <td>655-2</td>\n",
       "      <td>655.0</td>\n",
       "      <td>2.0</td>\n",
       "      <td>개포2차현대아파트(220)</td>\n",
       "      <td>전세</td>\n",
       "      <td>77.75</td>\n",
       "      <td>201405</td>\n",
       "      <td>9</td>\n",
       "      <td>39,000</td>\n",
       "      <td>0</td>\n",
       "      <td>9.0</td>\n",
       "      <td>1988</td>\n",
       "      <td>언주로 103</td>\n",
       "      <td>서울</td>\n",
       "    </tr>\n",
       "    <tr>\n",
       "      <th>3</th>\n",
       "      <td>서울특별시 강남구 개포동</td>\n",
       "      <td>655-2</td>\n",
       "      <td>655.0</td>\n",
       "      <td>2.0</td>\n",
       "      <td>개포2차현대아파트(220)</td>\n",
       "      <td>전세</td>\n",
       "      <td>77.75</td>\n",
       "      <td>201406</td>\n",
       "      <td>24</td>\n",
       "      <td>35,000</td>\n",
       "      <td>0</td>\n",
       "      <td>9.0</td>\n",
       "      <td>1988</td>\n",
       "      <td>언주로 103</td>\n",
       "      <td>서울</td>\n",
       "    </tr>\n",
       "    <tr>\n",
       "      <th>4</th>\n",
       "      <td>서울특별시 강남구 개포동</td>\n",
       "      <td>655-2</td>\n",
       "      <td>655.0</td>\n",
       "      <td>2.0</td>\n",
       "      <td>개포2차현대아파트(220)</td>\n",
       "      <td>전세</td>\n",
       "      <td>77.75</td>\n",
       "      <td>201407</td>\n",
       "      <td>31</td>\n",
       "      <td>37,000</td>\n",
       "      <td>0</td>\n",
       "      <td>3.0</td>\n",
       "      <td>1988</td>\n",
       "      <td>언주로 103</td>\n",
       "      <td>서울</td>\n",
       "    </tr>\n",
       "    <tr>\n",
       "      <th>5</th>\n",
       "      <td>서울특별시 강남구 개포동</td>\n",
       "      <td>655-2</td>\n",
       "      <td>655.0</td>\n",
       "      <td>2.0</td>\n",
       "      <td>개포2차현대아파트(220)</td>\n",
       "      <td>전세</td>\n",
       "      <td>77.75</td>\n",
       "      <td>201409</td>\n",
       "      <td>1</td>\n",
       "      <td>39,000</td>\n",
       "      <td>0</td>\n",
       "      <td>8.0</td>\n",
       "      <td>1988</td>\n",
       "      <td>언주로 103</td>\n",
       "      <td>서울</td>\n",
       "    </tr>\n",
       "    <tr>\n",
       "      <th>...</th>\n",
       "      <td>...</td>\n",
       "      <td>...</td>\n",
       "      <td>...</td>\n",
       "      <td>...</td>\n",
       "      <td>...</td>\n",
       "      <td>...</td>\n",
       "      <td>...</td>\n",
       "      <td>...</td>\n",
       "      <td>...</td>\n",
       "      <td>...</td>\n",
       "      <td>...</td>\n",
       "      <td>...</td>\n",
       "      <td>...</td>\n",
       "      <td>...</td>\n",
       "      <td>...</td>\n",
       "    </tr>\n",
       "    <tr>\n",
       "      <th>3209040</th>\n",
       "      <td>인천광역시 중구 항동7가</td>\n",
       "      <td>Feb-91</td>\n",
       "      <td>91</td>\n",
       "      <td>2.0</td>\n",
       "      <td>연안아파트</td>\n",
       "      <td>월세</td>\n",
       "      <td>53.66</td>\n",
       "      <td>202103</td>\n",
       "      <td>27</td>\n",
       "      <td>300</td>\n",
       "      <td>30</td>\n",
       "      <td>4.0</td>\n",
       "      <td>1983</td>\n",
       "      <td>축항대로 234</td>\n",
       "      <td>인천</td>\n",
       "    </tr>\n",
       "    <tr>\n",
       "      <th>3209041</th>\n",
       "      <td>인천광역시 중구 항동7가</td>\n",
       "      <td>Feb-91</td>\n",
       "      <td>91</td>\n",
       "      <td>2.0</td>\n",
       "      <td>연안아파트</td>\n",
       "      <td>월세</td>\n",
       "      <td>53.66</td>\n",
       "      <td>202103</td>\n",
       "      <td>31</td>\n",
       "      <td>100</td>\n",
       "      <td>30</td>\n",
       "      <td>2.0</td>\n",
       "      <td>1983</td>\n",
       "      <td>축항대로 234</td>\n",
       "      <td>인천</td>\n",
       "    </tr>\n",
       "    <tr>\n",
       "      <th>3209044</th>\n",
       "      <td>인천광역시 중구 항동7가</td>\n",
       "      <td>Feb-91</td>\n",
       "      <td>91</td>\n",
       "      <td>2.0</td>\n",
       "      <td>연안아파트</td>\n",
       "      <td>전세</td>\n",
       "      <td>53.66</td>\n",
       "      <td>202105</td>\n",
       "      <td>18</td>\n",
       "      <td>2,000</td>\n",
       "      <td>0</td>\n",
       "      <td>2.0</td>\n",
       "      <td>1983</td>\n",
       "      <td>축항대로 234</td>\n",
       "      <td>인천</td>\n",
       "    </tr>\n",
       "    <tr>\n",
       "      <th>3209045</th>\n",
       "      <td>인천광역시 중구 항동7가</td>\n",
       "      <td>Feb-91</td>\n",
       "      <td>91</td>\n",
       "      <td>2.0</td>\n",
       "      <td>연안아파트</td>\n",
       "      <td>월세</td>\n",
       "      <td>53.66</td>\n",
       "      <td>202105</td>\n",
       "      <td>28</td>\n",
       "      <td>200</td>\n",
       "      <td>20</td>\n",
       "      <td>4.0</td>\n",
       "      <td>1983</td>\n",
       "      <td>축항대로 234</td>\n",
       "      <td>인천</td>\n",
       "    </tr>\n",
       "    <tr>\n",
       "      <th>3209046</th>\n",
       "      <td>인천광역시 중구 항동7가</td>\n",
       "      <td>Feb-91</td>\n",
       "      <td>91</td>\n",
       "      <td>2.0</td>\n",
       "      <td>연안아파트</td>\n",
       "      <td>월세</td>\n",
       "      <td>53.66</td>\n",
       "      <td>202105</td>\n",
       "      <td>28</td>\n",
       "      <td>300</td>\n",
       "      <td>20</td>\n",
       "      <td>2.0</td>\n",
       "      <td>1983</td>\n",
       "      <td>축항대로 234</td>\n",
       "      <td>인천</td>\n",
       "    </tr>\n",
       "  </tbody>\n",
       "</table>\n",
       "<p>2922938 rows × 15 columns</p>\n",
       "</div>"
      ],
      "text/plain": [
       "                   시군구      번지     본번   부번             단지명 전월세구분  전용면적_미제  \\\n",
       "0        서울특별시 강남구 개포동   655-2  655.0  2.0  개포2차현대아파트(220)    전세    77.75   \n",
       "1        서울특별시 강남구 개포동   655-2  655.0  2.0  개포2차현대아파트(220)    전세    77.75   \n",
       "3        서울특별시 강남구 개포동   655-2  655.0  2.0  개포2차현대아파트(220)    전세    77.75   \n",
       "4        서울특별시 강남구 개포동   655-2  655.0  2.0  개포2차현대아파트(220)    전세    77.75   \n",
       "5        서울특별시 강남구 개포동   655-2  655.0  2.0  개포2차현대아파트(220)    전세    77.75   \n",
       "...                ...     ...    ...  ...             ...   ...      ...   \n",
       "3209040  인천광역시 중구 항동7가  Feb-91     91  2.0           연안아파트    월세    53.66   \n",
       "3209041  인천광역시 중구 항동7가  Feb-91     91  2.0           연안아파트    월세    53.66   \n",
       "3209044  인천광역시 중구 항동7가  Feb-91     91  2.0           연안아파트    전세    53.66   \n",
       "3209045  인천광역시 중구 항동7가  Feb-91     91  2.0           연안아파트    월세    53.66   \n",
       "3209046  인천광역시 중구 항동7가  Feb-91     91  2.0           연안아파트    월세    53.66   \n",
       "\n",
       "           계약년월  계약일     보증금  월세    층  건축년도       도로명  지역  \n",
       "0        201401   21  33,000   0  2.0  1988   언주로 103  서울  \n",
       "1        201405    9  39,000   0  9.0  1988   언주로 103  서울  \n",
       "3        201406   24  35,000   0  9.0  1988   언주로 103  서울  \n",
       "4        201407   31  37,000   0  3.0  1988   언주로 103  서울  \n",
       "5        201409    1  39,000   0  8.0  1988   언주로 103  서울  \n",
       "...         ...  ...     ...  ..  ...   ...       ...  ..  \n",
       "3209040  202103   27     300  30  4.0  1983  축항대로 234  인천  \n",
       "3209041  202103   31     100  30  2.0  1983  축항대로 234  인천  \n",
       "3209044  202105   18   2,000   0  2.0  1983  축항대로 234  인천  \n",
       "3209045  202105   28     200  20  4.0  1983  축항대로 234  인천  \n",
       "3209046  202105   28     300  20  2.0  1983  축항대로 234  인천  \n",
       "\n",
       "[2922938 rows x 15 columns]"
      ]
     },
     "execution_count": 13,
     "metadata": {},
     "output_type": "execute_result"
    }
   ],
   "source": [
    "# 전용면적에 결측치 발견(2개)\n",
    "del_idx = df_jeonwol[df_jeonwol.전용면적_미제.isna()==True].index\n",
    "\n",
    "# 삭제\n",
    "df_jeonwol = df_jeonwol.drop(del_idx)\n",
    "df_jeonwol"
   ]
  },
  {
   "cell_type": "markdown",
   "id": "34d4b449",
   "metadata": {
    "id": "34d4b449"
   },
   "source": [
    "### 6. `전용면적_미제`로부터 `전용면적_평` 변수 파생."
   ]
  },
  {
   "cell_type": "code",
   "execution_count": 14,
   "id": "2d7ff908",
   "metadata": {
    "id": "2d7ff908"
   },
   "outputs": [],
   "source": [
    "# 미터제곱 전용면적을 평수로 바꿔 변수로 저장\n",
    "def meterToPyeong(df):\n",
    "    df = df.copy()\n",
    "    df['전용면적_평'] = df['전용면적_미제'] / 3.305785\n",
    "    df['전용면적_평'] = df['전용면적_평'].round()\n",
    "    return df\n",
    "\n",
    "# 매매, 전월세 데이터에 각각 적용\n",
    "df_mae = meterToPyeong(df_mae)\n",
    "df_jeonwol = meterToPyeong(df_jeonwol)"
   ]
  },
  {
   "cell_type": "code",
   "execution_count": 15,
   "id": "2cb8e724",
   "metadata": {},
   "outputs": [
    {
     "data": {
      "text/plain": [
       "시군구           0\n",
       "번지         1286\n",
       "본번          177\n",
       "부번          177\n",
       "단지명           0\n",
       "전월세구분         0\n",
       "전용면적_미제       0\n",
       "계약년월          0\n",
       "계약일           0\n",
       "보증금           0\n",
       "월세            0\n",
       "층             0\n",
       "건축년도          0\n",
       "도로명           0\n",
       "지역            0\n",
       "전용면적_평        0\n",
       "dtype: int64"
      ]
     },
     "execution_count": 15,
     "metadata": {},
     "output_type": "execute_result"
    }
   ],
   "source": [
    "df_jeonwol.isna().sum()"
   ]
  },
  {
   "cell_type": "markdown",
   "id": "105bd6f0",
   "metadata": {
    "id": "105bd6f0"
   },
   "source": [
    "### 7.  `전용면적_미제` 올림처리"
   ]
  },
  {
   "cell_type": "code",
   "execution_count": 16,
   "id": "07faa6bd",
   "metadata": {
    "id": "07faa6bd"
   },
   "outputs": [],
   "source": [
    "def ceilArea(df):\n",
    "    df = df.copy()\n",
    "    df['전용면적_미제'] = df['전용면적_미제'].apply(lambda x: ceil(x))\n",
    "    df['전용면적_미제']\n",
    "\n",
    "    return df\n",
    "\n",
    "# 매매, 전월세 데이터에 각각 적용\n",
    "df_mae = ceilArea(df_mae)\n",
    "df_jeonwol = ceilArea(df_jeonwol)"
   ]
  },
  {
   "cell_type": "markdown",
   "id": "71e9f809",
   "metadata": {
    "id": "71e9f809"
   },
   "source": [
    "### 8. [도로명 주소 안내시스템 사이트](https://www.juso.go.kr/openIndexPage.do)에 들어가 도로명에 맞는 `본번`과 `부번`을 입력. \n",
    "- 검색은 직접해야합니다 ㅜㅜ.."
   ]
  },
  {
   "cell_type": "code",
   "execution_count": 17,
   "id": "53b785e2",
   "metadata": {
    "id": "53b785e2"
   },
   "outputs": [],
   "source": [
    "# 본번 부번 수정 함수\n",
    "def fillnaBonBu(df, keyword='매매'):\n",
    "    df = df.copy()\n",
    "    \n",
    "    # 본번이 00A2인 데이터 주소 찾아서 본번, 부번 채워넣기\n",
    "    df.loc[df['본번']=='00A2', '본번'] = '944'\n",
    "    df.loc[df['부번']=='00A2', '부번'] = '4'\n",
    "    df[df['단지명']=='캐슬앤파밀리에시티 2단지']\n",
    "    \n",
    "    #  결측치가 3개 밖에 없는데 다 같은 힐스테이트 서초 젠트리스에서 일어남. 따라서 fillna로 채워줌.\n",
    "    df.본번.fillna('577',inplace=True)\n",
    "    df.부번.fillna('0',inplace=True)\n",
    "    df[df['단지명']=='힐스테이트 서초 젠트리스']\n",
    "\n",
    "    \n",
    "    # 전월세데이터에는 00A1, 000C 라는 이상값이 있다. 찾아서 수정\n",
    "    if keyword == '전월세':\n",
    "        df.loc[df['본번']=='00A1', '본번'] = '1532'\n",
    "        df.loc[df['본번']=='00A1', '부번'] = '4'\n",
    "        \n",
    "        df.loc[df['본번']=='000C', '본번'] = '264'\n",
    "        df.loc[df['본번']=='000C', '부번'] = '4'\n",
    "\n",
    "    \n",
    "    df.본번 = df.본번.apply(lambda x: int(float(x)))\n",
    "    df.부번 = df.부번.apply(lambda x: int(float(x)))\n",
    "    return df\n",
    "\n",
    "# 매매, 전월세 데이터에 각각 적용\n",
    "df_mae = fillnaBonBu(df_mae)\n",
    "df_jeonwol = fillnaBonBu(df_jeonwol,'전월세')"
   ]
  },
  {
   "cell_type": "markdown",
   "id": "44c20084",
   "metadata": {
    "id": "44c20084"
   },
   "source": [
    "### 9. `본번`과 `부번`으로 `번지`를 파생 + `시군구`와 `번지`로 `지번주소` 변수 파생"
   ]
  },
  {
   "cell_type": "code",
   "execution_count": 18,
   "id": "470a90b0",
   "metadata": {
    "id": "470a90b0"
   },
   "outputs": [],
   "source": [
    "# 본번과 부번으로 번지수 파생시키는 함수.\n",
    "def bonbuToBeonji(df):\n",
    "    df = df.copy()\n",
    "    df['지번주소'] = 'NaN'\n",
    "    \n",
    "    df['본번'] = df['본번'].astype(str)\n",
    "    df['부번'] = df['부번'].astype(str)\n",
    "\n",
    "    df.loc[df.부번 == '0', '번지'] = df.본번\n",
    "    df.loc[df.부번 != '0', '번지'] = df.본번 + '-' + df.부번\n",
    "    df.지번주소 = df.시군구 + ' ' + df.번지\n",
    "    \n",
    "    return df\n",
    "\n",
    "# 매매, 전월세 데이터에 각각 적용\n",
    "df_mae = bonbuToBeonji(df_mae)\n",
    "df_jeonwol = bonbuToBeonji(df_jeonwol)"
   ]
  },
  {
   "cell_type": "markdown",
   "id": "0e5223a2",
   "metadata": {
    "id": "0e5223a2"
   },
   "source": [
    "### 10. 계약년월과 계약일로 `new_Date` 시계열변수와 `quater` 범주형변수 파생."
   ]
  },
  {
   "cell_type": "code",
   "execution_count": 19,
   "id": "ef106deb",
   "metadata": {
    "id": "ef106deb"
   },
   "outputs": [],
   "source": [
    "# 계약년월과 계약일로 시계열변수 new_Date\n",
    "def newdate(df):\n",
    "    df = df.copy()\n",
    "    \n",
    "    # Series 자료형을 Object로 변경\n",
    "    df['계약년월'] = df['계약년월'].astype('O')\n",
    "    df['계약일'] = df['계약일'].astype('O')\n",
    " \n",
    "    l = []                                         # new_Date 데이터를 담을 리스트\n",
    "    q = []                                         # quater 데이터를 담을 리스트\n",
    "    for i in range(len(df.index.values)):\n",
    "        year = str(df['계약년월'].iloc[i])[0:4]    # 년\n",
    "        month = str(df['계약년월'].iloc[i])[4:]    # 월\n",
    "        day = str(df['계약일'].iloc[i])            # 일\n",
    "        \n",
    "        # new_Date 리스트에 'yyyy-MM-dd' 형태로 데이터 추가\n",
    "        l.append(year+'-'+month+'-'+day)\n",
    "        \n",
    "        # month를 숫자로 바꿔서 부등호조건 활용해서 쿼터 나누고 리스트에 담기.\n",
    "        month = int(month)\n",
    "        if month < 4:\n",
    "            q.append(year+'_1Q')\n",
    "        elif month < 7:\n",
    "            q.append(year+'_2Q')\n",
    "        elif month < 10:\n",
    "            q.append(year+'_3Q')\n",
    "        elif month < 13:\n",
    "            q.append(year+'_4Q')\n",
    "            \n",
    "    # 파생변수 new_Date 생성        \n",
    "    df['new_Date'] = l\n",
    "    df['new_Date'] = pd.to_datetime(df['new_Date'])    # timestamp 자료형 전환\n",
    "    \n",
    "    # 파생변수 quater 생성\n",
    "    df['quater'] = q\n",
    "    \n",
    "    return df\n",
    "\n",
    "# 매매, 전월세 데이터에 각각 적용\n",
    "df_mae = newdate(df_mae)\n",
    "df_jeonwol = newdate(df_jeonwol)"
   ]
  },
  {
   "cell_type": "code",
   "execution_count": 20,
   "id": "0ec26602",
   "metadata": {
    "id": "0ec26602"
   },
   "outputs": [
    {
     "data": {
      "text/plain": [
       "시군구         0\n",
       "번지          0\n",
       "본번          0\n",
       "부번          0\n",
       "단지명         0\n",
       "전용면적_미제     0\n",
       "계약년월        0\n",
       "계약일         0\n",
       "거래금액        0\n",
       "층           0\n",
       "건축년도        0\n",
       "도로명         0\n",
       "지역          0\n",
       "전용면적_평      0\n",
       "지번주소        0\n",
       "new_Date    0\n",
       "quater      0\n",
       "dtype: int64"
      ]
     },
     "execution_count": 20,
     "metadata": {},
     "output_type": "execute_result"
    }
   ],
   "source": [
    "# 번,본,부 에서 생겼던 결측치 확인. 다 채워짐\n",
    "df_mae.isna().sum()"
   ]
  },
  {
   "cell_type": "markdown",
   "id": "455a8ade",
   "metadata": {
    "id": "455a8ade"
   },
   "source": [
    "### 11. `시군구`에서 `자치구_동` 파생"
   ]
  },
  {
   "cell_type": "code",
   "execution_count": null,
   "id": "0a057261",
   "metadata": {
    "id": "0a057261",
    "scrolled": true
   },
   "outputs": [],
   "source": [
    "# 자치구_동을 만드는 함수\n",
    "def makeDong(df):\n",
    "    df = df.copy()\n",
    "    df['자치구_동'] = 'NaN'\n",
    "\n",
    "    df['자치구_동'] = df['시군구'].str.split(' ').str[3]\n",
    "    df.loc[df['자치구_동'].isna() == True,'자치구_동'] = df['시군구'].str.split(' ').str[2]\n",
    "\n",
    "    return df\n",
    "\n",
    "# 매매, 전월세 데이터에 자치구_동 생성\n",
    "df_mae = makeDong(df_mae)\n",
    "df_jeonwol = makeDong(df_jeonwol)"
   ]
  },
  {
   "cell_type": "markdown",
   "id": "22196593",
   "metadata": {
    "id": "22196593"
   },
   "source": [
    "### 12. `거래금액` 백 만단위 수치형 변수로 변환"
   ]
  },
  {
   "cell_type": "code",
   "execution_count": null,
   "id": "a3e1fdd9",
   "metadata": {
    "id": "a3e1fdd9"
   },
   "outputs": [],
   "source": [
    "# 거래금액 백만원단위로 바꾸기\n",
    "def changeMillion(df, keyword='매매'):\n",
    "    df = df.copy()\n",
    "    if keyword == '매매':\n",
    "        df['거래금액'] = df['거래금액'].str.replace(',','')\n",
    "        df['거래금액'] = df['거래금액'].astype(int)\n",
    "        df['거래금액'] = df['거래금액']/100\n",
    "        \n",
    "    elif keyword == '전월세':\n",
    "#         df['월세'] = df['월세'].astype(str)\n",
    "#         for i in range(len(df.index.values)):\n",
    "#             if len(df.loc[i, '월세']) >= 4:\n",
    "#                 df['월세'][i] = df['월세'][i].replace(',','')\n",
    "#             else:\n",
    "#                 continue\n",
    "#         df['월세'] = df['월세'].astype(int)\n",
    "#         df['월세'] = df['월세']/100\n",
    "\n",
    "        df['보증금'] = df['보증금'].str.replace(',','')\n",
    "        df['보증금'] = df['보증금'].astype(int)\n",
    "        df['보증금'] = df['보증금']/100\n",
    "    return df\n",
    "df_mae = changeMillion(df_mae)\n",
    "df_jeonwol = changeMillion(df_jeonwol, '전월세')"
   ]
  },
  {
   "cell_type": "markdown",
   "id": "98a8fdf0",
   "metadata": {
    "id": "98a8fdf0"
   },
   "source": [
    "### 13. `도로명` 컬럼 제거"
   ]
  },
  {
   "cell_type": "code",
   "execution_count": null,
   "id": "2335cb33",
   "metadata": {
    "id": "2335cb33"
   },
   "outputs": [],
   "source": [
    "# 도로명 제거\n",
    "def removeDoro(df):\n",
    "    df = df.copy()\n",
    "    df.drop('도로명', axis=1, inplace=True)\n",
    "\n",
    "    return df\n",
    "\n",
    "df_mae = removeDoro(df_mae)\n",
    "df_jeonwol = removeDoro(df_jeonwol)"
   ]
  },
  {
   "cell_type": "markdown",
   "id": "cdad4229",
   "metadata": {},
   "source": [
    "### 14. `시군구`, `단지명`, `전용면적_그룹`로 `id` 변수 파생.\n",
    "**특정 id 삭제 & 번지수 통일**\n",
    "- 제거해야할 리스트  \n",
    "```\n",
    "'공릉동_삼익아파트_85',\n",
    " '관교동_신비마을_50',\n",
    " '길동_다성이즈빌_85',\n",
    " '부평동_로뎀레뷰_50',\n",
    " '부평동_투엠레뷰_50',\n",
    " '부평동_서린레이크_50',\n",
    " '수암동_엘리지움_85',\n",
    " '염창동_이너스내안에_85',\n",
    " '장곡동_숲속마을_60',\n",
    " '학익동_삼경_48',\n",
    " '화곡동_남광아파트_46'\n",
    " ```\n",
    "\n",
    "- 반송동 METAPOLIS -> 96번지로 통일\n",
    "- 중동 초당마을코아루 -> 1046번지로 통일\n",
    "\n",
    "**<제거방법>**  \n",
    "제거 아파트 리스트는 ID 기준을 `자치구_동` + `번지` + `단지명`으로 했을 때 발견한 데이터들이다.  \n",
    "본 프로젝트에서는 ID를 `시군구` + `번지` + `전용면적`으로 사용하기 때문에, 우선 기존의 ID를 생성하고  \n",
    "발견했던 ID의 데이터를 제거, 그리고 다시 ID를 바꿔준다."
   ]
  },
  {
   "cell_type": "code",
   "execution_count": null,
   "id": "84335cc1",
   "metadata": {},
   "outputs": [],
   "source": [
    "# 자치구_동, 번지, 단지명, 전용면적_미제로 id 변수 파생\n",
    "def makeID(df):\n",
    "    df = df.copy()\n",
    "    df['id'] = df.자치구_동 +'_'+ df.단지명 +'_'+ df.전용면적_미제.astype(str)\n",
    "    return df\n",
    "\n",
    "df_mae = makeID(df_mae)\n",
    "df_jeonwol = makeID(df_jeonwol)"
   ]
  },
  {
   "cell_type": "code",
   "execution_count": null,
   "id": "b49de052",
   "metadata": {},
   "outputs": [],
   "source": [
    "# 해당 리스트에 포함되는 데이터 제거\n",
    "l = ['공릉동_삼익아파트_85',\n",
    " '관교동_신비마을_50',\n",
    " '길동_다성이즈빌_85',\n",
    " '부평동_로뎀레뷰_50',\n",
    " '부평동_투엠레뷰_50',\n",
    " '부평동_서린레이크_50',\n",
    " '수암동_엘리지움_85',\n",
    " '염창동_이너스내안에_85',\n",
    " '장곡동_숲속마을_60',\n",
    " '학익동_삼경_48',\n",
    " '화곡동_남광아파트_46']\n",
    "\n",
    "df_mae = df_mae[df_mae.id.isin(l) == False]\n",
    "df_jeonwol = df_jeonwol[df_jeonwol.id.isin(l) ==False]"
   ]
  },
  {
   "cell_type": "code",
   "execution_count": null,
   "id": "4cab360a",
   "metadata": {
    "scrolled": true
   },
   "outputs": [],
   "source": [
    "# 번지수 변경\n",
    "df_mae.loc[(df_mae.단지명=='METAPOLIS') & (df_mae.자치구_동=='반송동'), '번지'] = 96\n",
    "df_mae.loc[(df_mae.단지명=='초당마을코아루') & (df_mae.자치구_동=='중동'), '번지'] = 1046\n",
    "df_jeonwol.loc[(df_jeonwol.단지명=='METAPOLIS') & (df_jeonwol.자치구_동=='반송동'), '번지'] = 96\n",
    "df_jeonwol.loc[(df_jeonwol.단지명=='초당마을코아루') & (df_jeonwol.자치구_동=='중동'), '번지'] = 1046"
   ]
  },
  {
   "cell_type": "code",
   "execution_count": null,
   "id": "1cac99a9",
   "metadata": {
    "id": "8e4699f5",
    "scrolled": true
   },
   "outputs": [],
   "source": [
    "# 시군구, 번지, 단지명, 전용면적_미제로 id 변수 파생\n",
    "def makeID(df):\n",
    "    df = df.copy()\n",
    "    df['id'] = df.시군구+'_'+ df.단지명 +'_'+ df.전용면적_미제.astype(str)\n",
    "    return df\n",
    "\n",
    "df_mae = makeID(df_mae)\n",
    "df_jeonwol = makeID(df_jeonwol)"
   ]
  },
  {
   "cell_type": "markdown",
   "id": "d01b126d",
   "metadata": {},
   "source": [
    "# 데이터 저장"
   ]
  },
  {
   "cell_type": "code",
   "execution_count": 35,
   "id": "1ed21437",
   "metadata": {},
   "outputs": [
    {
     "data": {
      "text/plain": [
       "(2034898, 18)"
      ]
     },
     "metadata": {},
     "output_type": "display_data"
    },
    {
     "data": {
      "text/plain": [
       "(2871564, 20)"
      ]
     },
     "metadata": {},
     "output_type": "display_data"
    },
    {
     "data": {
      "text/plain": [
       "(2034254, 18)"
      ]
     },
     "metadata": {},
     "output_type": "display_data"
    },
    {
     "data": {
      "text/plain": [
       "(2800639, 20)"
      ]
     },
     "metadata": {},
     "output_type": "display_data"
    }
   ],
   "source": [
    "dp()\n",
    "# 사전에 중복 데이터 제거\n",
    "df_mae.drop_duplicates(inplace=True)\n",
    "df_jeonwol.drop_duplicates(inplace=True)\n",
    "dp()"
   ]
  },
  {
   "cell_type": "code",
   "execution_count": 36,
   "id": "3426fb05",
   "metadata": {
    "id": "3426fb05"
   },
   "outputs": [],
   "source": [
    "from datetime import datetime\n",
    "\n",
    "# 오늘 날짜\n",
    "today = datetime.today().strftime(\"%m월%d일%H시%M분\")\n",
    "\n",
    "# '데이터_날짜' 형태로 csv 저장\n",
    "df_mae.to_csv('data/MasterMotherTable/df_mae_'+ today +'_1421.csv', index=False, encoding='utf-8-sig')\n",
    "df_jeonwol.to_csv('data/MasterMotherTable/df_jeonwol_'+ today +'_1421.csv',index=False, encoding='utf-8-sig')"
   ]
  }
 ],
 "metadata": {
  "colab": {
   "collapsed_sections": [],
   "name": "Master Table_1005_1.ipynb",
   "provenance": []
  },
  "kernelspec": {
   "display_name": "Python 3",
   "language": "python",
   "name": "python3"
  },
  "language_info": {
   "codemirror_mode": {
    "name": "ipython",
    "version": 3
   },
   "file_extension": ".py",
   "mimetype": "text/x-python",
   "name": "python",
   "nbconvert_exporter": "python",
   "pygments_lexer": "ipython3",
   "version": "3.8.10"
  }
 },
 "nbformat": 4,
 "nbformat_minor": 5
}
