{
 "cells": [
  {
   "cell_type": "code",
   "execution_count": 1,
   "id": "444fe773-76e8-431f-9e85-f4bbab5d2692",
   "metadata": {},
   "outputs": [],
   "source": [
    "import pandas as pd\n",
    "pd.set_option('display.max_rows', None)\n",
    "import time"
   ]
  },
  {
   "cell_type": "markdown",
   "id": "d57932a4",
   "metadata": {},
   "source": [
    "# 데이터 불러오기"
   ]
  },
  {
   "cell_type": "code",
   "execution_count": 14,
   "id": "deacb425",
   "metadata": {},
   "outputs": [
    {
     "name": "stderr",
     "output_type": "stream",
     "text": [
      "C:\\Users\\medici\\anaconda3\\lib\\site-packages\\IPython\\core\\interactiveshell.py:3165: DtypeWarning: Columns (3,5,6,7,9) have mixed types.Specify dtype option on import or set low_memory=False.\n",
      "  has_raised = await self.run_ast_nodes(code_ast.body, cell_name,\n"
     ]
    },
    {
     "data": {
      "text/plain": [
       "(216037, 12)"
      ]
     },
     "execution_count": 14,
     "metadata": {},
     "output_type": "execute_result"
    }
   ],
   "source": [
    "df = pd.read_csv(\"data/분양권/분양권_2020이전.csv\")\n",
    "df.shape"
   ]
  },
  {
   "cell_type": "code",
   "execution_count": 15,
   "id": "6c879ed2-6fb2-45c2-a5be-1f71fd0b31c6",
   "metadata": {},
   "outputs": [
    {
     "data": {
      "text/html": [
       "<div>\n",
       "<style scoped>\n",
       "    .dataframe tbody tr th:only-of-type {\n",
       "        vertical-align: middle;\n",
       "    }\n",
       "\n",
       "    .dataframe tbody tr th {\n",
       "        vertical-align: top;\n",
       "    }\n",
       "\n",
       "    .dataframe thead th {\n",
       "        text-align: right;\n",
       "    }\n",
       "</style>\n",
       "<table border=\"1\" class=\"dataframe\">\n",
       "  <thead>\n",
       "    <tr style=\"text-align: right;\">\n",
       "      <th></th>\n",
       "      <th>시군구</th>\n",
       "      <th>단지명</th>\n",
       "    </tr>\n",
       "  </thead>\n",
       "  <tbody>\n",
       "    <tr>\n",
       "      <th>0</th>\n",
       "      <td>서울특별시 강남구 개포동</td>\n",
       "      <td>디에이치 아너힐즈</td>\n",
       "    </tr>\n",
       "    <tr>\n",
       "      <th>11</th>\n",
       "      <td>서울특별시 강남구 개포동</td>\n",
       "      <td>래미안 블레스티지</td>\n",
       "    </tr>\n",
       "    <tr>\n",
       "      <th>116</th>\n",
       "      <td>서울특별시 강남구 대치동</td>\n",
       "      <td>대치 SK VIEW</td>\n",
       "    </tr>\n",
       "    <tr>\n",
       "      <th>134</th>\n",
       "      <td>서울특별시 강남구 대치동</td>\n",
       "      <td>래미안대치청실</td>\n",
       "    </tr>\n",
       "    <tr>\n",
       "      <th>136</th>\n",
       "      <td>서울특별시 강남구 대치동</td>\n",
       "      <td>현대썬앤빌 테헤란</td>\n",
       "    </tr>\n",
       "  </tbody>\n",
       "</table>\n",
       "</div>"
      ],
      "text/plain": [
       "               시군구         단지명\n",
       "0    서울특별시 강남구 개포동   디에이치 아너힐즈\n",
       "11   서울특별시 강남구 개포동   래미안 블레스티지\n",
       "116  서울특별시 강남구 대치동  대치 SK VIEW\n",
       "134  서울특별시 강남구 대치동     래미안대치청실\n",
       "136  서울특별시 강남구 대치동   현대썬앤빌 테헤란"
      ]
     },
     "execution_count": 15,
     "metadata": {},
     "output_type": "execute_result"
    }
   ],
   "source": [
    "# 시군구 단지명만 리스트 가져오기\n",
    "sidan = df[['시군구', '단지명']]\n",
    "sidan = sidan.drop_duplicates()\n",
    "sidan = pd.DataFrame(sidan)\n",
    "sidan.head()"
   ]
  },
  {
   "cell_type": "code",
   "execution_count": 16,
   "id": "88eac796-daaa-442a-91ba-cf0077fed95c",
   "metadata": {},
   "outputs": [
    {
     "data": {
      "text/html": [
       "<div>\n",
       "<style scoped>\n",
       "    .dataframe tbody tr th:only-of-type {\n",
       "        vertical-align: middle;\n",
       "    }\n",
       "\n",
       "    .dataframe tbody tr th {\n",
       "        vertical-align: top;\n",
       "    }\n",
       "\n",
       "    .dataframe thead th {\n",
       "        text-align: right;\n",
       "    }\n",
       "</style>\n",
       "<table border=\"1\" class=\"dataframe\">\n",
       "  <thead>\n",
       "    <tr style=\"text-align: right;\">\n",
       "      <th></th>\n",
       "      <th>시군구</th>\n",
       "      <th>단지명</th>\n",
       "    </tr>\n",
       "  </thead>\n",
       "  <tbody>\n",
       "    <tr>\n",
       "      <th>0</th>\n",
       "      <td>경기도 고양덕양구 고양동</td>\n",
       "      <td>고양동우방유쉘아파트</td>\n",
       "    </tr>\n",
       "    <tr>\n",
       "      <th>1</th>\n",
       "      <td>경기도 고양덕양구 고양동</td>\n",
       "      <td>삼성</td>\n",
       "    </tr>\n",
       "    <tr>\n",
       "      <th>2</th>\n",
       "      <td>경기도 고양덕양구 고양동</td>\n",
       "      <td>윤창</td>\n",
       "    </tr>\n",
       "    <tr>\n",
       "      <th>3</th>\n",
       "      <td>경기도 고양덕양구 고양동</td>\n",
       "      <td>청구</td>\n",
       "    </tr>\n",
       "    <tr>\n",
       "      <th>4</th>\n",
       "      <td>경기도 고양덕양구 고양동</td>\n",
       "      <td>푸른마을 10단지</td>\n",
       "    </tr>\n",
       "  </tbody>\n",
       "</table>\n",
       "</div>"
      ],
      "text/plain": [
       "             시군구         단지명\n",
       "0  경기도 고양덕양구 고양동  고양동우방유쉘아파트\n",
       "1  경기도 고양덕양구 고양동          삼성\n",
       "2  경기도 고양덕양구 고양동          윤창\n",
       "3  경기도 고양덕양구 고양동          청구\n",
       "4  경기도 고양덕양구 고양동   푸른마을 10단지"
      ]
     },
     "execution_count": 16,
     "metadata": {},
     "output_type": "execute_result"
    }
   ],
   "source": [
    "# 매매 시군구_단지명 불러오기\n",
    "mae_sidan = pd.read_csv('data/etc/시군구_단지명.csv')\n",
    "mae_sidan.head()"
   ]
  },
  {
   "cell_type": "code",
   "execution_count": 17,
   "id": "f31fb941-fbf1-4a60-ba14-eddf4a84b8b9",
   "metadata": {},
   "outputs": [
    {
     "data": {
      "text/html": [
       "<div>\n",
       "<style scoped>\n",
       "    .dataframe tbody tr th:only-of-type {\n",
       "        vertical-align: middle;\n",
       "    }\n",
       "\n",
       "    .dataframe tbody tr th {\n",
       "        vertical-align: top;\n",
       "    }\n",
       "\n",
       "    .dataframe thead th {\n",
       "        text-align: right;\n",
       "    }\n",
       "</style>\n",
       "<table border=\"1\" class=\"dataframe\">\n",
       "  <thead>\n",
       "    <tr style=\"text-align: right;\">\n",
       "      <th></th>\n",
       "      <th>시군구</th>\n",
       "      <th>단지명</th>\n",
       "    </tr>\n",
       "  </thead>\n",
       "  <tbody>\n",
       "    <tr>\n",
       "      <th>0</th>\n",
       "      <td>서울특별시 강남구 개포동</td>\n",
       "      <td>디에이치 아너힐즈</td>\n",
       "    </tr>\n",
       "    <tr>\n",
       "      <th>8196</th>\n",
       "      <td>서울특별시 송파구 장지동</td>\n",
       "      <td>위례중앙푸르지오1단지 (BL5)</td>\n",
       "    </tr>\n",
       "    <tr>\n",
       "      <th>59398</th>\n",
       "      <td>경기도 화성시 장지동</td>\n",
       "      <td>동탄 자이파밀리에</td>\n",
       "    </tr>\n",
       "    <tr>\n",
       "      <th>163847</th>\n",
       "      <td>경기도 성남분당구 대장동</td>\n",
       "      <td>판교 퍼스트힐 푸르지오 A2BL</td>\n",
       "    </tr>\n",
       "    <tr>\n",
       "      <th>163848</th>\n",
       "      <td>경기도 성남분당구 대장동</td>\n",
       "      <td>판교대장A6 힐스테이트 판교 엘포레</td>\n",
       "    </tr>\n",
       "  </tbody>\n",
       "</table>\n",
       "</div>"
      ],
      "text/plain": [
       "                  시군구                  단지명\n",
       "0       서울특별시 강남구 개포동            디에이치 아너힐즈\n",
       "8196    서울특별시 송파구 장지동    위례중앙푸르지오1단지 (BL5)\n",
       "59398     경기도 화성시 장지동           동탄 자이파밀리에 \n",
       "163847  경기도 성남분당구 대장동    판교 퍼스트힐 푸르지오 A2BL\n",
       "163848  경기도 성남분당구 대장동  판교대장A6 힐스테이트 판교 엘포레"
      ]
     },
     "execution_count": 17,
     "metadata": {},
     "output_type": "execute_result"
    }
   ],
   "source": [
    "# 매매 시군구_단지명 테이블을 리스트로 변경\n",
    "mae_sidan_list = mae_sidan.values.tolist()\n",
    "# 제외리스트\n",
    "dropped = []\n",
    "\n",
    "for si, dan in mae_sidan_list:\n",
    "    check = sidan[(sidan.시군구 == si) & (sidan.단지명 == dan)]\n",
    "    # 데이터가 하나라도 있다면\n",
    "    if check.shape[0] > 0:\n",
    "        # 그 시군구, 단지명 인덱스를 저장\n",
    "        idx = check.index.tolist()\n",
    "        # 제외리스트에 담기\n",
    "        dropped.extend(idx)\n",
    "        \n",
    "# 전체 성현의 몫 인덱스에서 제외리스트를 뺀다면 그 나머지만 하면 됨.\n",
    "leftover = set(sidan.index.tolist()) - set(dropped)\n",
    "# sh_new = sh.loc[leftover]\n",
    "sidan_new = sidan.loc[leftover]\n",
    "# sh_new\n",
    "sidan_new.head()"
   ]
  },
  {
   "cell_type": "code",
   "execution_count": 18,
   "id": "1a956c6d",
   "metadata": {},
   "outputs": [],
   "source": [
    "df.replace({'단지명':'디에이치 아너힐즈'},{'단지명':'디에이치아너힐즈'}, inplace=True)\n",
    "df.replace({'단지명':'래미안 블레스티지'},{'단지명':'래미안블레스티지'}, inplace=True)\n",
    "df.replace({'단지명':'도곡 한라비발디'},{'단지명':'한라비발디'}, inplace=True)\n",
    "df.replace({'단지명':'삼성동 센트럴 IPARK '},{'단지명':'삼성동센트럴아이파크'}, inplace=True)\n",
    "df.replace({'단지명':'강남더샵포레스트'},{'단지명':'강남 더샵 포레스트'}, inplace=True)\n",
    "df.replace({'단지명':'삼성동 센트럴 IPARK '},{'단지명':'삼성동센트럴아이파크'}, inplace=True)\n",
    "df.replace({'단지명':'래미안 루체하임'},{'단지명':'래미안 개포 루체하임'}, inplace=True)\n",
    "df.replace({'단지명':'청담 린든그로브'},{'단지명':'청담린든그로브'}, inplace=True)\n",
    "df.replace({'단지명':'래미안 루체하임'},{'단지명':'래미안 개포 루체하임'}, inplace=True)\n",
    "df.replace({'단지명':'고덕 그라시움'},{'단지명':'고덕그라시움'}, inplace=True)\n",
    "df.replace({'단지명':'고덕숲 I PARK '},{'단지명':'고덕숲아이파크'}, inplace=True)\n",
    "df.replace({'단지명':'성내 올림픽파크 한양수자인'},{'단지명':'올림픽파크한양수자인'}, inplace=True)\n",
    "df.replace({'단지명':'꿈의숲롯데캐슬(미아4구역)'},{'단지명':'꿈의숲롯데캐슬'}, inplace=True)\n",
    "df.replace({'단지명':'수유 프리미어엠 주상복합 도시형생활주택'},{'단지명':'수유프리미어엠'}, inplace=True)\n",
    "df.replace({'단지명':'고덕숲 I PARK '},{'단지명':'고덕숲아이파크'}, inplace=True)\n",
    "df.replace({'단지명':'마곡힐스테이트마스터(13단지)'},{'단지명':'마곡13단지힐스테이트마스터'}, inplace=True)\n",
    "df.replace({'단지명':'e편한세상 염창 (서울)'},{'단지명':'e편한세상 염창'}, inplace=True)\n",
    "df.replace({'단지명':'e편한세상 서울대입구2차'},{'단지명':'e편한세상 서울대입구 2단지'}, inplace=True)"
   ]
  },
  {
   "cell_type": "markdown",
   "id": "17cf47d5",
   "metadata": {},
   "source": [
    "# 분양권 이름 변경"
   ]
  },
  {
   "cell_type": "code",
   "execution_count": 19,
   "id": "f8c8c4ea-4c78-49ad-824a-0edb21ccdfe0",
   "metadata": {},
   "outputs": [],
   "source": [
    "# 분양권 이름 변경 함수\n",
    "def changeWord(before, after):\n",
    "    \n",
    "    condition = sidan_new[sidan_new.단지명 == before]\n",
    "    \n",
    "    # 같은 이름의 단지가 있다면 시군구를 추가로 입력하여 해당 단지만 이름을 바꾸기\n",
    "    if condition.shape[0] >1:\n",
    "        print('개수가 1개 이상입니다.')\n",
    "        display(condition)\n",
    "        sgg = input('시군구를 입력해주세요')\n",
    "        \n",
    "        df.loc[(df.시군구==sgg) & (df.단지명 == before), '단지명'] = after\n",
    "        sidan_new.loc[(sidan_new.시군구==sgg) & (sidan_new.단지명==before), '단지명'] = after\n",
    "        \n",
    "        시군구단지명 = sidan_new[['시군구', '단지명']]\n",
    "        시군구단지명 = 시군구단지명.drop_duplicates()\n",
    "        시군구단지명 = 시군구단지명.sort_values(['시군구', '단지명'])\n",
    "        display(시군구단지명[시군구단지명.단지명.isin(excepted) == False].shape)\n",
    "        \n",
    "    else:\n",
    "        # 단지명 대체\n",
    "        df.replace({'단지명': before},{'단지명': after}, inplace=True)\n",
    "        sidan_new.replace({'단지명': before},{'단지명': after}, inplace=True)\n",
    "        # 대체한 단지명 목록 저장\n",
    "        change_dir[before] = after\n",
    "\n",
    "\n",
    "        # 대체 후 시군구, 단지명\n",
    "        시군구단지명 = sidan_new[['시군구', '단지명']]\n",
    "        시군구단지명 = 시군구단지명.drop_duplicates()\n",
    "        시군구단지명 = 시군구단지명.sort_values(['시군구', '단지명'])\n",
    "\n",
    "        excepted.append(after)\n",
    "        \n",
    "        # 변경한 단지를 제외하고 남은 테이블을 출력하여 이어서 제거작업을 할 수 있게!\n",
    "        display(시군구단지명[시군구단지명.단지명.isin(excepted) == False].shape)\n",
    "    return"
   ]
  },
  {
   "cell_type": "code",
   "execution_count": 20,
   "id": "83ef4896-6564-4a2f-8e30-66ff26f2f806",
   "metadata": {},
   "outputs": [],
   "source": [
    "change_dir = {} # 바뀐 단지명 목록\n",
    "excepted = []   # 바뀐 단지명 리스트"
   ]
  },
  {
   "cell_type": "code",
   "execution_count": 22,
   "id": "f8f54504-0d49-4f4b-bed9-b46dfba0fb44",
   "metadata": {
    "tags": []
   },
   "outputs": [
    {
     "data": {
      "text/plain": [
       "(1017, 2)"
      ]
     },
     "metadata": {},
     "output_type": "display_data"
    },
    {
     "data": {
      "text/plain": [
       "(1017, 2)"
      ]
     },
     "metadata": {},
     "output_type": "display_data"
    },
    {
     "data": {
      "text/plain": [
       "(1017, 2)"
      ]
     },
     "metadata": {},
     "output_type": "display_data"
    },
    {
     "data": {
      "text/plain": [
       "(1017, 2)"
      ]
     },
     "metadata": {},
     "output_type": "display_data"
    },
    {
     "data": {
      "text/plain": [
       "(1017, 2)"
      ]
     },
     "metadata": {},
     "output_type": "display_data"
    },
    {
     "data": {
      "text/plain": [
       "(1017, 2)"
      ]
     },
     "metadata": {},
     "output_type": "display_data"
    },
    {
     "data": {
      "text/plain": [
       "(1017, 2)"
      ]
     },
     "metadata": {},
     "output_type": "display_data"
    },
    {
     "data": {
      "text/plain": [
       "(1017, 2)"
      ]
     },
     "metadata": {},
     "output_type": "display_data"
    },
    {
     "data": {
      "text/plain": [
       "(1017, 2)"
      ]
     },
     "metadata": {},
     "output_type": "display_data"
    },
    {
     "data": {
      "text/plain": [
       "(1017, 2)"
      ]
     },
     "metadata": {},
     "output_type": "display_data"
    },
    {
     "data": {
      "text/plain": [
       "(1017, 2)"
      ]
     },
     "metadata": {},
     "output_type": "display_data"
    },
    {
     "data": {
      "text/plain": [
       "(1017, 2)"
      ]
     },
     "metadata": {},
     "output_type": "display_data"
    },
    {
     "data": {
      "text/plain": [
       "(1017, 2)"
      ]
     },
     "metadata": {},
     "output_type": "display_data"
    },
    {
     "data": {
      "text/plain": [
       "(1017, 2)"
      ]
     },
     "metadata": {},
     "output_type": "display_data"
    },
    {
     "data": {
      "text/plain": [
       "(1017, 2)"
      ]
     },
     "metadata": {},
     "output_type": "display_data"
    },
    {
     "data": {
      "text/plain": [
       "(1017, 2)"
      ]
     },
     "metadata": {},
     "output_type": "display_data"
    },
    {
     "data": {
      "text/plain": [
       "(1017, 2)"
      ]
     },
     "metadata": {},
     "output_type": "display_data"
    },
    {
     "data": {
      "text/plain": [
       "(1017, 2)"
      ]
     },
     "metadata": {},
     "output_type": "display_data"
    },
    {
     "data": {
      "text/plain": [
       "(1017, 2)"
      ]
     },
     "metadata": {},
     "output_type": "display_data"
    },
    {
     "data": {
      "text/plain": [
       "(1017, 2)"
      ]
     },
     "metadata": {},
     "output_type": "display_data"
    },
    {
     "data": {
      "text/plain": [
       "(1017, 2)"
      ]
     },
     "metadata": {},
     "output_type": "display_data"
    },
    {
     "data": {
      "text/plain": [
       "(1017, 2)"
      ]
     },
     "metadata": {},
     "output_type": "display_data"
    },
    {
     "data": {
      "text/plain": [
       "(1017, 2)"
      ]
     },
     "metadata": {},
     "output_type": "display_data"
    },
    {
     "data": {
      "text/plain": [
       "(1017, 2)"
      ]
     },
     "metadata": {},
     "output_type": "display_data"
    },
    {
     "data": {
      "text/plain": [
       "(1017, 2)"
      ]
     },
     "metadata": {},
     "output_type": "display_data"
    },
    {
     "data": {
      "text/plain": [
       "(1017, 2)"
      ]
     },
     "metadata": {},
     "output_type": "display_data"
    },
    {
     "data": {
      "text/plain": [
       "(1017, 2)"
      ]
     },
     "metadata": {},
     "output_type": "display_data"
    },
    {
     "data": {
      "text/plain": [
       "(1017, 2)"
      ]
     },
     "metadata": {},
     "output_type": "display_data"
    },
    {
     "data": {
      "text/plain": [
       "(1017, 2)"
      ]
     },
     "metadata": {},
     "output_type": "display_data"
    },
    {
     "data": {
      "text/plain": [
       "(1017, 2)"
      ]
     },
     "metadata": {},
     "output_type": "display_data"
    },
    {
     "data": {
      "text/plain": [
       "(1017, 2)"
      ]
     },
     "metadata": {},
     "output_type": "display_data"
    },
    {
     "data": {
      "text/plain": [
       "(1017, 2)"
      ]
     },
     "metadata": {},
     "output_type": "display_data"
    },
    {
     "data": {
      "text/plain": [
       "(1017, 2)"
      ]
     },
     "metadata": {},
     "output_type": "display_data"
    },
    {
     "data": {
      "text/plain": [
       "(1017, 2)"
      ]
     },
     "metadata": {},
     "output_type": "display_data"
    },
    {
     "data": {
      "text/plain": [
       "(1017, 2)"
      ]
     },
     "metadata": {},
     "output_type": "display_data"
    },
    {
     "data": {
      "text/plain": [
       "(1017, 2)"
      ]
     },
     "metadata": {},
     "output_type": "display_data"
    },
    {
     "data": {
      "text/plain": [
       "(1017, 2)"
      ]
     },
     "metadata": {},
     "output_type": "display_data"
    },
    {
     "data": {
      "text/plain": [
       "(1017, 2)"
      ]
     },
     "metadata": {},
     "output_type": "display_data"
    },
    {
     "data": {
      "text/plain": [
       "(1017, 2)"
      ]
     },
     "metadata": {},
     "output_type": "display_data"
    },
    {
     "data": {
      "text/plain": [
       "(1017, 2)"
      ]
     },
     "metadata": {},
     "output_type": "display_data"
    },
    {
     "data": {
      "text/plain": [
       "(1017, 2)"
      ]
     },
     "metadata": {},
     "output_type": "display_data"
    },
    {
     "data": {
      "text/plain": [
       "(1017, 2)"
      ]
     },
     "metadata": {},
     "output_type": "display_data"
    },
    {
     "data": {
      "text/plain": [
       "(1017, 2)"
      ]
     },
     "metadata": {},
     "output_type": "display_data"
    },
    {
     "data": {
      "text/plain": [
       "(1017, 2)"
      ]
     },
     "metadata": {},
     "output_type": "display_data"
    },
    {
     "data": {
      "text/plain": [
       "(1017, 2)"
      ]
     },
     "metadata": {},
     "output_type": "display_data"
    },
    {
     "data": {
      "text/plain": [
       "(1017, 2)"
      ]
     },
     "metadata": {},
     "output_type": "display_data"
    },
    {
     "data": {
      "text/plain": [
       "(1017, 2)"
      ]
     },
     "metadata": {},
     "output_type": "display_data"
    },
    {
     "data": {
      "text/plain": [
       "(1017, 2)"
      ]
     },
     "metadata": {},
     "output_type": "display_data"
    },
    {
     "data": {
      "text/plain": [
       "(1017, 2)"
      ]
     },
     "metadata": {},
     "output_type": "display_data"
    },
    {
     "data": {
      "text/plain": [
       "(1017, 2)"
      ]
     },
     "metadata": {},
     "output_type": "display_data"
    },
    {
     "data": {
      "text/plain": [
       "(1017, 2)"
      ]
     },
     "metadata": {},
     "output_type": "display_data"
    },
    {
     "data": {
      "text/plain": [
       "(1017, 2)"
      ]
     },
     "metadata": {},
     "output_type": "display_data"
    },
    {
     "data": {
      "text/plain": [
       "(1017, 2)"
      ]
     },
     "metadata": {},
     "output_type": "display_data"
    },
    {
     "data": {
      "text/plain": [
       "(1017, 2)"
      ]
     },
     "metadata": {},
     "output_type": "display_data"
    },
    {
     "data": {
      "text/plain": [
       "(1017, 2)"
      ]
     },
     "metadata": {},
     "output_type": "display_data"
    },
    {
     "data": {
      "text/plain": [
       "(1017, 2)"
      ]
     },
     "metadata": {},
     "output_type": "display_data"
    },
    {
     "data": {
      "text/plain": [
       "(1017, 2)"
      ]
     },
     "metadata": {},
     "output_type": "display_data"
    },
    {
     "data": {
      "text/plain": [
       "(1017, 2)"
      ]
     },
     "metadata": {},
     "output_type": "display_data"
    },
    {
     "data": {
      "text/plain": [
       "(1017, 2)"
      ]
     },
     "metadata": {},
     "output_type": "display_data"
    },
    {
     "data": {
      "text/plain": [
       "(1017, 2)"
      ]
     },
     "metadata": {},
     "output_type": "display_data"
    },
    {
     "data": {
      "text/plain": [
       "(1017, 2)"
      ]
     },
     "metadata": {},
     "output_type": "display_data"
    },
    {
     "data": {
      "text/plain": [
       "(1017, 2)"
      ]
     },
     "metadata": {},
     "output_type": "display_data"
    },
    {
     "data": {
      "text/plain": [
       "(1017, 2)"
      ]
     },
     "metadata": {},
     "output_type": "display_data"
    },
    {
     "data": {
      "text/plain": [
       "(1017, 2)"
      ]
     },
     "metadata": {},
     "output_type": "display_data"
    },
    {
     "data": {
      "text/plain": [
       "(1017, 2)"
      ]
     },
     "metadata": {},
     "output_type": "display_data"
    },
    {
     "data": {
      "text/plain": [
       "(1017, 2)"
      ]
     },
     "metadata": {},
     "output_type": "display_data"
    },
    {
     "data": {
      "text/plain": [
       "(1017, 2)"
      ]
     },
     "metadata": {},
     "output_type": "display_data"
    },
    {
     "data": {
      "text/plain": [
       "(1017, 2)"
      ]
     },
     "metadata": {},
     "output_type": "display_data"
    },
    {
     "data": {
      "text/plain": [
       "(1017, 2)"
      ]
     },
     "metadata": {},
     "output_type": "display_data"
    },
    {
     "data": {
      "text/plain": [
       "(1017, 2)"
      ]
     },
     "metadata": {},
     "output_type": "display_data"
    },
    {
     "data": {
      "text/plain": [
       "(1015, 2)"
      ]
     },
     "metadata": {},
     "output_type": "display_data"
    },
    {
     "data": {
      "text/plain": [
       "(1015, 2)"
      ]
     },
     "metadata": {},
     "output_type": "display_data"
    },
    {
     "data": {
      "text/plain": [
       "(1015, 2)"
      ]
     },
     "metadata": {},
     "output_type": "display_data"
    },
    {
     "data": {
      "text/plain": [
       "(1015, 2)"
      ]
     },
     "metadata": {},
     "output_type": "display_data"
    },
    {
     "data": {
      "text/plain": [
       "(1015, 2)"
      ]
     },
     "metadata": {},
     "output_type": "display_data"
    },
    {
     "data": {
      "text/plain": [
       "(1015, 2)"
      ]
     },
     "metadata": {},
     "output_type": "display_data"
    },
    {
     "data": {
      "text/plain": [
       "(1015, 2)"
      ]
     },
     "metadata": {},
     "output_type": "display_data"
    },
    {
     "data": {
      "text/plain": [
       "(1015, 2)"
      ]
     },
     "metadata": {},
     "output_type": "display_data"
    },
    {
     "data": {
      "text/plain": [
       "(1015, 2)"
      ]
     },
     "metadata": {},
     "output_type": "display_data"
    },
    {
     "data": {
      "text/plain": [
       "(1015, 2)"
      ]
     },
     "metadata": {},
     "output_type": "display_data"
    },
    {
     "data": {
      "text/plain": [
       "(1015, 2)"
      ]
     },
     "metadata": {},
     "output_type": "display_data"
    },
    {
     "data": {
      "text/plain": [
       "(1015, 2)"
      ]
     },
     "metadata": {},
     "output_type": "display_data"
    },
    {
     "data": {
      "text/plain": [
       "(1015, 2)"
      ]
     },
     "metadata": {},
     "output_type": "display_data"
    },
    {
     "data": {
      "text/plain": [
       "(1014, 2)"
      ]
     },
     "metadata": {},
     "output_type": "display_data"
    },
    {
     "data": {
      "text/plain": [
       "(1014, 2)"
      ]
     },
     "metadata": {},
     "output_type": "display_data"
    },
    {
     "data": {
      "text/plain": [
       "(1013, 2)"
      ]
     },
     "metadata": {},
     "output_type": "display_data"
    },
    {
     "data": {
      "text/plain": [
       "(1012, 2)"
      ]
     },
     "metadata": {},
     "output_type": "display_data"
    },
    {
     "data": {
      "text/plain": [
       "(1011, 2)"
      ]
     },
     "metadata": {},
     "output_type": "display_data"
    },
    {
     "data": {
      "text/plain": [
       "(1010, 2)"
      ]
     },
     "metadata": {},
     "output_type": "display_data"
    },
    {
     "data": {
      "text/plain": [
       "(1009, 2)"
      ]
     },
     "metadata": {},
     "output_type": "display_data"
    },
    {
     "data": {
      "text/plain": [
       "(1008, 2)"
      ]
     },
     "metadata": {},
     "output_type": "display_data"
    },
    {
     "data": {
      "text/plain": [
       "(1007, 2)"
      ]
     },
     "metadata": {},
     "output_type": "display_data"
    },
    {
     "data": {
      "text/plain": [
       "(1006, 2)"
      ]
     },
     "metadata": {},
     "output_type": "display_data"
    },
    {
     "data": {
      "text/plain": [
       "(1005, 2)"
      ]
     },
     "metadata": {},
     "output_type": "display_data"
    },
    {
     "data": {
      "text/plain": [
       "(1004, 2)"
      ]
     },
     "metadata": {},
     "output_type": "display_data"
    },
    {
     "data": {
      "text/plain": [
       "(1003, 2)"
      ]
     },
     "metadata": {},
     "output_type": "display_data"
    },
    {
     "data": {
      "text/plain": [
       "(1002, 2)"
      ]
     },
     "metadata": {},
     "output_type": "display_data"
    },
    {
     "data": {
      "text/plain": [
       "(1001, 2)"
      ]
     },
     "metadata": {},
     "output_type": "display_data"
    },
    {
     "data": {
      "text/plain": [
       "(1000, 2)"
      ]
     },
     "metadata": {},
     "output_type": "display_data"
    },
    {
     "data": {
      "text/plain": [
       "(999, 2)"
      ]
     },
     "metadata": {},
     "output_type": "display_data"
    },
    {
     "data": {
      "text/plain": [
       "(998, 2)"
      ]
     },
     "metadata": {},
     "output_type": "display_data"
    },
    {
     "data": {
      "text/plain": [
       "(997, 2)"
      ]
     },
     "metadata": {},
     "output_type": "display_data"
    },
    {
     "data": {
      "text/plain": [
       "(996, 2)"
      ]
     },
     "metadata": {},
     "output_type": "display_data"
    },
    {
     "data": {
      "text/plain": [
       "(995, 2)"
      ]
     },
     "metadata": {},
     "output_type": "display_data"
    },
    {
     "data": {
      "text/plain": [
       "(994, 2)"
      ]
     },
     "metadata": {},
     "output_type": "display_data"
    },
    {
     "data": {
      "text/plain": [
       "(993, 2)"
      ]
     },
     "metadata": {},
     "output_type": "display_data"
    },
    {
     "data": {
      "text/plain": [
       "(992, 2)"
      ]
     },
     "metadata": {},
     "output_type": "display_data"
    },
    {
     "data": {
      "text/plain": [
       "(991, 2)"
      ]
     },
     "metadata": {},
     "output_type": "display_data"
    },
    {
     "data": {
      "text/plain": [
       "(990, 2)"
      ]
     },
     "metadata": {},
     "output_type": "display_data"
    },
    {
     "data": {
      "text/plain": [
       "(989, 2)"
      ]
     },
     "metadata": {},
     "output_type": "display_data"
    },
    {
     "data": {
      "text/plain": [
       "(988, 2)"
      ]
     },
     "metadata": {},
     "output_type": "display_data"
    },
    {
     "data": {
      "text/plain": [
       "(987, 2)"
      ]
     },
     "metadata": {},
     "output_type": "display_data"
    },
    {
     "data": {
      "text/plain": [
       "(986, 2)"
      ]
     },
     "metadata": {},
     "output_type": "display_data"
    },
    {
     "data": {
      "text/plain": [
       "(985, 2)"
      ]
     },
     "metadata": {},
     "output_type": "display_data"
    },
    {
     "data": {
      "text/plain": [
       "(984, 2)"
      ]
     },
     "metadata": {},
     "output_type": "display_data"
    },
    {
     "data": {
      "text/plain": [
       "(983, 2)"
      ]
     },
     "metadata": {},
     "output_type": "display_data"
    },
    {
     "data": {
      "text/plain": [
       "(982, 2)"
      ]
     },
     "metadata": {},
     "output_type": "display_data"
    },
    {
     "data": {
      "text/plain": [
       "(981, 2)"
      ]
     },
     "metadata": {},
     "output_type": "display_data"
    },
    {
     "data": {
      "text/plain": [
       "(980, 2)"
      ]
     },
     "metadata": {},
     "output_type": "display_data"
    },
    {
     "data": {
      "text/plain": [
       "(979, 2)"
      ]
     },
     "metadata": {},
     "output_type": "display_data"
    },
    {
     "data": {
      "text/plain": [
       "(978, 2)"
      ]
     },
     "metadata": {},
     "output_type": "display_data"
    },
    {
     "data": {
      "text/plain": [
       "(977, 2)"
      ]
     },
     "metadata": {},
     "output_type": "display_data"
    },
    {
     "data": {
      "text/plain": [
       "(976, 2)"
      ]
     },
     "metadata": {},
     "output_type": "display_data"
    },
    {
     "data": {
      "text/plain": [
       "(975, 2)"
      ]
     },
     "metadata": {},
     "output_type": "display_data"
    },
    {
     "data": {
      "text/plain": [
       "(974, 2)"
      ]
     },
     "metadata": {},
     "output_type": "display_data"
    },
    {
     "data": {
      "text/plain": [
       "(973, 2)"
      ]
     },
     "metadata": {},
     "output_type": "display_data"
    },
    {
     "data": {
      "text/plain": [
       "(972, 2)"
      ]
     },
     "metadata": {},
     "output_type": "display_data"
    },
    {
     "data": {
      "text/plain": [
       "(971, 2)"
      ]
     },
     "metadata": {},
     "output_type": "display_data"
    },
    {
     "data": {
      "text/plain": [
       "(970, 2)"
      ]
     },
     "metadata": {},
     "output_type": "display_data"
    },
    {
     "data": {
      "text/plain": [
       "(969, 2)"
      ]
     },
     "metadata": {},
     "output_type": "display_data"
    },
    {
     "data": {
      "text/plain": [
       "(968, 2)"
      ]
     },
     "metadata": {},
     "output_type": "display_data"
    },
    {
     "data": {
      "text/plain": [
       "(967, 2)"
      ]
     },
     "metadata": {},
     "output_type": "display_data"
    },
    {
     "data": {
      "text/plain": [
       "(966, 2)"
      ]
     },
     "metadata": {},
     "output_type": "display_data"
    },
    {
     "data": {
      "text/plain": [
       "(965, 2)"
      ]
     },
     "metadata": {},
     "output_type": "display_data"
    },
    {
     "data": {
      "text/plain": [
       "(964, 2)"
      ]
     },
     "metadata": {},
     "output_type": "display_data"
    },
    {
     "data": {
      "text/plain": [
       "(963, 2)"
      ]
     },
     "metadata": {},
     "output_type": "display_data"
    },
    {
     "data": {
      "text/plain": [
       "(962, 2)"
      ]
     },
     "metadata": {},
     "output_type": "display_data"
    },
    {
     "data": {
      "text/plain": [
       "(961, 2)"
      ]
     },
     "metadata": {},
     "output_type": "display_data"
    },
    {
     "data": {
      "text/plain": [
       "(960, 2)"
      ]
     },
     "metadata": {},
     "output_type": "display_data"
    },
    {
     "data": {
      "text/plain": [
       "(959, 2)"
      ]
     },
     "metadata": {},
     "output_type": "display_data"
    },
    {
     "data": {
      "text/plain": [
       "(958, 2)"
      ]
     },
     "metadata": {},
     "output_type": "display_data"
    },
    {
     "data": {
      "text/plain": [
       "(957, 2)"
      ]
     },
     "metadata": {},
     "output_type": "display_data"
    },
    {
     "data": {
      "text/plain": [
       "(956, 2)"
      ]
     },
     "metadata": {},
     "output_type": "display_data"
    },
    {
     "data": {
      "text/plain": [
       "(955, 2)"
      ]
     },
     "metadata": {},
     "output_type": "display_data"
    },
    {
     "data": {
      "text/plain": [
       "(954, 2)"
      ]
     },
     "metadata": {},
     "output_type": "display_data"
    },
    {
     "data": {
      "text/plain": [
       "(953, 2)"
      ]
     },
     "metadata": {},
     "output_type": "display_data"
    },
    {
     "data": {
      "text/plain": [
       "(952, 2)"
      ]
     },
     "metadata": {},
     "output_type": "display_data"
    },
    {
     "data": {
      "text/plain": [
       "(951, 2)"
      ]
     },
     "metadata": {},
     "output_type": "display_data"
    },
    {
     "data": {
      "text/plain": [
       "(950, 2)"
      ]
     },
     "metadata": {},
     "output_type": "display_data"
    },
    {
     "data": {
      "text/plain": [
       "(949, 2)"
      ]
     },
     "metadata": {},
     "output_type": "display_data"
    },
    {
     "data": {
      "text/plain": [
       "(948, 2)"
      ]
     },
     "metadata": {},
     "output_type": "display_data"
    },
    {
     "data": {
      "text/plain": [
       "(947, 2)"
      ]
     },
     "metadata": {},
     "output_type": "display_data"
    },
    {
     "data": {
      "text/plain": [
       "(946, 2)"
      ]
     },
     "metadata": {},
     "output_type": "display_data"
    },
    {
     "data": {
      "text/plain": [
       "(945, 2)"
      ]
     },
     "metadata": {},
     "output_type": "display_data"
    },
    {
     "data": {
      "text/plain": [
       "(944, 2)"
      ]
     },
     "metadata": {},
     "output_type": "display_data"
    },
    {
     "data": {
      "text/plain": [
       "(943, 2)"
      ]
     },
     "metadata": {},
     "output_type": "display_data"
    },
    {
     "data": {
      "text/plain": [
       "(942, 2)"
      ]
     },
     "metadata": {},
     "output_type": "display_data"
    },
    {
     "data": {
      "text/plain": [
       "(941, 2)"
      ]
     },
     "metadata": {},
     "output_type": "display_data"
    },
    {
     "data": {
      "text/plain": [
       "(940, 2)"
      ]
     },
     "metadata": {},
     "output_type": "display_data"
    },
    {
     "data": {
      "text/plain": [
       "(939, 2)"
      ]
     },
     "metadata": {},
     "output_type": "display_data"
    },
    {
     "data": {
      "text/plain": [
       "(938, 2)"
      ]
     },
     "metadata": {},
     "output_type": "display_data"
    },
    {
     "data": {
      "text/plain": [
       "(937, 2)"
      ]
     },
     "metadata": {},
     "output_type": "display_data"
    },
    {
     "data": {
      "text/plain": [
       "(936, 2)"
      ]
     },
     "metadata": {},
     "output_type": "display_data"
    },
    {
     "data": {
      "text/plain": [
       "(935, 2)"
      ]
     },
     "metadata": {},
     "output_type": "display_data"
    },
    {
     "data": {
      "text/plain": [
       "(934, 2)"
      ]
     },
     "metadata": {},
     "output_type": "display_data"
    },
    {
     "data": {
      "text/plain": [
       "(933, 2)"
      ]
     },
     "metadata": {},
     "output_type": "display_data"
    },
    {
     "data": {
      "text/plain": [
       "(932, 2)"
      ]
     },
     "metadata": {},
     "output_type": "display_data"
    },
    {
     "data": {
      "text/plain": [
       "(931, 2)"
      ]
     },
     "metadata": {},
     "output_type": "display_data"
    },
    {
     "data": {
      "text/plain": [
       "(930, 2)"
      ]
     },
     "metadata": {},
     "output_type": "display_data"
    },
    {
     "data": {
      "text/plain": [
       "(929, 2)"
      ]
     },
     "metadata": {},
     "output_type": "display_data"
    },
    {
     "data": {
      "text/plain": [
       "(927, 2)"
      ]
     },
     "metadata": {},
     "output_type": "display_data"
    },
    {
     "data": {
      "text/plain": [
       "(926, 2)"
      ]
     },
     "metadata": {},
     "output_type": "display_data"
    },
    {
     "data": {
      "text/plain": [
       "(925, 2)"
      ]
     },
     "metadata": {},
     "output_type": "display_data"
    },
    {
     "data": {
      "text/plain": [
       "(924, 2)"
      ]
     },
     "metadata": {},
     "output_type": "display_data"
    },
    {
     "data": {
      "text/plain": [
       "(923, 2)"
      ]
     },
     "metadata": {},
     "output_type": "display_data"
    },
    {
     "data": {
      "text/plain": [
       "(922, 2)"
      ]
     },
     "metadata": {},
     "output_type": "display_data"
    },
    {
     "data": {
      "text/plain": [
       "(921, 2)"
      ]
     },
     "metadata": {},
     "output_type": "display_data"
    },
    {
     "data": {
      "text/plain": [
       "(920, 2)"
      ]
     },
     "metadata": {},
     "output_type": "display_data"
    },
    {
     "data": {
      "text/plain": [
       "(919, 2)"
      ]
     },
     "metadata": {},
     "output_type": "display_data"
    },
    {
     "data": {
      "text/plain": [
       "(918, 2)"
      ]
     },
     "metadata": {},
     "output_type": "display_data"
    },
    {
     "data": {
      "text/plain": [
       "(917, 2)"
      ]
     },
     "metadata": {},
     "output_type": "display_data"
    },
    {
     "data": {
      "text/plain": [
       "(916, 2)"
      ]
     },
     "metadata": {},
     "output_type": "display_data"
    },
    {
     "data": {
      "text/plain": [
       "(915, 2)"
      ]
     },
     "metadata": {},
     "output_type": "display_data"
    },
    {
     "data": {
      "text/plain": [
       "(914, 2)"
      ]
     },
     "metadata": {},
     "output_type": "display_data"
    },
    {
     "data": {
      "text/plain": [
       "(913, 2)"
      ]
     },
     "metadata": {},
     "output_type": "display_data"
    },
    {
     "data": {
      "text/plain": [
       "(912, 2)"
      ]
     },
     "metadata": {},
     "output_type": "display_data"
    },
    {
     "data": {
      "text/plain": [
       "(911, 2)"
      ]
     },
     "metadata": {},
     "output_type": "display_data"
    },
    {
     "data": {
      "text/plain": [
       "(910, 2)"
      ]
     },
     "metadata": {},
     "output_type": "display_data"
    },
    {
     "data": {
      "text/plain": [
       "(909, 2)"
      ]
     },
     "metadata": {},
     "output_type": "display_data"
    },
    {
     "data": {
      "text/plain": [
       "(908, 2)"
      ]
     },
     "metadata": {},
     "output_type": "display_data"
    },
    {
     "data": {
      "text/plain": [
       "(907, 2)"
      ]
     },
     "metadata": {},
     "output_type": "display_data"
    },
    {
     "data": {
      "text/plain": [
       "(906, 2)"
      ]
     },
     "metadata": {},
     "output_type": "display_data"
    },
    {
     "data": {
      "text/plain": [
       "(905, 2)"
      ]
     },
     "metadata": {},
     "output_type": "display_data"
    },
    {
     "name": "stdout",
     "output_type": "stream",
     "text": [
      "개수가 1개 이상입니다.\n"
     ]
    },
    {
     "data": {
      "text/html": [
       "<div>\n",
       "<style scoped>\n",
       "    .dataframe tbody tr th:only-of-type {\n",
       "        vertical-align: middle;\n",
       "    }\n",
       "\n",
       "    .dataframe tbody tr th {\n",
       "        vertical-align: top;\n",
       "    }\n",
       "\n",
       "    .dataframe thead th {\n",
       "        text-align: right;\n",
       "    }\n",
       "</style>\n",
       "<table border=\"1\" class=\"dataframe\">\n",
       "  <thead>\n",
       "    <tr style=\"text-align: right;\">\n",
       "      <th></th>\n",
       "      <th>시군구</th>\n",
       "      <th>단지명</th>\n",
       "    </tr>\n",
       "  </thead>\n",
       "  <tbody>\n",
       "    <tr>\n",
       "      <th>52913</th>\n",
       "      <td>경기도 하남시 풍산동</td>\n",
       "      <td>하남미사 A32블럭 신안인스빌</td>\n",
       "    </tr>\n",
       "    <tr>\n",
       "      <th>102139</th>\n",
       "      <td>경기도 하남시 망월동</td>\n",
       "      <td>하남미사 A32블럭 신안인스빌</td>\n",
       "    </tr>\n",
       "  </tbody>\n",
       "</table>\n",
       "</div>"
      ],
      "text/plain": [
       "                시군구               단지명\n",
       "52913   경기도 하남시 풍산동  하남미사 A32블럭 신안인스빌\n",
       "102139  경기도 하남시 망월동  하남미사 A32블럭 신안인스빌"
      ]
     },
     "metadata": {},
     "output_type": "display_data"
    },
    {
     "name": "stdout",
     "output_type": "stream",
     "text": [
      "시군구를 입력해주세요경기도 하남시 풍산동\n"
     ]
    },
    {
     "data": {
      "text/plain": [
       "(904, 2)"
      ]
     },
     "metadata": {},
     "output_type": "display_data"
    },
    {
     "data": {
      "text/plain": [
       "(903, 2)"
      ]
     },
     "metadata": {},
     "output_type": "display_data"
    },
    {
     "data": {
      "text/plain": [
       "(902, 2)"
      ]
     },
     "metadata": {},
     "output_type": "display_data"
    },
    {
     "data": {
      "text/plain": [
       "(901, 2)"
      ]
     },
     "metadata": {},
     "output_type": "display_data"
    },
    {
     "data": {
      "text/plain": [
       "(900, 2)"
      ]
     },
     "metadata": {},
     "output_type": "display_data"
    },
    {
     "data": {
      "text/plain": [
       "(899, 2)"
      ]
     },
     "metadata": {},
     "output_type": "display_data"
    },
    {
     "data": {
      "text/plain": [
       "(898, 2)"
      ]
     },
     "metadata": {},
     "output_type": "display_data"
    },
    {
     "data": {
      "text/plain": [
       "(897, 2)"
      ]
     },
     "metadata": {},
     "output_type": "display_data"
    },
    {
     "data": {
      "text/plain": [
       "(896, 2)"
      ]
     },
     "metadata": {},
     "output_type": "display_data"
    },
    {
     "data": {
      "text/plain": [
       "(895, 2)"
      ]
     },
     "metadata": {},
     "output_type": "display_data"
    },
    {
     "data": {
      "text/plain": [
       "(894, 2)"
      ]
     },
     "metadata": {},
     "output_type": "display_data"
    },
    {
     "data": {
      "text/plain": [
       "(893, 2)"
      ]
     },
     "metadata": {},
     "output_type": "display_data"
    },
    {
     "data": {
      "text/plain": [
       "(892, 2)"
      ]
     },
     "metadata": {},
     "output_type": "display_data"
    },
    {
     "data": {
      "text/plain": [
       "(891, 2)"
      ]
     },
     "metadata": {},
     "output_type": "display_data"
    },
    {
     "data": {
      "text/plain": [
       "(890, 2)"
      ]
     },
     "metadata": {},
     "output_type": "display_data"
    },
    {
     "name": "stdout",
     "output_type": "stream",
     "text": [
      "개수가 1개 이상입니다.\n"
     ]
    },
    {
     "data": {
      "text/html": [
       "<div>\n",
       "<style scoped>\n",
       "    .dataframe tbody tr th:only-of-type {\n",
       "        vertical-align: middle;\n",
       "    }\n",
       "\n",
       "    .dataframe tbody tr th {\n",
       "        vertical-align: top;\n",
       "    }\n",
       "\n",
       "    .dataframe thead th {\n",
       "        text-align: right;\n",
       "    }\n",
       "</style>\n",
       "<table border=\"1\" class=\"dataframe\">\n",
       "  <thead>\n",
       "    <tr style=\"text-align: right;\">\n",
       "      <th></th>\n",
       "      <th>시군구</th>\n",
       "      <th>단지명</th>\n",
       "    </tr>\n",
       "  </thead>\n",
       "  <tbody>\n",
       "    <tr>\n",
       "      <th>154489</th>\n",
       "      <td>경기도 화성시 새솔동</td>\n",
       "      <td>송산그린시티 세영리첼 에듀파크</td>\n",
       "    </tr>\n",
       "    <tr>\n",
       "      <th>148934</th>\n",
       "      <td>경기도 화성시 남양읍 신외리</td>\n",
       "      <td>송산그린시티 세영리첼 에듀파크</td>\n",
       "    </tr>\n",
       "  </tbody>\n",
       "</table>\n",
       "</div>"
      ],
      "text/plain": [
       "                    시군구               단지명\n",
       "154489      경기도 화성시 새솔동  송산그린시티 세영리첼 에듀파크\n",
       "148934  경기도 화성시 남양읍 신외리  송산그린시티 세영리첼 에듀파크"
      ]
     },
     "metadata": {},
     "output_type": "display_data"
    },
    {
     "name": "stdout",
     "output_type": "stream",
     "text": [
      "시군구를 입력해주세요경기도 화성시 새솔동\n"
     ]
    },
    {
     "data": {
      "text/plain": [
       "(890, 2)"
      ]
     },
     "metadata": {},
     "output_type": "display_data"
    },
    {
     "data": {
      "text/plain": [
       "(889, 2)"
      ]
     },
     "metadata": {},
     "output_type": "display_data"
    },
    {
     "data": {
      "text/plain": [
       "(888, 2)"
      ]
     },
     "metadata": {},
     "output_type": "display_data"
    },
    {
     "data": {
      "text/plain": [
       "(887, 2)"
      ]
     },
     "metadata": {},
     "output_type": "display_data"
    },
    {
     "data": {
      "text/plain": [
       "(886, 2)"
      ]
     },
     "metadata": {},
     "output_type": "display_data"
    },
    {
     "data": {
      "text/plain": [
       "(885, 2)"
      ]
     },
     "metadata": {},
     "output_type": "display_data"
    },
    {
     "data": {
      "text/plain": [
       "(884, 2)"
      ]
     },
     "metadata": {},
     "output_type": "display_data"
    },
    {
     "data": {
      "text/plain": [
       "(883, 2)"
      ]
     },
     "metadata": {},
     "output_type": "display_data"
    },
    {
     "data": {
      "text/plain": [
       "(882, 2)"
      ]
     },
     "metadata": {},
     "output_type": "display_data"
    },
    {
     "data": {
      "text/plain": [
       "(881, 2)"
      ]
     },
     "metadata": {},
     "output_type": "display_data"
    },
    {
     "data": {
      "text/plain": [
       "(880, 2)"
      ]
     },
     "metadata": {},
     "output_type": "display_data"
    },
    {
     "data": {
      "text/plain": [
       "(879, 2)"
      ]
     },
     "metadata": {},
     "output_type": "display_data"
    },
    {
     "data": {
      "text/plain": [
       "(878, 2)"
      ]
     },
     "metadata": {},
     "output_type": "display_data"
    },
    {
     "data": {
      "text/plain": [
       "(877, 2)"
      ]
     },
     "metadata": {},
     "output_type": "display_data"
    },
    {
     "data": {
      "text/plain": [
       "(876, 2)"
      ]
     },
     "metadata": {},
     "output_type": "display_data"
    },
    {
     "data": {
      "text/plain": [
       "(875, 2)"
      ]
     },
     "metadata": {},
     "output_type": "display_data"
    },
    {
     "data": {
      "text/plain": [
       "(874, 2)"
      ]
     },
     "metadata": {},
     "output_type": "display_data"
    },
    {
     "data": {
      "text/plain": [
       "(873, 2)"
      ]
     },
     "metadata": {},
     "output_type": "display_data"
    },
    {
     "data": {
      "text/plain": [
       "(872, 2)"
      ]
     },
     "metadata": {},
     "output_type": "display_data"
    },
    {
     "data": {
      "text/plain": [
       "(871, 2)"
      ]
     },
     "metadata": {},
     "output_type": "display_data"
    },
    {
     "data": {
      "text/plain": [
       "(870, 2)"
      ]
     },
     "metadata": {},
     "output_type": "display_data"
    },
    {
     "data": {
      "text/plain": [
       "(869, 2)"
      ]
     },
     "metadata": {},
     "output_type": "display_data"
    },
    {
     "data": {
      "text/plain": [
       "(868, 2)"
      ]
     },
     "metadata": {},
     "output_type": "display_data"
    },
    {
     "data": {
      "text/plain": [
       "(867, 2)"
      ]
     },
     "metadata": {},
     "output_type": "display_data"
    },
    {
     "data": {
      "text/plain": [
       "(866, 2)"
      ]
     },
     "metadata": {},
     "output_type": "display_data"
    },
    {
     "data": {
      "text/plain": [
       "(865, 2)"
      ]
     },
     "metadata": {},
     "output_type": "display_data"
    },
    {
     "name": "stdout",
     "output_type": "stream",
     "text": [
      "개수가 1개 이상입니다.\n"
     ]
    },
    {
     "data": {
      "text/html": [
       "<div>\n",
       "<style scoped>\n",
       "    .dataframe tbody tr th:only-of-type {\n",
       "        vertical-align: middle;\n",
       "    }\n",
       "\n",
       "    .dataframe tbody tr th {\n",
       "        vertical-align: top;\n",
       "    }\n",
       "\n",
       "    .dataframe thead th {\n",
       "        text-align: right;\n",
       "    }\n",
       "</style>\n",
       "<table border=\"1\" class=\"dataframe\">\n",
       "  <thead>\n",
       "    <tr style=\"text-align: right;\">\n",
       "      <th></th>\n",
       "      <th>시군구</th>\n",
       "      <th>단지명</th>\n",
       "    </tr>\n",
       "  </thead>\n",
       "  <tbody>\n",
       "    <tr>\n",
       "      <th>49981</th>\n",
       "      <td>경기도 평택시 안중읍 송담리</td>\n",
       "      <td>평택 송담지구 80-2블록 지엔하임</td>\n",
       "    </tr>\n",
       "    <tr>\n",
       "      <th>51087</th>\n",
       "      <td>경기도 평택시 현덕면 인광리</td>\n",
       "      <td>평택 송담지구 80-2블록 지엔하임</td>\n",
       "    </tr>\n",
       "  </tbody>\n",
       "</table>\n",
       "</div>"
      ],
      "text/plain": [
       "                   시군구                  단지명\n",
       "49981  경기도 평택시 안중읍 송담리  평택 송담지구 80-2블록 지엔하임\n",
       "51087  경기도 평택시 현덕면 인광리  평택 송담지구 80-2블록 지엔하임"
      ]
     },
     "metadata": {},
     "output_type": "display_data"
    },
    {
     "name": "stdout",
     "output_type": "stream",
     "text": [
      "시군구를 입력해주세요경기도 평택시 안중읍 송담리\n"
     ]
    },
    {
     "data": {
      "text/plain": [
       "(865, 2)"
      ]
     },
     "metadata": {},
     "output_type": "display_data"
    },
    {
     "data": {
      "text/plain": [
       "(864, 2)"
      ]
     },
     "metadata": {},
     "output_type": "display_data"
    },
    {
     "data": {
      "text/plain": [
       "(863, 2)"
      ]
     },
     "metadata": {},
     "output_type": "display_data"
    },
    {
     "data": {
      "text/plain": [
       "(862, 2)"
      ]
     },
     "metadata": {},
     "output_type": "display_data"
    },
    {
     "data": {
      "text/plain": [
       "(861, 2)"
      ]
     },
     "metadata": {},
     "output_type": "display_data"
    },
    {
     "data": {
      "text/plain": [
       "(860, 2)"
      ]
     },
     "metadata": {},
     "output_type": "display_data"
    },
    {
     "data": {
      "text/plain": [
       "(859, 2)"
      ]
     },
     "metadata": {},
     "output_type": "display_data"
    },
    {
     "name": "stdout",
     "output_type": "stream",
     "text": [
      "개수가 1개 이상입니다.\n"
     ]
    },
    {
     "data": {
      "text/html": [
       "<div>\n",
       "<style scoped>\n",
       "    .dataframe tbody tr th:only-of-type {\n",
       "        vertical-align: middle;\n",
       "    }\n",
       "\n",
       "    .dataframe tbody tr th {\n",
       "        vertical-align: top;\n",
       "    }\n",
       "\n",
       "    .dataframe thead th {\n",
       "        text-align: right;\n",
       "    }\n",
       "</style>\n",
       "<table border=\"1\" class=\"dataframe\">\n",
       "  <thead>\n",
       "    <tr style=\"text-align: right;\">\n",
       "      <th></th>\n",
       "      <th>시군구</th>\n",
       "      <th>단지명</th>\n",
       "    </tr>\n",
       "  </thead>\n",
       "  <tbody>\n",
       "    <tr>\n",
       "      <th>49212</th>\n",
       "      <td>경기도 평택시 비전동</td>\n",
       "      <td>평택 소사벌 우미린 레이크파크</td>\n",
       "    </tr>\n",
       "    <tr>\n",
       "      <th>50661</th>\n",
       "      <td>경기도 평택시 죽백동</td>\n",
       "      <td>평택 소사벌 우미린 레이크파크</td>\n",
       "    </tr>\n",
       "  </tbody>\n",
       "</table>\n",
       "</div>"
      ],
      "text/plain": [
       "               시군구               단지명\n",
       "49212  경기도 평택시 비전동  평택 소사벌 우미린 레이크파크\n",
       "50661  경기도 평택시 죽백동  평택 소사벌 우미린 레이크파크"
      ]
     },
     "metadata": {},
     "output_type": "display_data"
    },
    {
     "name": "stdout",
     "output_type": "stream",
     "text": [
      "시군구를 입력해주세요경기도 평택시 비전동\n"
     ]
    },
    {
     "data": {
      "text/plain": [
       "(859, 2)"
      ]
     },
     "metadata": {},
     "output_type": "display_data"
    },
    {
     "name": "stdout",
     "output_type": "stream",
     "text": [
      "개수가 1개 이상입니다.\n"
     ]
    },
    {
     "data": {
      "text/html": [
       "<div>\n",
       "<style scoped>\n",
       "    .dataframe tbody tr th:only-of-type {\n",
       "        vertical-align: middle;\n",
       "    }\n",
       "\n",
       "    .dataframe tbody tr th {\n",
       "        vertical-align: top;\n",
       "    }\n",
       "\n",
       "    .dataframe thead th {\n",
       "        text-align: right;\n",
       "    }\n",
       "</style>\n",
       "<table border=\"1\" class=\"dataframe\">\n",
       "  <thead>\n",
       "    <tr style=\"text-align: right;\">\n",
       "      <th></th>\n",
       "      <th>시군구</th>\n",
       "      <th>단지명</th>\n",
       "    </tr>\n",
       "  </thead>\n",
       "  <tbody>\n",
       "    <tr>\n",
       "      <th>49592</th>\n",
       "      <td>경기도 평택시 비전동</td>\n",
       "      <td>평택소사벌지구 B11블럭 호반베르디움</td>\n",
       "    </tr>\n",
       "    <tr>\n",
       "      <th>50701</th>\n",
       "      <td>경기도 평택시 죽백동</td>\n",
       "      <td>평택소사벌지구 B11블럭 호반베르디움</td>\n",
       "    </tr>\n",
       "  </tbody>\n",
       "</table>\n",
       "</div>"
      ],
      "text/plain": [
       "               시군구                   단지명\n",
       "49592  경기도 평택시 비전동  평택소사벌지구 B11블럭 호반베르디움\n",
       "50701  경기도 평택시 죽백동  평택소사벌지구 B11블럭 호반베르디움"
      ]
     },
     "metadata": {},
     "output_type": "display_data"
    },
    {
     "name": "stdout",
     "output_type": "stream",
     "text": [
      "시군구를 입력해주세요경기도 평택시 비전동\n"
     ]
    },
    {
     "data": {
      "text/plain": [
       "(859, 2)"
      ]
     },
     "metadata": {},
     "output_type": "display_data"
    },
    {
     "data": {
      "text/plain": [
       "(858, 2)"
      ]
     },
     "metadata": {},
     "output_type": "display_data"
    },
    {
     "data": {
      "text/plain": [
       "(857, 2)"
      ]
     },
     "metadata": {},
     "output_type": "display_data"
    },
    {
     "data": {
      "text/plain": [
       "(856, 2)"
      ]
     },
     "metadata": {},
     "output_type": "display_data"
    },
    {
     "data": {
      "text/plain": [
       "(855, 2)"
      ]
     },
     "metadata": {},
     "output_type": "display_data"
    },
    {
     "data": {
      "text/plain": [
       "(854, 2)"
      ]
     },
     "metadata": {},
     "output_type": "display_data"
    },
    {
     "data": {
      "text/plain": [
       "(853, 2)"
      ]
     },
     "metadata": {},
     "output_type": "display_data"
    },
    {
     "data": {
      "text/plain": [
       "(852, 2)"
      ]
     },
     "metadata": {},
     "output_type": "display_data"
    },
    {
     "data": {
      "text/plain": [
       "(851, 2)"
      ]
     },
     "metadata": {},
     "output_type": "display_data"
    },
    {
     "data": {
      "text/plain": [
       "(850, 2)"
      ]
     },
     "metadata": {},
     "output_type": "display_data"
    },
    {
     "data": {
      "text/plain": [
       "(849, 2)"
      ]
     },
     "metadata": {},
     "output_type": "display_data"
    },
    {
     "data": {
      "text/plain": [
       "(848, 2)"
      ]
     },
     "metadata": {},
     "output_type": "display_data"
    },
    {
     "name": "stdout",
     "output_type": "stream",
     "text": [
      "개수가 1개 이상입니다.\n"
     ]
    },
    {
     "data": {
      "text/html": [
       "<div>\n",
       "<style scoped>\n",
       "    .dataframe tbody tr th:only-of-type {\n",
       "        vertical-align: middle;\n",
       "    }\n",
       "\n",
       "    .dataframe tbody tr th {\n",
       "        vertical-align: top;\n",
       "    }\n",
       "\n",
       "    .dataframe thead th {\n",
       "        text-align: right;\n",
       "    }\n",
       "</style>\n",
       "<table border=\"1\" class=\"dataframe\">\n",
       "  <thead>\n",
       "    <tr style=\"text-align: right;\">\n",
       "      <th></th>\n",
       "      <th>시군구</th>\n",
       "      <th>단지명</th>\n",
       "    </tr>\n",
       "  </thead>\n",
       "  <tbody>\n",
       "    <tr>\n",
       "      <th>31466</th>\n",
       "      <td>경기도 남양주시 다산동</td>\n",
       "      <td>남양주다산신도시 아이파크</td>\n",
       "    </tr>\n",
       "    <tr>\n",
       "      <th>32071</th>\n",
       "      <td>경기도 남양주시 진건읍 배양리</td>\n",
       "      <td>남양주다산신도시 아이파크</td>\n",
       "    </tr>\n",
       "  </tbody>\n",
       "</table>\n",
       "</div>"
      ],
      "text/plain": [
       "                    시군구            단지명\n",
       "31466      경기도 남양주시 다산동  남양주다산신도시 아이파크\n",
       "32071  경기도 남양주시 진건읍 배양리  남양주다산신도시 아이파크"
      ]
     },
     "metadata": {},
     "output_type": "display_data"
    },
    {
     "name": "stdout",
     "output_type": "stream",
     "text": [
      "시군구를 입력해주세요경기도 남양주시 다산동\n"
     ]
    },
    {
     "data": {
      "text/plain": [
       "(848, 2)"
      ]
     },
     "metadata": {},
     "output_type": "display_data"
    },
    {
     "name": "stdout",
     "output_type": "stream",
     "text": [
      "개수가 1개 이상입니다.\n"
     ]
    },
    {
     "data": {
      "text/html": [
       "<div>\n",
       "<style scoped>\n",
       "    .dataframe tbody tr th:only-of-type {\n",
       "        vertical-align: middle;\n",
       "    }\n",
       "\n",
       "    .dataframe tbody tr th {\n",
       "        vertical-align: top;\n",
       "    }\n",
       "\n",
       "    .dataframe thead th {\n",
       "        text-align: right;\n",
       "    }\n",
       "</style>\n",
       "<table border=\"1\" class=\"dataframe\">\n",
       "  <thead>\n",
       "    <tr style=\"text-align: right;\">\n",
       "      <th></th>\n",
       "      <th>시군구</th>\n",
       "      <th>단지명</th>\n",
       "    </tr>\n",
       "  </thead>\n",
       "  <tbody>\n",
       "    <tr>\n",
       "      <th>71842</th>\n",
       "      <td>경기도 남양주시 다산동</td>\n",
       "      <td>다산신도시 금강펜테리움 리버테라스2차</td>\n",
       "    </tr>\n",
       "    <tr>\n",
       "      <th>72572</th>\n",
       "      <td>경기도 남양주시 지금동</td>\n",
       "      <td>다산신도시 금강펜테리움 리버테라스2차</td>\n",
       "    </tr>\n",
       "  </tbody>\n",
       "</table>\n",
       "</div>"
      ],
      "text/plain": [
       "                시군구                   단지명\n",
       "71842  경기도 남양주시 다산동  다산신도시 금강펜테리움 리버테라스2차\n",
       "72572  경기도 남양주시 지금동  다산신도시 금강펜테리움 리버테라스2차"
      ]
     },
     "metadata": {},
     "output_type": "display_data"
    },
    {
     "name": "stdout",
     "output_type": "stream",
     "text": [
      "시군구를 입력해주세요경기도 남양주시 다산동\n"
     ]
    },
    {
     "data": {
      "text/plain": [
       "(848, 2)"
      ]
     },
     "metadata": {},
     "output_type": "display_data"
    },
    {
     "name": "stdout",
     "output_type": "stream",
     "text": [
      "개수가 1개 이상입니다.\n"
     ]
    },
    {
     "data": {
      "text/html": [
       "<div>\n",
       "<style scoped>\n",
       "    .dataframe tbody tr th:only-of-type {\n",
       "        vertical-align: middle;\n",
       "    }\n",
       "\n",
       "    .dataframe tbody tr th {\n",
       "        vertical-align: top;\n",
       "    }\n",
       "\n",
       "    .dataframe thead th {\n",
       "        text-align: right;\n",
       "    }\n",
       "</style>\n",
       "<table border=\"1\" class=\"dataframe\">\n",
       "  <thead>\n",
       "    <tr style=\"text-align: right;\">\n",
       "      <th></th>\n",
       "      <th>시군구</th>\n",
       "      <th>단지명</th>\n",
       "    </tr>\n",
       "  </thead>\n",
       "  <tbody>\n",
       "    <tr>\n",
       "      <th>72454</th>\n",
       "      <td>경기도 남양주시 지금동</td>\n",
       "      <td>다산신도시 금강펜테리움 리버테라스 B4</td>\n",
       "    </tr>\n",
       "    <tr>\n",
       "      <th>71647</th>\n",
       "      <td>경기도 남양주시 다산동</td>\n",
       "      <td>다산신도시 금강펜테리움 리버테라스 B4</td>\n",
       "    </tr>\n",
       "  </tbody>\n",
       "</table>\n",
       "</div>"
      ],
      "text/plain": [
       "                시군구                    단지명\n",
       "72454  경기도 남양주시 지금동  다산신도시 금강펜테리움 리버테라스 B4\n",
       "71647  경기도 남양주시 다산동  다산신도시 금강펜테리움 리버테라스 B4"
      ]
     },
     "metadata": {},
     "output_type": "display_data"
    },
    {
     "name": "stdout",
     "output_type": "stream",
     "text": [
      "시군구를 입력해주세요경기도 남양주시 지금동\n"
     ]
    },
    {
     "data": {
      "text/plain": [
       "(848, 2)"
      ]
     },
     "metadata": {},
     "output_type": "display_data"
    },
    {
     "data": {
      "text/plain": [
       "(847, 2)"
      ]
     },
     "metadata": {},
     "output_type": "display_data"
    },
    {
     "data": {
      "text/plain": [
       "(846, 2)"
      ]
     },
     "metadata": {},
     "output_type": "display_data"
    },
    {
     "data": {
      "text/plain": [
       "(845, 2)"
      ]
     },
     "metadata": {},
     "output_type": "display_data"
    },
    {
     "data": {
      "text/plain": [
       "(844, 2)"
      ]
     },
     "metadata": {},
     "output_type": "display_data"
    },
    {
     "data": {
      "text/plain": [
       "(843, 2)"
      ]
     },
     "metadata": {},
     "output_type": "display_data"
    },
    {
     "data": {
      "text/plain": [
       "(842, 2)"
      ]
     },
     "metadata": {},
     "output_type": "display_data"
    },
    {
     "data": {
      "text/plain": [
       "(841, 2)"
      ]
     },
     "metadata": {},
     "output_type": "display_data"
    },
    {
     "name": "stdout",
     "output_type": "stream",
     "text": [
      "개수가 1개 이상입니다.\n"
     ]
    },
    {
     "data": {
      "text/html": [
       "<div>\n",
       "<style scoped>\n",
       "    .dataframe tbody tr th:only-of-type {\n",
       "        vertical-align: middle;\n",
       "    }\n",
       "\n",
       "    .dataframe tbody tr th {\n",
       "        vertical-align: top;\n",
       "    }\n",
       "\n",
       "    .dataframe thead th {\n",
       "        text-align: right;\n",
       "    }\n",
       "</style>\n",
       "<table border=\"1\" class=\"dataframe\">\n",
       "  <thead>\n",
       "    <tr style=\"text-align: right;\">\n",
       "      <th></th>\n",
       "      <th>시군구</th>\n",
       "      <th>단지명</th>\n",
       "    </tr>\n",
       "  </thead>\n",
       "  <tbody>\n",
       "    <tr>\n",
       "      <th>74055</th>\n",
       "      <td>경기도 남양주시 화도읍 녹촌리</td>\n",
       "      <td>남양주 라온프라이빗（3-1블럭）</td>\n",
       "    </tr>\n",
       "    <tr>\n",
       "      <th>31680</th>\n",
       "      <td>경기도 남양주시 별내면 광전리</td>\n",
       "      <td>남양주 라온프라이빗（3-1블럭）</td>\n",
       "    </tr>\n",
       "  </tbody>\n",
       "</table>\n",
       "</div>"
      ],
      "text/plain": [
       "                    시군구                단지명\n",
       "74055  경기도 남양주시 화도읍 녹촌리  남양주 라온프라이빗（3-1블럭）\n",
       "31680  경기도 남양주시 별내면 광전리  남양주 라온프라이빗（3-1블럭）"
      ]
     },
     "metadata": {},
     "output_type": "display_data"
    },
    {
     "name": "stdout",
     "output_type": "stream",
     "text": [
      "시군구를 입력해주세요경기도 남양주시 화도읍 녹촌리\n"
     ]
    },
    {
     "data": {
      "text/plain": [
       "(841, 2)"
      ]
     },
     "metadata": {},
     "output_type": "display_data"
    },
    {
     "data": {
      "text/plain": [
       "(840, 2)"
      ]
     },
     "metadata": {},
     "output_type": "display_data"
    },
    {
     "data": {
      "text/plain": [
       "(839, 2)"
      ]
     },
     "metadata": {},
     "output_type": "display_data"
    },
    {
     "data": {
      "text/plain": [
       "(838, 2)"
      ]
     },
     "metadata": {},
     "output_type": "display_data"
    },
    {
     "data": {
      "text/plain": [
       "(837, 2)"
      ]
     },
     "metadata": {},
     "output_type": "display_data"
    },
    {
     "data": {
      "text/plain": [
       "(836, 2)"
      ]
     },
     "metadata": {},
     "output_type": "display_data"
    },
    {
     "data": {
      "text/plain": [
       "(835, 2)"
      ]
     },
     "metadata": {},
     "output_type": "display_data"
    },
    {
     "data": {
      "text/plain": [
       "(834, 2)"
      ]
     },
     "metadata": {},
     "output_type": "display_data"
    },
    {
     "data": {
      "text/plain": [
       "(833, 2)"
      ]
     },
     "metadata": {},
     "output_type": "display_data"
    },
    {
     "data": {
      "text/plain": [
       "(832, 2)"
      ]
     },
     "metadata": {},
     "output_type": "display_data"
    },
    {
     "data": {
      "text/plain": [
       "(831, 2)"
      ]
     },
     "metadata": {},
     "output_type": "display_data"
    },
    {
     "data": {
      "text/plain": [
       "(830, 2)"
      ]
     },
     "metadata": {},
     "output_type": "display_data"
    },
    {
     "data": {
      "text/plain": [
       "(829, 2)"
      ]
     },
     "metadata": {},
     "output_type": "display_data"
    },
    {
     "data": {
      "text/plain": [
       "(828, 2)"
      ]
     },
     "metadata": {},
     "output_type": "display_data"
    },
    {
     "data": {
      "text/plain": [
       "(827, 2)"
      ]
     },
     "metadata": {},
     "output_type": "display_data"
    },
    {
     "data": {
      "text/plain": [
       "(826, 2)"
      ]
     },
     "metadata": {},
     "output_type": "display_data"
    },
    {
     "data": {
      "text/plain": [
       "(825, 2)"
      ]
     },
     "metadata": {},
     "output_type": "display_data"
    },
    {
     "data": {
      "text/plain": [
       "(824, 2)"
      ]
     },
     "metadata": {},
     "output_type": "display_data"
    },
    {
     "data": {
      "text/plain": [
       "(823, 2)"
      ]
     },
     "metadata": {},
     "output_type": "display_data"
    },
    {
     "data": {
      "text/plain": [
       "(822, 2)"
      ]
     },
     "metadata": {},
     "output_type": "display_data"
    },
    {
     "data": {
      "text/plain": [
       "(821, 2)"
      ]
     },
     "metadata": {},
     "output_type": "display_data"
    },
    {
     "data": {
      "text/plain": [
       "(820, 2)"
      ]
     },
     "metadata": {},
     "output_type": "display_data"
    },
    {
     "data": {
      "text/plain": [
       "(819, 2)"
      ]
     },
     "metadata": {},
     "output_type": "display_data"
    },
    {
     "data": {
      "text/plain": [
       "(818, 2)"
      ]
     },
     "metadata": {},
     "output_type": "display_data"
    },
    {
     "data": {
      "text/plain": [
       "(817, 2)"
      ]
     },
     "metadata": {},
     "output_type": "display_data"
    },
    {
     "data": {
      "text/plain": [
       "(816, 2)"
      ]
     },
     "metadata": {},
     "output_type": "display_data"
    },
    {
     "data": {
      "text/plain": [
       "(815, 2)"
      ]
     },
     "metadata": {},
     "output_type": "display_data"
    },
    {
     "data": {
      "text/plain": [
       "(814, 2)"
      ]
     },
     "metadata": {},
     "output_type": "display_data"
    },
    {
     "data": {
      "text/plain": [
       "(813, 2)"
      ]
     },
     "metadata": {},
     "output_type": "display_data"
    },
    {
     "data": {
      "text/plain": [
       "(812, 2)"
      ]
     },
     "metadata": {},
     "output_type": "display_data"
    },
    {
     "data": {
      "text/plain": [
       "(811, 2)"
      ]
     },
     "metadata": {},
     "output_type": "display_data"
    },
    {
     "data": {
      "text/plain": [
       "(810, 2)"
      ]
     },
     "metadata": {},
     "output_type": "display_data"
    },
    {
     "data": {
      "text/plain": [
       "(809, 2)"
      ]
     },
     "metadata": {},
     "output_type": "display_data"
    },
    {
     "data": {
      "text/plain": [
       "(808, 2)"
      ]
     },
     "metadata": {},
     "output_type": "display_data"
    },
    {
     "data": {
      "text/plain": [
       "(807, 2)"
      ]
     },
     "metadata": {},
     "output_type": "display_data"
    },
    {
     "data": {
      "text/plain": [
       "(806, 2)"
      ]
     },
     "metadata": {},
     "output_type": "display_data"
    },
    {
     "data": {
      "text/plain": [
       "(805, 2)"
      ]
     },
     "metadata": {},
     "output_type": "display_data"
    },
    {
     "data": {
      "text/plain": [
       "(804, 2)"
      ]
     },
     "metadata": {},
     "output_type": "display_data"
    },
    {
     "data": {
      "text/plain": [
       "(803, 2)"
      ]
     },
     "metadata": {},
     "output_type": "display_data"
    },
    {
     "data": {
      "text/plain": [
       "(802, 2)"
      ]
     },
     "metadata": {},
     "output_type": "display_data"
    },
    {
     "data": {
      "text/plain": [
       "(801, 2)"
      ]
     },
     "metadata": {},
     "output_type": "display_data"
    },
    {
     "data": {
      "text/plain": [
       "(800, 2)"
      ]
     },
     "metadata": {},
     "output_type": "display_data"
    },
    {
     "data": {
      "text/plain": [
       "(799, 2)"
      ]
     },
     "metadata": {},
     "output_type": "display_data"
    },
    {
     "data": {
      "text/plain": [
       "(798, 2)"
      ]
     },
     "metadata": {},
     "output_type": "display_data"
    },
    {
     "data": {
      "text/plain": [
       "(797, 2)"
      ]
     },
     "metadata": {},
     "output_type": "display_data"
    },
    {
     "data": {
      "text/plain": [
       "(796, 2)"
      ]
     },
     "metadata": {},
     "output_type": "display_data"
    },
    {
     "data": {
      "text/plain": [
       "(795, 2)"
      ]
     },
     "metadata": {},
     "output_type": "display_data"
    },
    {
     "data": {
      "text/plain": [
       "(794, 2)"
      ]
     },
     "metadata": {},
     "output_type": "display_data"
    },
    {
     "data": {
      "text/plain": [
       "(793, 2)"
      ]
     },
     "metadata": {},
     "output_type": "display_data"
    },
    {
     "data": {
      "text/plain": [
       "(792, 2)"
      ]
     },
     "metadata": {},
     "output_type": "display_data"
    },
    {
     "data": {
      "text/plain": [
       "(791, 2)"
      ]
     },
     "metadata": {},
     "output_type": "display_data"
    },
    {
     "data": {
      "text/plain": [
       "(790, 2)"
      ]
     },
     "metadata": {},
     "output_type": "display_data"
    },
    {
     "data": {
      "text/plain": [
       "(789, 2)"
      ]
     },
     "metadata": {},
     "output_type": "display_data"
    },
    {
     "data": {
      "text/plain": [
       "(788, 2)"
      ]
     },
     "metadata": {},
     "output_type": "display_data"
    },
    {
     "data": {
      "text/plain": [
       "(787, 2)"
      ]
     },
     "metadata": {},
     "output_type": "display_data"
    },
    {
     "data": {
      "text/plain": [
       "(786, 2)"
      ]
     },
     "metadata": {},
     "output_type": "display_data"
    },
    {
     "data": {
      "text/plain": [
       "(785, 2)"
      ]
     },
     "metadata": {},
     "output_type": "display_data"
    },
    {
     "data": {
      "text/plain": [
       "(784, 2)"
      ]
     },
     "metadata": {},
     "output_type": "display_data"
    },
    {
     "data": {
      "text/plain": [
       "(783, 2)"
      ]
     },
     "metadata": {},
     "output_type": "display_data"
    },
    {
     "data": {
      "text/plain": [
       "(782, 2)"
      ]
     },
     "metadata": {},
     "output_type": "display_data"
    },
    {
     "data": {
      "text/plain": [
       "(781, 2)"
      ]
     },
     "metadata": {},
     "output_type": "display_data"
    },
    {
     "data": {
      "text/plain": [
       "(779, 2)"
      ]
     },
     "metadata": {},
     "output_type": "display_data"
    },
    {
     "data": {
      "text/plain": [
       "(778, 2)"
      ]
     },
     "metadata": {},
     "output_type": "display_data"
    },
    {
     "data": {
      "text/plain": [
       "(776, 2)"
      ]
     },
     "metadata": {},
     "output_type": "display_data"
    },
    {
     "data": {
      "text/plain": [
       "(775, 2)"
      ]
     },
     "metadata": {},
     "output_type": "display_data"
    },
    {
     "data": {
      "text/plain": [
       "(774, 2)"
      ]
     },
     "metadata": {},
     "output_type": "display_data"
    },
    {
     "data": {
      "text/plain": [
       "(773, 2)"
      ]
     },
     "metadata": {},
     "output_type": "display_data"
    },
    {
     "data": {
      "text/plain": [
       "(772, 2)"
      ]
     },
     "metadata": {},
     "output_type": "display_data"
    },
    {
     "data": {
      "text/plain": [
       "(771, 2)"
      ]
     },
     "metadata": {},
     "output_type": "display_data"
    },
    {
     "data": {
      "text/plain": [
       "(770, 2)"
      ]
     },
     "metadata": {},
     "output_type": "display_data"
    },
    {
     "data": {
      "text/plain": [
       "(769, 2)"
      ]
     },
     "metadata": {},
     "output_type": "display_data"
    },
    {
     "data": {
      "text/plain": [
       "(768, 2)"
      ]
     },
     "metadata": {},
     "output_type": "display_data"
    },
    {
     "data": {
      "text/plain": [
       "(767, 2)"
      ]
     },
     "metadata": {},
     "output_type": "display_data"
    },
    {
     "data": {
      "text/plain": [
       "(766, 2)"
      ]
     },
     "metadata": {},
     "output_type": "display_data"
    },
    {
     "data": {
      "text/plain": [
       "(765, 2)"
      ]
     },
     "metadata": {},
     "output_type": "display_data"
    },
    {
     "data": {
      "text/plain": [
       "(764, 2)"
      ]
     },
     "metadata": {},
     "output_type": "display_data"
    },
    {
     "data": {
      "text/plain": [
       "(763, 2)"
      ]
     },
     "metadata": {},
     "output_type": "display_data"
    },
    {
     "data": {
      "text/plain": [
       "(762, 2)"
      ]
     },
     "metadata": {},
     "output_type": "display_data"
    },
    {
     "data": {
      "text/plain": [
       "(761, 2)"
      ]
     },
     "metadata": {},
     "output_type": "display_data"
    },
    {
     "data": {
      "text/plain": [
       "(761, 2)"
      ]
     },
     "metadata": {},
     "output_type": "display_data"
    },
    {
     "data": {
      "text/plain": [
       "(760, 2)"
      ]
     },
     "metadata": {},
     "output_type": "display_data"
    },
    {
     "data": {
      "text/plain": [
       "(759, 2)"
      ]
     },
     "metadata": {},
     "output_type": "display_data"
    },
    {
     "data": {
      "text/plain": [
       "(758, 2)"
      ]
     },
     "metadata": {},
     "output_type": "display_data"
    },
    {
     "data": {
      "text/plain": [
       "(757, 2)"
      ]
     },
     "metadata": {},
     "output_type": "display_data"
    },
    {
     "data": {
      "text/plain": [
       "(756, 2)"
      ]
     },
     "metadata": {},
     "output_type": "display_data"
    },
    {
     "data": {
      "text/plain": [
       "(755, 2)"
      ]
     },
     "metadata": {},
     "output_type": "display_data"
    }
   ],
   "source": [
    "# 경기도\n",
    "changeWord(\"래미안 구의 파크스위트\", \"래미안파크스위트\")\n",
    "changeWord(\" 롯데캐슬 골드파크1차\", \"금천롯데캐슬 골드파크1차\")\n",
    "changeWord(\"태릉입구역 미라쉘\", \"미라쉘\")\n",
    "changeWord(\"방학지음재힐스\", \"방학 지음재힐스\")\n",
    "changeWord(\"보광타워 답십리(도시형)\", \"보광타워\")\n",
    "changeWord('장안 태영 데시앙', '동대문더퍼스트데시앙')\n",
    "changeWord('휘경 해모로 프레스티지', '휘경 해모로 프레스티지')\n",
    "changeWord('마포 웨스트리버 태영 데시앙', '마포웨스트리버태영데시앙')\n",
    "changeWord('방배 마에스트로', '방배마에스트로')\n",
    "changeWord('고양원흥A5BL 호반베르디움', '원흥호반베르디움더퍼스트5단지')\n",
    "changeWord('고양 삼송 A10블록 동일스위트2차','삼송10단지동일스위트2차')\n",
    "changeWord('삼송3차 아이파크','삼송3차아이파크')\n",
    "changeWord('지축역 반도유보라','지축역북한산유보라')\n",
    "changeWord('지축역 한림 풀에버', '지축역 한림풀에버')\n",
    "changeWord('고양 향동지구 B-2블록 호반베르디움', 'DMC호반베르디움더포레2단지')\n",
    "changeWord('고양 향동지구 B-3블록 호반베르디움', 'DMC호반베르디움더포레3단지')\n",
    "changeWord('고양 향동지구 B-4블록 호반베르디움', 'DMC호반베르디움더포레4단지')\n",
    "changeWord('고양향동 A-3블록 공공분양', '엘에이치A3(두산)아파트')\n",
    "changeWord('고양향동지구 A-2블록 중흥S-클래스', 'DMC 중흥S-클래스 더 센트럴')\n",
    "changeWord('일산자이 2차', '일산자이2차')\n",
    "changeWord('킨텍스 원시티 M1BL', '킨텍스원시티 1블럭')\n",
    "changeWord('킨텍스 원시티 M2BL', '킨텍스원시티 2블럭')\n",
    "changeWord('킨텍스 원시티 M3BL', '킨텍스원시티 3블럭')\n",
    "changeWord('고양 일산 센트럴 아이파크', '일산센트럴아이파크')\n",
    "changeWord('킨텍스꿈에그린', '킨텍스 꿈에그린')\n",
    "changeWord('고양 일산 에듀포레 푸르지오', '일산에듀포레푸르지오')\n",
    "changeWord('과천 래미안 센트럴스위트', '래미안 센트럴스위트')\n",
    "changeWord('과천 센트럴 파크 푸르지오 써밋', '센트럴파크푸르지오써밋')\n",
    "changeWord('과천 위버필드', '과천위버필드')\n",
    "changeWord('광명역 태영 데시앙', '유-플래닛 태영데시앙')\n",
    "changeWord('광명 철산 센트럴 푸르지오', '철산센트럴푸르지오')\n",
    "changeWord('구리 갈매역 아이파크(보금자리)', '갈매역아이파크')\n",
    "changeWord('더샵 나인힐스', '갈매 더샵 나인힐스')\n",
    "changeWord('e편한세상 구리수택', 'e편한세상수택센트럴파크')\n",
    "changeWord('군포 당동 동도센트리움', '군포당동 동도센트리움 아파트')\n",
    "changeWord('군포송정 B1 금강펜테리움 센트럴파크', '금강펜테리움센트럴파크1차')\n",
    "changeWord('군포송정B2블록 금강펜테리움센트럴파크', '금강펜테리움센트럴파크2차')\n",
    "changeWord('군포송정C1 금강펜테리움센트럴파크3차', '금강펜테리움센트럴파크3차')\n",
    "changeWord('군포송정S1블록 공공분양', '엘에이치송정마을')\n",
    "changeWord('걸포북변역 우방 아이유쉘', '한강파크뷰우방아이유쉘')\n",
    "changeWord('김포 고촌 NEW CITY', '김포뉴시티')\n",
    "changeWord('김포 캐슬앤파밀리에시티 1단지', '캐슬앤파밀리에시티 1단지')\n",
    "changeWord('김포한강 AC-03블록 반도유보라5차', '한강신도시 반도유보라5차')\n",
    "changeWord('김포한강 cc-01 블록 반도유보라4차', '한강신도시 반도유보라 4차')\n",
    "changeWord('김포한강 AC-04블록 모아엘가2차', '한강신도시 모아엘가2차')\n",
    "changeWord('한강신도시푸르지오3차', '한강신도시 3차 푸르지오')\n",
    "changeWord('김포한강 Ab-18블록 호반베르디움', '호반베르디움 더 레이크 2차')\n",
    "changeWord('김포한강 Ab-19블록 호반베르디움', '호반베르디움 더 레이크 2차')\n",
    "changeWord('김포한강 동일스위트ThePark1단지', '한강 동일스위트 The Park View 1단지')\n",
    "changeWord('김포한강 동일스위트ThePark2단지', '한강동일스위트 The Park View 2단지')\n",
    "changeWord('김포 한강신도시 레이크 에일린의 뜰', '한강신도시레이크에일린의뜰')\n",
    "changeWord('김포한강신도시 반도유보라3차', '한강신도시 반도유보라3차')\n",
    "changeWord('김포사우2지구 김포사우 아이파크', '김포사우아이파크')\n",
    "changeWord('김포한강 금호어울림1단지', '한강금호어울림 1단지')\n",
    "changeWord('김포한강 금호어울림2단지', '한강금호어울림 2단지')\n",
    "changeWord('김포한강 삼정그린코아 더베스트', '김포한강 삼정그린코아더베스트')\n",
    "changeWord('김포한강신도시 리버 에일린의 뜰', '한강신도시리버에일린의뜰')\n",
    "changeWord('한강신도시운양역푸르지오', '한강신도시 운양푸르지오')\n",
    "changeWord('김포한강신도시Ab-12 이랜드 타운힐스', '김포한강 이랜드 타운힐스')\n",
    "changeWord('김포한강Ac20블록 반도유보라6차', '한강신도시 반도유보라 6차')\n",
    "changeWord('김포 한강신도시 e편한세상 캐널시티', 'e편한세상 캐널시티')\n",
    "changeWord('김포풍무 푸르지오 센트레빌', '풍무 푸르지오')\n",
    "changeWord('아너스빌위즈', '수원 아너스빌 위즈')\n",
    "changeWord('수원역 푸르지오 자이', '수원역푸르지오자이')\n",
    "changeWord('수원 인계동 동문굿모닝힐', '수원 인계동 동문굿모닝힐 아파트')\n",
    "changeWord('수원 인계 한양수자인', '인계한양수자인')\n",
    "changeWord('시흥 은계지구 우미 린B-3블록', '시흥은계우미린레이크')\n",
    "changeWord('시흥장현 B4블록 제일풍경채 센텀', '제일풍경채 센텀')\n",
    "changeWord('e편한세상 시흥', '이편한세상시흥센텀하임')\n",
    "changeWord('목감 레이크 푸르지오(A-7블록)', '목감레이크 푸르지오')\n",
    "changeWord('시흥목감지구 B1블록 중흥S클래스', '목감중흥에스-클래스레이크힐스')\n",
    "changeWord('시흥 은계지구 우미 린C-1블록', '시흥은계우미린더퍼스트')\n",
    "changeWord('시흥은계지구 B-5블록 한양수자인', '시흥은계한양수자인더클래스')\n",
    "changeWord('시흥은계지구 복-1 호반 써밋플레이스', '시흥은계호반써밋플레이스')\n",
    "changeWord('시흥장현 B5블록 제일풍경채 에듀', '제일풍경채 에듀')\n",
    "changeWord('시흥장현 C-2BL 모아미래도에듀포레', '시흥능곡역 모아미래도 에듀포레')\n",
    "changeWord('시흥장현 C1블록 리슈빌', '시흥능곡역 장현리슈빌 퍼스트클래스')\n",
    "changeWord('장현 호반 써밋', '장현호반써밋')\n",
    "changeWord('시흥목감Ｂ－２신안인스빌', '신안인스빌')\n",
    "changeWord('시흥목감C1블럭 호반베르디움', '시흥목감C1BL 호반베르디움 더 클래스')\n",
    "changeWord('시흥목감C1블럭 호반베르디움', '시흥목감C1BL 호반베르디움 더 클래스')\n",
    "changeWord(\"오산시티자이 2단지\", \"오산시티자이1차 1단지\")\n",
    "df.loc[(df.번지=='698') & (df.단지명=='오산시티자이1차 2단지'),'단지명'] = '오산시티자이1차 2단지'\n",
    "df.replace({'시군구':'경기도 평택시 고덕면'},{'시군구':'경기도 평택시 고덕면 여염리'}, inplace=True)\n",
    "changeWord(\"고잔 롯데캐슬 골드파크\", \"고잔롯데캐슬골드파크\")\n",
    "changeWord(\"안산 센트럴 푸르지오\", \"센트럴푸르지오\")\n",
    "changeWord(\"힐스테이트 중앙\", \"힐스테이트중앙\")\n",
    "changeWord(\"레이크타운푸르지오\", \"안산레이크타운푸르지오\")\n",
    "changeWord(\"e편한세상 선부 \", \"e편한세상선부\")\n",
    "changeWord(\"e편한세상선부역어반스퀘어\", \"이편한세상 선부역 어반스퀘어\")\n",
    "changeWord(\"안산 메트로타운 푸르지오 힐스테이트\", \"안산 메트로타운 푸르지오힐스테이트\")\n",
    "changeWord(\"안산 천년가 리더스카이\", \"천년가 리더스카이\")\n",
    "changeWord(\"초지역 메이저타운 푸르지오 에코단지\", \"초지역메이저타운푸르지오에코단지\")\n",
    "changeWord(\"안산 롯데캐슬 더퍼스트\", \"롯데캐슬더퍼스트\")\n",
    "changeWord(\"초지역 메이저타운 푸르지오 메트로단지\", \"초지역메이저타운푸르지오메트로단지\")\n",
    "changeWord(\"초지역 메이저타운 푸르지오 파크단지\", \"초지역메이저타운푸르지오파크단지\")\n",
    "changeWord(\"건건동 영무예다음\", \"영무예다음\")\n",
    "changeWord(\"그랑시티자이(안산 사동 90블록)\", \"그랑시티자이\")\n",
    "changeWord(\"그랑시티자이2차\", \"그랑시티자이 2차\")\n",
    "changeWord(\"안산 파크 푸르지오\", \"파크푸르지오\")\n",
    "changeWord(\"안양 신평촌 일성트루엘 파크\", \"신평촌일성트루엘파크\")\n",
    "changeWord(\"안양 호계 대성유니드\", \"평촌대성유니드\")\n",
    "changeWord(\"평촌 더샵 아이파크\", \"평촌더샵아이파크\")\n",
    "changeWord(\"평촌 어바인 퍼스트\", \"평촌어바인퍼스트\")\n",
    "changeWord(\"래미안 안양 메가트리아\", \"래미안안양메가트리아\")\n",
    "changeWord(\"안양 명학역 유보라 더 스마트\", \"안양 명학역유보라 더스마트\")\n",
    "changeWord(\"한양수자인 안양역\", \"안양역한양수자인리버파크\")\n",
    "changeWord(\"오산세교택지개발지구 오산 세교 자이\", \"오산세교자이\")\n",
    "changeWord(\"오산시티자이１단지\", \"오산시티자이1차 1단지\")\n",
    "changeWord(\"오산시티자이 2차\", \"오산시티자이2차\")\n",
    "changeWord(\"오산대역 더샵 센트럴시티\", \"더샵 오산센트럴\")\n",
    "changeWord(\"오산 센트럴 푸르지오\", \"오산센트럴푸르지오\")\n",
    "changeWord(\"오산원동 한양수자인\", \"오산원동 한양수자인아파트\")\n",
    "changeWord(\"e편한세상 오산세교\", \"e편한세상오산세교\")\n",
    "changeWord(\"오산세교e편한세상\", \"e편한세상오산세교\")\n",
    "changeWord(\"기흥역 지웰 푸르지오\", \"기흥역지웰푸르지오\")\n",
    "changeWord(\"용인 기흥역 더샵\", \"기흥역더샵\")\n",
    "changeWord(\"용인 기흥역 파크 푸르지오 (3-3BL)\", \"기흥역 파크 푸르지오\")\n",
    "changeWord(\"힐스테이트 기흥 \", \"힐스테이트기흥\")\n",
    "changeWord(\"용인 구성 지음재 아파트\", \"용인구성지음재\")\n",
    "changeWord(\"용인구성역효성해링턴플레이스\", \"구성역효성해링턴플레이스\")\n",
    "changeWord(\"용인 보라 효성해링턴 플레이스\", \"용인보라효성해링턴플레이스\")\n",
    "changeWord(\"서천 2차 I PARK\", \"서천2차IPARK\")\n",
    "changeWord(\"용인 영통로 효성해링턴 플레이스\", \"영통로 효성해링턴 플레이스 1차\")\n",
    "changeWord(\"용인 기흥 우방아이유쉘\", \"용인기흥 우방아이유쉘\")\n",
    "changeWord(\"용인신갈 신흥덕 롯데캐슬 레이시티\", \"신흥덕 롯데캐슬 레이시티\")\n",
    "changeWord(\"기흥 힉스유타워 \", \"힉스유타워\")\n",
    "changeWord(\"용인 기흥 효성해링턴 플레이스\", \"용인기흥 효성해링턴플레이스\")\n",
    "changeWord(\"용인 신동백 동도센트리움 도시형생활주택\", \"신동백 동도센트리움\")\n",
    "changeWord(\"동천 더샵 이스트포레\", \"더샵 동천이스트포레\")\n",
    "changeWord(\"분당 수지 루체스타\", \"루체스타\")\n",
    "changeWord(\"용인 동천 자이\", \"동천자이\")\n",
    "changeWord(\"용인 동천자이 2차\", \"동천자이2차\")\n",
    "changeWord(\"용인 동천파크자이\", \"동천파크자이\")\n",
    "changeWord(\"레이크포레 수지\", \"레이크포레\")\n",
    "changeWord(\"용인 상현 더샵 파크사이드\", \"상현 더샵 파크사이드\")\n",
    "changeWord(\"용인 수지 동도센트리움 도시형생활주택\", \"용인수지동도센트리움\")\n",
    "changeWord(\"용인수지휴엔하임\", \"용인수지 휴엔하임 아파트\")\n",
    "changeWord(\"성복역 롯데캐슬 파크나인\", \"성복역 롯데캐슬 파크나인1차\")\n",
    "changeWord(\"용인 성복 서희스타힐스 애비뉴\", \"성복역 서희스타힐스\")\n",
    "changeWord(\"용인 성복역 KCC스위첸\", \"성복역KCC스위첸\")\n",
    "changeWord(\"용인 성복역 롯데캐슬 골드타운\", \"성복역 롯데캐슬 골드타운\")\n",
    "changeWord(\"수지 신봉 동도센트리움\", \"수지신봉동도센트리움\")\n",
    "changeWord(\"수지 풍덕천 한샘 더 랜드마크\", \"수지 풍덕천 한샘 더랜드마크\")\n",
    "changeWord(\"이편한세상 수지\", \"e편한세상수지\")\n",
    "changeWord(\"용인 수지 파크 푸르지오\", \"수지 파크 푸르지오\")\n",
    "changeWord(\"용인고림지구2차 양우내안애 에듀퍼스트\", \"양우내안애에듀퍼스트\")\n",
    "changeWord(\"용인 고림지구 양우내안애\", \"양우내안애에듀파크\")\n",
    "changeWord(\"용인 웰메이드시티337\", \"용인웰메이드시티\")\n",
    "changeWord(\"유메이드\", \"용인유메이드\")\n",
    "changeWord(\"e편한세상 용인 한숲시티 2BL\", \"e편한세상용인한숲시티2단지\")\n",
    "changeWord(\"e편한세상 용인 한숲시티 3BL\", \"e편한세상용인한숲시티3단지\")\n",
    "changeWord(\"e편한세상 용인 한숲시티 4BL\", \"e편한세상용인한숲시티4단지\")\n",
    "changeWord(\"e편한세상 용인 한숲시티 5BL\", \"e편한세상용인한숲시티5단지\")\n",
    "changeWord(\"e편한세상 용인 한숲시티 6BL\", \"e편한세상용인한숲시티6단지\")\n",
    "changeWord(\"용인 역북 골드클래스\", \"골드클래스\")\n",
    "changeWord(\"용인 역북 명지대역 동원로얄듀크\", \"용인명지대역동원로얄듀크\")\n",
    "changeWord(\"용인 역북 신원 아침도시\", \"역북신원아침도시\")\n",
    "changeWord(\"용인 역북 우미린 센트럴파크\", \"우미린센트럴파크\")\n",
    "changeWord(\"에이스카운티\", \"에이스카운티아파트\")\n",
    "changeWord(\"의왕 장안지구 파크 푸르지오\", \"의왕파크푸르지오 1차\")\n",
    "changeWord(\"의왕서해그랑블\", \"의왕서해그랑블(블루스퀘어)\")\n",
    "changeWord(\"의왕 포일 센트럴 푸르지오\", \"인덕원 푸르지오 엘센트로\")\n",
    "changeWord(\"의왕백운밸리 효성해링턴플레이스 B블록\", \"의왕백운 해링턴 플레이스 1단지\")\n",
    "changeWord(\"의왕백운밸리 효성해링턴플레이스C1블록\", \"의왕백운 해링턴 플레이스 2단지\")\n",
    "changeWord(\"의왕백운밸리 효성해링턴플레이스C2블록\", \"의왕백운 해링턴 플레이스 3단지\")\n",
    "changeWord(\"의왕백운밸리 효성해링턴플레이스C3블록\", \"의왕백운 해링턴 플레이스 4단지\")\n",
    "changeWord(\"의왕백운밸리 효성해링턴플레이스C4블록\", \"의왕백운 해링턴 플레이스 5단지\")\n",
    "changeWord(\"힐스테이트 녹양역\", \"힐스테이트녹양역\")\n",
    "changeWord(\"의정부 민락2 반도유보라 아이비파크\", \"반도유보라아이비파크\")\n",
    "changeWord(\"의정부민락2지구 B11 대광로제비앙\", \"대광 로제비앙 포레스트\")\n",
    "changeWord(\"의정부 민락2지구 우미린\", \"의정부민락우미린더스카이\")\n",
    "changeWord(\"의정부민락2 호반베르디움 B14,B15\", \"호반베르디움1차\")\n",
    "changeWord(\"의정부민락２Ｂ１２호반베르디움\", \"민락2지구18단지호반베르디움\")\n",
    "changeWord(\"의정부 고산 대광로제비앙\", \"대광로제비앙 더 퍼스트\")\n",
    "changeWord(\"승윤 노블리안시티\", \"승윤노블리안시티\")\n",
    "changeWord(\"승윤노블리안시티2\", \"승윤노블리안시티II\")\n",
    "changeWord(\"한원힐트리움 더테라스\", \"의정부 한원힐트리움-더테라스\")\n",
    "changeWord(\"의정부 롯데캐슬 골드파크 1BL\", \"의정부 롯데캐슬 골드파크 1단지\")\n",
    "changeWord(\"의정부 롯데캐슬 골드파크 2BL\", \"의정부 롯데캐슬 골드파크 2단지\")\n",
    "changeWord(\"의정부 장암 더샵 \", \"장암더샵\")\n",
    "changeWord(\"의정부 르네상스시티\", \"르네상스시티\")\n",
    "changeWord(\"운정신도시 아이파크 \", \"운정신도시 IPARK\")\n",
    "changeWord(\"파주 운정 화성파크드림\", \"운정 화성파크드림 시그니처\")\n",
    "changeWord(\"파주 힐스테이트 운정\", \"힐스테이트운정\")\n",
    "changeWord(\"파주 문산역 동문굿모닝힐\", \"파주문산역1차 동문 굿모닝힐\")\n",
    "changeWord(\"파주 운정신도시 롯데캐슬 파크타운\", \"운정롯데캐슬파크타운1차\")\n",
    "changeWord(\"파주 운정신도시 롯데캐슬 파크타운2차\", \"롯데캐슬 파크타운Ⅱ\")\n",
    "changeWord(\"파주 효성해링턴 플레이스\", \"효성해링턴플레이스\")\n",
    "changeWord(\"미사강변도시 A18BL\", \"미사강변 센텀팰리스\")\n",
    "changeWord(\"미사강변푸르지오1차 A30블럭\", \"미사강변푸르지오\")\n",
    "changeWord(\"하남미사강변C2블럭 호반 써밋플레이스\", \"미사강변 호반 써밋\")\n",
    "changeWord(\"하남미사 A1블럭 미사강변리버뷰자이\", \"미사강변리버뷰자이\")\n",
    "changeWord(\"e편한세상 미사 \", \"이편한세상미사\")\n",
    "changeWord(\"미사강변 동원로얄듀크\", \"미사강변동원로얄듀크\")\n",
    "changeWord(\"하남미사 A32블럭 신안인스빌\", \"신안인스빌\")\n",
    "changeWord(\"하남 힐즈파크 푸르지오 1BL\", \"하남힐즈파크푸르지오 1단지\")\n",
    "changeWord(\"하남 힐즈파크 푸르지오 2BL\", \"하남힐즈파크푸르지오 2단지\")\n",
    "changeWord(\"하남 힐즈파크 푸르지오 3BL\", \"하남힐즈파크푸르지오 3단지\")\n",
    "changeWord(\"하남미사강변도시 A33블록 제일풍경채\", \"미사강변센트럴풍경채\")\n",
    "changeWord(\"위례 신안인스빌 아스트로\", \"위례신도시신안인스빌아스트로\")\n",
    "changeWord(\"위례에코앤롯데캐슬(A3-8)\", \"위례롯데캐슬\")\n",
    "changeWord(\"위례그린파크푸르지오(A3-9)\", \"위례그린파크 푸르지오\")\n",
    "changeWord(\"엠코타운2차 센트로엘(A3-6A)\", \"위례신도시엠코타운센트로엘\")\n",
    "changeWord(\"화성기산 SK VIEW PARK 2차\", \"에스케이뷰파크2차\")\n",
    "changeWord(\"양우내안에(남양뉴타운B3)\", \"남양뉴타운 양우내안애 1차\")\n",
    "changeWord(\"화성남양뉴타운 B2블록 양우내안애２차\", \"양우내안애2차에듀타운아파트\")\n",
    "changeWord(\"화성 남양뉴타운 동광뷰엘\", \"동광뷰엘\")\n",
    "changeWord(\"화성 남양 B12블록 시티프라디움\", \"시티프라디움1차아파트\")\n",
    "changeWord(\"화성 남양뉴타운 B1블록 시티프라디움\", \"시티프라디움1차아파트\")\n",
    "changeWord(\"송산그린시티 세영리첼 에듀파크\", \"세영리첼 에듀파크\")\n",
    "changeWord(\"신동탄파크자이\", \"서동탄역파크자이\")\n",
    "changeWord(\"신동탄파크자이 2차\", \"서동탄역파크자이2차\")\n",
    "changeWord(\"e편한세상 동탄 A45\", \"이편한세상동탄\")\n",
    "changeWord(\"금강펜테리움 센트럴파크(A46블럭)4차\", \"동탄 금강펜테리움 센트럴파크Ⅳ\")\n",
    "changeWord(\"동탄2신도시 2차 동원로얄듀크\", \"동탄동원로얄듀크2차\")\n",
    "changeWord(\"동탄2신도시 A47블록 한신휴플러스\", \"한신더휴\")\n",
    "changeWord(\"동탄2신도시 힐스테이트 동탄\", \"힐스테이트 동탄\")\n",
    "changeWord(\"동탄２신도시 호반베르디움 22단지\", \"동탄2신도시 호반베르디움 22단지\")\n",
    "changeWord(\"고덕 하늘채 시그니처\", \"고덕하늘채 시그니처\")\n",
    "changeWord(\"평택 고덕파라곤\", \"고덕국제신도시파라곤\")\n",
    "changeWord(\"평택 더샵 센트럴파크 1BL\", \"The Sharp 지제역 센트럴파크 1BL\")\n",
    "changeWord(\"평택 더샵 센트럴파크 2BL\", \"The Sharp 지제역 센트럴파크 2BL\")\n",
    "changeWord(\"평택자이더 익스프레스4BL\", \"평택센트럴자이 4단지\")\n",
    "changeWord(\"평택자이더 익스프레스5BL\", \"평택센트럴자이 5단지\")\n",
    "changeWord(\"평택소사벌 B-1 푸르지오\", \"평택소사벌푸르지오\")\n",
    "changeWord(\"힐스테이트 평택 3차\", \"힐스테이트평택3차(3-1블록)\")\n",
    "changeWord(\"힐스테이트 평택2차\", \"힐스테이트 2차(세교지구 2-1BL)\")\n",
    "changeWord(\"힐스테이트 평택2차 (세교도시개발2-1)\", \"힐스테이트 2차(세교지구 2-1BL)\")\n",
    "changeWord(\"힐스테이트 평택(세교도시개발1-2블럭)\", \"힐스테이트 평택 1차\")\n",
    "changeWord(\"효성해링턴 플레이스 1BL\", \"평택효성해링턴플레이스1단지\")\n",
    "changeWord(\"효성해링턴 플레이스 2BL\", \"평택효성해링턴플레이스2단지\")\n",
    "changeWord(\"평택 송탄역 서희스타힐스\", \"송탄역 서희스타힐스\")\n",
    "changeWord(\"평택 신장동 메디슨스퀘어3\", \"메디슨스퀘어3차\")\n",
    "changeWord(\"평택송담힐스테이트\", \"힐스테이트 송담\")\n",
    "changeWord(\"평택 송담지구 79-1블록 지엔하임\", \"송담 지엔하임1차\")\n",
    "changeWord(\"평택 송담지구 80-2블록 지엔하임\", \"송담 지엔하임2차\")\n",
    "changeWord(\"e 편한세상 평택용이(신흥지구1BL)\", \"e편한세상 평택용이 1단지\")\n",
    "changeWord(\"e 편한세상 평택용이(신흥지구 2BL)\", \"e편한세상 평택용이 2단지\")\n",
    "changeWord(\"비전아이파크 평택\", \"비전아이파크평택\")\n",
    "changeWord(\"서정라페온빌\", \"서정라페온빌3차\")\n",
    "changeWord(\"평택 장당 제일풍경채3차\", \"제일풍경채장당센트럴\")\n",
    "changeWord(\"소사벌더샵\", \"소사벌더샵마스터뷰\")\n",
    "changeWord(\"평택 소사벌 우미린 레이크파크\", \"우미린레이크파크\")\n",
    "changeWord(\"평택소사벌지구 B11블럭 호반베르디움\", \"평택소사벌 호반베르디움\")\n",
    "changeWord(\"평택청북지구B-11 브라운스톤 청북\", \"브라운스톤청북\")\n",
    "changeWord(\"평택 지제역 동문굿모닝힐 맘시티 A1\", \"평택지제역동문굿모닝힐맘시티1단지\")\n",
    "changeWord(\"평택 지제역 동문굿모닝힐 맘시티 A2\", \"평택지제역동문굿모닝힐맘시티2단지\")\n",
    "changeWord(\"평택 지제역 동문굿모닝힐 맘시티 A4\", \"평택지제역동문굿모닝힐맘시티4단지\")\n",
    "changeWord(\"더 맥심 험프리스\", \"맥심험프리스\")\n",
    "changeWord(\"라페온빌\", \"라페온빌1차\")\n",
    "changeWord(\"평택역 동우 자인채 센트럴\", \"동우자인채센트럴\")\n",
    "changeWord(\"평택역 코아루두드림\", \"평택역코아루두드림\")\n",
    "changeWord(\"평택 골든포트\", \"평택포승 골든포트\")\n",
    "changeWord(\"평택 비전 레이크 푸르지오\", \"평택비전레이크푸르지오\")\n",
    "changeWord(\"평택비전푸르지오(A-3블록)\", \"평택비전푸르지오\")\n",
    "changeWord('남양주다산신도시 아이파크', '다산아이파크')\n",
    "changeWord('다산신도시 금강펜테리움 리버테라스2차', '다산펜테리움리버테라스Ⅱ')\n",
    "changeWord('다산신도시 금강펜테리움 리버테라스 B4', '다산 펜테리움 리버테라스 Ⅰ')\n",
    "changeWord('다산아이파', '다산아이파크')\n",
    "changeWord('다산지금지구B3 신안인스빌 퍼스트포레', '다산신안인스빌퍼스트포레')\n",
    "changeWord('다산지금B5 반도유보라 메이플타운2.0', '다산반도유보라메이플타운2.0')\n",
    "changeWord('지금 힐스테이트', '힐스테이트 황금산')\n",
    "changeWord('남양주 라온프라이빗（1-1블럭）', '남양주 라온프라이빗 1단지')\n",
    "changeWord('남양주 라온프라이빗（2-1블럭）', '남양주 라온프라이빗 2단지')\n",
    "changeWord('남양주 라온프라이빗（1-2블럭）', '남양주 라온프라이빗 1단지')\n",
    "changeWord('남양주 라온프라이빗（3-1블럭）', '남양주 라온프라이빗 3단지')\n",
    "changeWord('남양주 라온프라이빗（4-1블럭）', '남양주 라온프라이빗 4단지')\n",
    "changeWord('남양주 마석 푸르지오', '마석힐즈파크푸르지오')\n",
    "changeWord('남양주창현도뮤토', '남양주 창현 도뮤토')\n",
    "changeWord('부천 e편한세상 온수역', '이편한세상 온수역')\n",
    "changeWord('부천 한신더휴메트로', '부천 한신더휴 메트로')\n",
    "changeWord('송내역파인푸르지오1단지', '송내역 파인 푸르지오 1단지')\n",
    "changeWord('송내역파인푸르지오2단지', '송내역 파인 푸르지오 2단지')\n",
    "changeWord('부천 심곡동 우림필유 ', '부천우림필유에듀파크')\n",
    "changeWord('동도센트리움', '동도 센트리움')\n",
    "changeWord('부천옥길 호반베르디움', '옥길호반베르디움')\n",
    "changeWord('부천옥길자이（보금자리주택）', '부천옥길자이')\n",
    "changeWord('부천옥길지구 제일풍경채(보금자리) ', '제일풍경채 제이드카운티2단지')\n",
    "changeWord('부천옥길지구 한신휴플러스(보금자리)', '한신더휴 제이드카운티1단지')\n",
    "changeWord('부천 중동 센트럴파크 푸르지오', '센트럴파크 푸르지오')\n",
    "changeWord('부천 중동 효성해링턴 플레이스', '부천 중동 해링턴플레이스')\n",
    "changeWord('판교 퍼스트힐 푸르지오 A2BL', '판교퍼스트힐푸르지오A2')\n",
    "changeWord('산성역 포레스티아', '산성역포레스티아')\n",
    "changeWord('위례 센트럴푸르지오(A2-9)', '위례센트럴 푸르지오')\n",
    "changeWord('자연앤래미안e편한세상(A2-11)', '위례자연앤래미안이편한세상')\n",
    "changeWord('위례지구 A2-8블럭 호반베르디움', '위례호반베르디움')\n",
    "changeWord('위례아트리버 푸르지오1단지(C2-2)', '위례아트리버푸르지오1단지')\n",
    "changeWord('위례아트리버푸르지오2단지C2-3', '위례아트리버푸르지오2단지')\n",
    "changeWord('위례C2-1BL 보미리즌빌 주상복합', '위례보미리즌빌')\n",
    "changeWord('위례신도시 A2-3BL 위례자이', '위례자이')\n",
    "changeWord('한양수자인 성남마크뷰', '한양수자인성남마크뷰')\n",
    "changeWord('수원호매실호반베르디움(B5블록)', '호반베르디움 더 센트럴')\n",
    "changeWord('수원호매실호반베르디움(B9블록)', '호반베르디움 더 센트럴')\n",
    "changeWord('수원 오목천동 서희스타힐스', '오목천역 서희스타힐스 아파트')\n",
    "changeWord('수원 호매실 금호어울림 에듀포레', '호매실금호어울림에듀포레')\n",
    "changeWord('한양수자인 파크원', '한양수자인파크원')\n",
    "changeWord('e편한세상영통2차1단지', '이편한세상2차1단지')\n",
    "changeWord('e편한세상영통2차2단지', '이편한세상2차2단지')\n",
    "changeWord('영통SK VIEW', '영통 SK VIEW')\n",
    "changeWord('수원 영통 아이파크캐슬 1블록', '영통아이파크캐슬1단지')\n",
    "changeWord('수원 영통 아이파크캐슬 2블록', '영통아이파크캐슬2단지')\n",
    "changeWord('힐스테이트영통', '힐스테이트 영통')\n",
    "changeWord('수원 영통 라온프라이빗', '영통 라온프라이빗')\n",
    "changeWord('수원 광교 C-2 블럭 중흥S클래스', '광교중흥에스클래스')\n",
    "changeWord('힐스테이트광교(D3블럭)', '힐스테이트광교')\n",
    "changeWord('호반베르디움센트럴포레', '호반베르디움 센트럴포레')\n",
    "changeWord('e편한세상 화성', 'e편한세상 반월 나노시티역')\n",
    "changeWord('e편한세상 신봉담 공공분양', '이편한세상신봉담')\n",
    "changeWord('봉담역 동문 굿모닝힐', '호수마을동문굿모닝힐')\n",
    "changeWord('봉담2차우방아이유쉘', '우방아이유쉘2단지')\n",
    "changeWord('봉담우방아이유쉘', '우방아이유쉘1단지')\n",
    "changeWord('봉담 한신더휴 에듀파크', '봉담한신더휴에듀파크')\n",
    "changeWord('동탄2 A73블록 사랑으로 부영', '더레이크시티부영4단지')\n",
    "changeWord('동탄2 A74블록 사랑으로 부영', '더레이크시티부영5단지')\n",
    "changeWord('동탄2 A75블록 사랑으로 부영', '더레이크시티부영6단지')\n",
    "changeWord('동탄2 A79 반도유보라 아이비파크10.0', '레이크힐 반도유보라 아이비파크 10.2')\n",
    "changeWord('동탄2 A80 반도유보라 아이비파크10.0', '그린힐 반도유보라 아이비파크 10(1단지)')\n",
    "changeWord('동탄2신도시 A70블록 사랑으로 부영', '더레이크시티부영1단지')\n",
    "changeWord('동탄2신도시 A71블록 사랑으로 부영', '더레이크시티부영2단지')\n",
    "changeWord('동탄2신도시 A72블록 사랑으로 부영', '더레이크시티부영3단지')\n",
    "changeWord('송산그린EAA10BL 모아미래도 에듀포레', '모아미래도 에듀포레')\n",
    "changeWord('화성송산그린시티ＥＡＡ２블럭ＥＧｔｈｅ１', '송산그린시티 이지더원 레이크뷰 아파트')\n",
    "changeWord('동탄2신도시 하우스디 더 레이크', '동탄2하우스디더레이크')\n",
    "changeWord('화성 안녕동 우방아이유쉘', '안녕동우방아이유쉘')\n",
    "changeWord('경남아너스빌(A101블럭)', '동탄역 경남아너스빌')\n",
    "changeWord('동탄2신도시 1차 동원로얄듀크', '동탄역동원로얄듀크1차')\n",
    "changeWord('동탄에듀밸리사랑으로부영', '동탄에듀밸리사랑으로부영아파트')\n",
    "changeWord('동탄파크자이(A8블럭)', '동탄파크자이')\n",
    "changeWord('금강펜테리움 센트럴파크 동탄(A-39)', '동탄2신도시 금강펜테리움 센트럴파크Ⅰ')\n",
    "changeWord('동탄역파라곤（주）', '동탄역 파라곤')\n",
    "changeWord('반도유보라아이비파크2차(A13블럭)', '동탄역반도유보라아이비파크2.0')\n",
    "changeWord('동탄2신도시 3차 푸르지오', '동탄파크푸르지오')\n",
    "changeWord('동탄2 A35블록 중흥S-클래스', '중흥에스클래스에코벨리')\n",
    "changeWord('동탄2신도시 3차 동원로얄듀크 비스타', '동탄역동원로얄듀크비스타3차')\n",
    "changeWord('동탄2신도시 A-37 반도유보라 5.0', '동탄역 반도유보라 아이비파크5.0')\n",
    "changeWord('반도유보라아이비파크3.0(A-38블럭)', '반도유보라아이비파크3')\n",
    "changeWord('화성동탄2 반도유보라 아이비파크8.0', '동탄역 반도유보라 아이비파크 8.0')\n",
    "changeWord('동탄 자이파밀리에 ', '동탄호수자이파밀리에')\n",
    "changeWord('동탄2 A96블록 제일풍경채 에듀파크', '제일풍경ㄹ채에듀앤파크')\n",
    "changeWord('동탄2 금호어울림 레이크 ', '금호어울림레이크')\n",
    "changeWord('호반베르디움6차(A97)', '동탄2신도시 호반베르디움 33단지')\n",
    "changeWord('화성동탄2 반도유보라 아이비파크9.0', '레이크 반도유보라 아이비파크 9.0')\n",
    "changeWord('동탄2지구 금성백조예미지(A-17)', '동탄역시범예미지아파트')\n",
    "changeWord('동탄꿈에그린프레스티지(A-21블록)', '동탄역 시범한화 꿈에그린 프레스티지')\n",
    "changeWord('동탄역 더삽 센트럴시티)', '더샵센트럴시티')\n",
    "changeWord('반도유보라 아이비파크4.0(C15블럭)', '시범 반도유보라 아이비파크4.0')\n",
    "changeWord('반도유보라아이비파크(A-18)', '동탄역 시범반도유보라아이비파크1.0')\n",
    "changeWord('센트럴푸르지오(A29블럭)', '동탄2신도시 센트럴 푸르지오')\n",
    "changeWord('신안인스빌리베라1차(A32블럭)', '동탄2신도시신안인스빌 1차')\n",
    "changeWord('신안인스빌리베라2차(A26)', '신안인스빌리베라2차')\n",
    "changeWord('호반베르디움더클래스(A30블럭)', '동탄2신도시 호반베르디움 더클래스')"
   ]
  },
  {
   "cell_type": "markdown",
   "id": "15cd4d3d",
   "metadata": {},
   "source": [
    "### 송도 더샵 센트럴시티 수정"
   ]
  },
  {
   "cell_type": "code",
   "execution_count": 23,
   "id": "dd1eb43b",
   "metadata": {},
   "outputs": [
    {
     "data": {
      "text/html": [
       "<div>\n",
       "<style scoped>\n",
       "    .dataframe tbody tr th:only-of-type {\n",
       "        vertical-align: middle;\n",
       "    }\n",
       "\n",
       "    .dataframe tbody tr th {\n",
       "        vertical-align: top;\n",
       "    }\n",
       "\n",
       "    .dataframe thead th {\n",
       "        text-align: right;\n",
       "    }\n",
       "</style>\n",
       "<table border=\"1\" class=\"dataframe\">\n",
       "  <thead>\n",
       "    <tr style=\"text-align: right;\">\n",
       "      <th></th>\n",
       "      <th>시군구</th>\n",
       "      <th>번지</th>\n",
       "      <th>단지명</th>\n",
       "      <th>전용면적(㎡)</th>\n",
       "      <th>거래금액(만원)</th>\n",
       "      <th>층</th>\n",
       "      <th>계약년월</th>\n",
       "      <th>계약일</th>\n",
       "      <th>분/입구분</th>\n",
       "      <th>해제사유발생일</th>\n",
       "      <th>지역</th>\n",
       "      <th>id</th>\n",
       "    </tr>\n",
       "  </thead>\n",
       "  <tbody>\n",
       "  </tbody>\n",
       "</table>\n",
       "</div>"
      ],
      "text/plain": [
       "Empty DataFrame\n",
       "Columns: [시군구, 번지, 단지명, 전용면적(㎡), 거래금액(만원), 층, 계약년월, 계약일, 분/입구분, 해제사유발생일, 지역, id]\n",
       "Index: []"
      ]
     },
     "execution_count": 23,
     "metadata": {},
     "output_type": "execute_result"
    }
   ],
   "source": [
    "central = df[df['단지명']==\"송도 더샵 센트럴시티\"].index\n",
    "df = df.drop(central)\n",
    "df[df.단지명==\"송도 더샵 센트럴시티\"]"
   ]
  },
  {
   "cell_type": "code",
   "execution_count": 24,
   "id": "47475290",
   "metadata": {},
   "outputs": [
    {
     "data": {
      "text/html": [
       "<div>\n",
       "<style scoped>\n",
       "    .dataframe tbody tr th:only-of-type {\n",
       "        vertical-align: middle;\n",
       "    }\n",
       "\n",
       "    .dataframe tbody tr th {\n",
       "        vertical-align: top;\n",
       "    }\n",
       "\n",
       "    .dataframe thead th {\n",
       "        text-align: right;\n",
       "    }\n",
       "</style>\n",
       "<table border=\"1\" class=\"dataframe\">\n",
       "  <thead>\n",
       "    <tr style=\"text-align: right;\">\n",
       "      <th></th>\n",
       "      <th>시군구</th>\n",
       "      <th>번지</th>\n",
       "      <th>단지명</th>\n",
       "      <th>전용면적(㎡)</th>\n",
       "      <th>거래금액(만원)</th>\n",
       "      <th>층</th>\n",
       "      <th>계약년월</th>\n",
       "      <th>계약일</th>\n",
       "      <th>분/입구분</th>\n",
       "      <th>해제사유발생일</th>\n",
       "      <th>거래유형</th>\n",
       "      <th>중개사소재지</th>\n",
       "    </tr>\n",
       "  </thead>\n",
       "  <tbody>\n",
       "    <tr>\n",
       "      <th>0</th>\n",
       "      <td>인천광역시 연수구 송도동</td>\n",
       "      <td>190-4</td>\n",
       "      <td>송도　더샵　센트럴시티</td>\n",
       "      <td>72.99</td>\n",
       "      <td>39,760</td>\n",
       "      <td>20</td>\n",
       "      <td>201701</td>\n",
       "      <td>3</td>\n",
       "      <td>분</td>\n",
       "      <td>NaN</td>\n",
       "      <td>-</td>\n",
       "      <td>-</td>\n",
       "    </tr>\n",
       "    <tr>\n",
       "      <th>1</th>\n",
       "      <td>인천광역시 연수구 송도동</td>\n",
       "      <td>190-4</td>\n",
       "      <td>송도　더샵　센트럴시티</td>\n",
       "      <td>84.97</td>\n",
       "      <td>46,020</td>\n",
       "      <td>33</td>\n",
       "      <td>201701</td>\n",
       "      <td>4</td>\n",
       "      <td>분</td>\n",
       "      <td>NaN</td>\n",
       "      <td>-</td>\n",
       "      <td>-</td>\n",
       "    </tr>\n",
       "    <tr>\n",
       "      <th>2</th>\n",
       "      <td>인천광역시 연수구 송도동</td>\n",
       "      <td>190-4</td>\n",
       "      <td>송도　더샵　센트럴시티</td>\n",
       "      <td>59.97</td>\n",
       "      <td>35,185</td>\n",
       "      <td>11</td>\n",
       "      <td>201701</td>\n",
       "      <td>5</td>\n",
       "      <td>분</td>\n",
       "      <td>NaN</td>\n",
       "      <td>-</td>\n",
       "      <td>-</td>\n",
       "    </tr>\n",
       "    <tr>\n",
       "      <th>3</th>\n",
       "      <td>인천광역시 연수구 송도동</td>\n",
       "      <td>190-4</td>\n",
       "      <td>송도　더샵　센트럴시티</td>\n",
       "      <td>59.99</td>\n",
       "      <td>35,120</td>\n",
       "      <td>28</td>\n",
       "      <td>201701</td>\n",
       "      <td>6</td>\n",
       "      <td>분</td>\n",
       "      <td>NaN</td>\n",
       "      <td>-</td>\n",
       "      <td>-</td>\n",
       "    </tr>\n",
       "    <tr>\n",
       "      <th>4</th>\n",
       "      <td>인천광역시 연수구 송도동</td>\n",
       "      <td>190-4</td>\n",
       "      <td>송도　더샵　센트럴시티</td>\n",
       "      <td>72.99</td>\n",
       "      <td>39,015</td>\n",
       "      <td>7</td>\n",
       "      <td>201701</td>\n",
       "      <td>9</td>\n",
       "      <td>분</td>\n",
       "      <td>NaN</td>\n",
       "      <td>-</td>\n",
       "      <td>-</td>\n",
       "    </tr>\n",
       "  </tbody>\n",
       "</table>\n",
       "</div>"
      ],
      "text/plain": [
       "             시군구     번지          단지명  전용면적(㎡) 거래금액(만원)   층    계약년월  계약일 분/입구분  \\\n",
       "0  인천광역시 연수구 송도동  190-4  송도　더샵　센트럴시티    72.99   39,760  20  201701    3     분   \n",
       "1  인천광역시 연수구 송도동  190-4  송도　더샵　센트럴시티    84.97   46,020  33  201701    4     분   \n",
       "2  인천광역시 연수구 송도동  190-4  송도　더샵　센트럴시티    59.97   35,185  11  201701    5     분   \n",
       "3  인천광역시 연수구 송도동  190-4  송도　더샵　센트럴시티    59.99   35,120  28  201701    6     분   \n",
       "4  인천광역시 연수구 송도동  190-4  송도　더샵　센트럴시티    72.99   39,015   7  201701    9     분   \n",
       "\n",
       "   해제사유발생일 거래유형 중개사소재지  \n",
       "0      NaN    -      -  \n",
       "1      NaN    -      -  \n",
       "2      NaN    -      -  \n",
       "3      NaN    -      -  \n",
       "4      NaN    -      -  "
      ]
     },
     "execution_count": 24,
     "metadata": {},
     "output_type": "execute_result"
    }
   ],
   "source": [
    "centralcity = pd.read_csv(\"data/etc/centralcity.csv\")\n",
    "centralcity.head()"
   ]
  },
  {
   "cell_type": "code",
   "execution_count": 26,
   "id": "08059593",
   "metadata": {},
   "outputs": [
    {
     "data": {
      "text/plain": [
       "(214592, 14)"
      ]
     },
     "execution_count": 26,
     "metadata": {},
     "output_type": "execute_result"
    }
   ],
   "source": [
    "df = pd.concat([df, centralcity])\n",
    "df.shape"
   ]
  },
  {
   "cell_type": "code",
   "execution_count": 27,
   "id": "1da5b990-3932-4ca1-912e-a9016bbde89b",
   "metadata": {
    "collapsed": true,
    "tags": []
   },
   "outputs": [
    {
     "data": {
      "text/plain": [
       "(754, 2)"
      ]
     },
     "metadata": {},
     "output_type": "display_data"
    },
    {
     "name": "stdout",
     "output_type": "stream",
     "text": [
      "개수가 1개 이상입니다.\n"
     ]
    },
    {
     "data": {
      "text/html": [
       "<div>\n",
       "<style scoped>\n",
       "    .dataframe tbody tr th:only-of-type {\n",
       "        vertical-align: middle;\n",
       "    }\n",
       "\n",
       "    .dataframe tbody tr th {\n",
       "        vertical-align: top;\n",
       "    }\n",
       "\n",
       "    .dataframe thead th {\n",
       "        text-align: right;\n",
       "    }\n",
       "</style>\n",
       "<table border=\"1\" class=\"dataframe\">\n",
       "  <thead>\n",
       "    <tr style=\"text-align: right;\">\n",
       "      <th></th>\n",
       "      <th>시군구</th>\n",
       "      <th>단지명</th>\n",
       "    </tr>\n",
       "  </thead>\n",
       "  <tbody>\n",
       "    <tr>\n",
       "      <th>203109</th>\n",
       "      <td>인천광역시 서구 가좌동</td>\n",
       "      <td>주공2</td>\n",
       "    </tr>\n",
       "    <tr>\n",
       "      <th>21172</th>\n",
       "      <td>서울특별시 강남구 개포동</td>\n",
       "      <td>주공2</td>\n",
       "    </tr>\n",
       "  </tbody>\n",
       "</table>\n",
       "</div>"
      ],
      "text/plain": [
       "                  시군구  단지명\n",
       "203109   인천광역시 서구 가좌동  주공2\n",
       "21172   서울특별시 강남구 개포동  주공2"
      ]
     },
     "metadata": {},
     "output_type": "display_data"
    },
    {
     "name": "stdout",
     "output_type": "stream",
     "text": [
      "시군구를 입력해주세요인천광역시 서구 가좌동\n"
     ]
    },
    {
     "data": {
      "text/plain": [
       "(754, 2)"
      ]
     },
     "metadata": {},
     "output_type": "display_data"
    },
    {
     "data": {
      "text/plain": [
       "(753, 2)"
      ]
     },
     "metadata": {},
     "output_type": "display_data"
    },
    {
     "data": {
      "text/plain": [
       "(752, 2)"
      ]
     },
     "metadata": {},
     "output_type": "display_data"
    },
    {
     "data": {
      "text/plain": [
       "(751, 2)"
      ]
     },
     "metadata": {},
     "output_type": "display_data"
    },
    {
     "data": {
      "text/plain": [
       "(750, 2)"
      ]
     },
     "metadata": {},
     "output_type": "display_data"
    },
    {
     "data": {
      "text/plain": [
       "(749, 2)"
      ]
     },
     "metadata": {},
     "output_type": "display_data"
    },
    {
     "data": {
      "text/plain": [
       "(748, 2)"
      ]
     },
     "metadata": {},
     "output_type": "display_data"
    },
    {
     "data": {
      "text/plain": [
       "(747, 2)"
      ]
     },
     "metadata": {},
     "output_type": "display_data"
    },
    {
     "data": {
      "text/plain": [
       "(746, 2)"
      ]
     },
     "metadata": {},
     "output_type": "display_data"
    },
    {
     "data": {
      "text/plain": [
       "(745, 2)"
      ]
     },
     "metadata": {},
     "output_type": "display_data"
    },
    {
     "data": {
      "text/plain": [
       "(744, 2)"
      ]
     },
     "metadata": {},
     "output_type": "display_data"
    },
    {
     "data": {
      "text/plain": [
       "(743, 2)"
      ]
     },
     "metadata": {},
     "output_type": "display_data"
    },
    {
     "data": {
      "text/plain": [
       "(742, 2)"
      ]
     },
     "metadata": {},
     "output_type": "display_data"
    },
    {
     "data": {
      "text/plain": [
       "(741, 2)"
      ]
     },
     "metadata": {},
     "output_type": "display_data"
    },
    {
     "data": {
      "text/plain": [
       "(740, 2)"
      ]
     },
     "metadata": {},
     "output_type": "display_data"
    },
    {
     "data": {
      "text/plain": [
       "(739, 2)"
      ]
     },
     "metadata": {},
     "output_type": "display_data"
    },
    {
     "data": {
      "text/plain": [
       "(738, 2)"
      ]
     },
     "metadata": {},
     "output_type": "display_data"
    },
    {
     "name": "stdout",
     "output_type": "stream",
     "text": [
      "개수가 1개 이상입니다.\n"
     ]
    },
    {
     "data": {
      "text/html": [
       "<div>\n",
       "<style scoped>\n",
       "    .dataframe tbody tr th:only-of-type {\n",
       "        vertical-align: middle;\n",
       "    }\n",
       "\n",
       "    .dataframe tbody tr th {\n",
       "        vertical-align: top;\n",
       "    }\n",
       "\n",
       "    .dataframe thead th {\n",
       "        text-align: right;\n",
       "    }\n",
       "</style>\n",
       "<table border=\"1\" class=\"dataframe\">\n",
       "  <thead>\n",
       "    <tr style=\"text-align: right;\">\n",
       "      <th></th>\n",
       "      <th>시군구</th>\n",
       "      <th>단지명</th>\n",
       "    </tr>\n",
       "  </thead>\n",
       "  <tbody>\n",
       "    <tr>\n",
       "      <th>11556</th>\n",
       "      <td>서울특별시 관악구 봉천동</td>\n",
       "      <td>한양아이클래스(도시형)</td>\n",
       "    </tr>\n",
       "    <tr>\n",
       "      <th>11692</th>\n",
       "      <td>서울특별시 구로구 개봉동</td>\n",
       "      <td>한양아이클래스(도시형)</td>\n",
       "    </tr>\n",
       "  </tbody>\n",
       "</table>\n",
       "</div>"
      ],
      "text/plain": [
       "                 시군구           단지명\n",
       "11556  서울특별시 관악구 봉천동  한양아이클래스(도시형)\n",
       "11692  서울특별시 구로구 개봉동  한양아이클래스(도시형)"
      ]
     },
     "metadata": {},
     "output_type": "display_data"
    },
    {
     "name": "stdout",
     "output_type": "stream",
     "text": [
      "시군구를 입력해주세요서울특별시 관악구 봉천동\n"
     ]
    },
    {
     "data": {
      "text/plain": [
       "(738, 2)"
      ]
     },
     "metadata": {},
     "output_type": "display_data"
    },
    {
     "data": {
      "text/plain": [
       "(737, 2)"
      ]
     },
     "metadata": {},
     "output_type": "display_data"
    },
    {
     "data": {
      "text/plain": [
       "(736, 2)"
      ]
     },
     "metadata": {},
     "output_type": "display_data"
    },
    {
     "data": {
      "text/plain": [
       "(735, 2)"
      ]
     },
     "metadata": {},
     "output_type": "display_data"
    },
    {
     "data": {
      "text/plain": [
       "(734, 2)"
      ]
     },
     "metadata": {},
     "output_type": "display_data"
    },
    {
     "data": {
      "text/plain": [
       "(733, 2)"
      ]
     },
     "metadata": {},
     "output_type": "display_data"
    },
    {
     "data": {
      "text/plain": [
       "(732, 2)"
      ]
     },
     "metadata": {},
     "output_type": "display_data"
    },
    {
     "data": {
      "text/plain": [
       "(731, 2)"
      ]
     },
     "metadata": {},
     "output_type": "display_data"
    },
    {
     "data": {
      "text/plain": [
       "(730, 2)"
      ]
     },
     "metadata": {},
     "output_type": "display_data"
    },
    {
     "data": {
      "text/plain": [
       "(729, 2)"
      ]
     },
     "metadata": {},
     "output_type": "display_data"
    },
    {
     "data": {
      "text/plain": [
       "(728, 2)"
      ]
     },
     "metadata": {},
     "output_type": "display_data"
    },
    {
     "data": {
      "text/plain": [
       "(727, 2)"
      ]
     },
     "metadata": {},
     "output_type": "display_data"
    },
    {
     "data": {
      "text/plain": [
       "(726, 2)"
      ]
     },
     "metadata": {},
     "output_type": "display_data"
    },
    {
     "data": {
      "text/plain": [
       "(725, 2)"
      ]
     },
     "metadata": {},
     "output_type": "display_data"
    },
    {
     "data": {
      "text/plain": [
       "(724, 2)"
      ]
     },
     "metadata": {},
     "output_type": "display_data"
    },
    {
     "data": {
      "text/plain": [
       "(723, 2)"
      ]
     },
     "metadata": {},
     "output_type": "display_data"
    },
    {
     "data": {
      "text/plain": [
       "(722, 2)"
      ]
     },
     "metadata": {},
     "output_type": "display_data"
    },
    {
     "data": {
      "text/plain": [
       "(721, 2)"
      ]
     },
     "metadata": {},
     "output_type": "display_data"
    },
    {
     "data": {
      "text/plain": [
       "(720, 2)"
      ]
     },
     "metadata": {},
     "output_type": "display_data"
    },
    {
     "data": {
      "text/plain": [
       "(719, 2)"
      ]
     },
     "metadata": {},
     "output_type": "display_data"
    },
    {
     "data": {
      "text/plain": [
       "(718, 2)"
      ]
     },
     "metadata": {},
     "output_type": "display_data"
    },
    {
     "data": {
      "text/plain": [
       "(717, 2)"
      ]
     },
     "metadata": {},
     "output_type": "display_data"
    },
    {
     "data": {
      "text/plain": [
       "(716, 2)"
      ]
     },
     "metadata": {},
     "output_type": "display_data"
    },
    {
     "data": {
      "text/plain": [
       "(715, 2)"
      ]
     },
     "metadata": {},
     "output_type": "display_data"
    },
    {
     "data": {
      "text/plain": [
       "(714, 2)"
      ]
     },
     "metadata": {},
     "output_type": "display_data"
    },
    {
     "data": {
      "text/plain": [
       "(713, 2)"
      ]
     },
     "metadata": {},
     "output_type": "display_data"
    },
    {
     "data": {
      "text/plain": [
       "(712, 2)"
      ]
     },
     "metadata": {},
     "output_type": "display_data"
    },
    {
     "data": {
      "text/plain": [
       "(711, 2)"
      ]
     },
     "metadata": {},
     "output_type": "display_data"
    },
    {
     "data": {
      "text/plain": [
       "(710, 2)"
      ]
     },
     "metadata": {},
     "output_type": "display_data"
    },
    {
     "data": {
      "text/plain": [
       "(709, 2)"
      ]
     },
     "metadata": {},
     "output_type": "display_data"
    },
    {
     "data": {
      "text/plain": [
       "(708, 2)"
      ]
     },
     "metadata": {},
     "output_type": "display_data"
    },
    {
     "data": {
      "text/plain": [
       "(707, 2)"
      ]
     },
     "metadata": {},
     "output_type": "display_data"
    },
    {
     "data": {
      "text/plain": [
       "(706, 2)"
      ]
     },
     "metadata": {},
     "output_type": "display_data"
    },
    {
     "data": {
      "text/plain": [
       "(705, 2)"
      ]
     },
     "metadata": {},
     "output_type": "display_data"
    },
    {
     "data": {
      "text/plain": [
       "(704, 2)"
      ]
     },
     "metadata": {},
     "output_type": "display_data"
    },
    {
     "data": {
      "text/plain": [
       "(703, 2)"
      ]
     },
     "metadata": {},
     "output_type": "display_data"
    },
    {
     "data": {
      "text/plain": [
       "(702, 2)"
      ]
     },
     "metadata": {},
     "output_type": "display_data"
    },
    {
     "data": {
      "text/plain": [
       "(701, 2)"
      ]
     },
     "metadata": {},
     "output_type": "display_data"
    },
    {
     "data": {
      "text/plain": [
       "(700, 2)"
      ]
     },
     "metadata": {},
     "output_type": "display_data"
    },
    {
     "data": {
      "text/plain": [
       "(699, 2)"
      ]
     },
     "metadata": {},
     "output_type": "display_data"
    },
    {
     "data": {
      "text/plain": [
       "(698, 2)"
      ]
     },
     "metadata": {},
     "output_type": "display_data"
    },
    {
     "data": {
      "text/plain": [
       "(697, 2)"
      ]
     },
     "metadata": {},
     "output_type": "display_data"
    },
    {
     "data": {
      "text/plain": [
       "(696, 2)"
      ]
     },
     "metadata": {},
     "output_type": "display_data"
    },
    {
     "data": {
      "text/plain": [
       "(695, 2)"
      ]
     },
     "metadata": {},
     "output_type": "display_data"
    },
    {
     "data": {
      "text/plain": [
       "(693, 2)"
      ]
     },
     "metadata": {},
     "output_type": "display_data"
    },
    {
     "data": {
      "text/plain": [
       "(692, 2)"
      ]
     },
     "metadata": {},
     "output_type": "display_data"
    },
    {
     "data": {
      "text/plain": [
       "(691, 2)"
      ]
     },
     "metadata": {},
     "output_type": "display_data"
    },
    {
     "data": {
      "text/plain": [
       "(690, 2)"
      ]
     },
     "metadata": {},
     "output_type": "display_data"
    },
    {
     "data": {
      "text/plain": [
       "(689, 2)"
      ]
     },
     "metadata": {},
     "output_type": "display_data"
    },
    {
     "data": {
      "text/plain": [
       "(688, 2)"
      ]
     },
     "metadata": {},
     "output_type": "display_data"
    },
    {
     "data": {
      "text/plain": [
       "(687, 2)"
      ]
     },
     "metadata": {},
     "output_type": "display_data"
    },
    {
     "data": {
      "text/plain": [
       "(686, 2)"
      ]
     },
     "metadata": {},
     "output_type": "display_data"
    },
    {
     "data": {
      "text/plain": [
       "(685, 2)"
      ]
     },
     "metadata": {},
     "output_type": "display_data"
    },
    {
     "data": {
      "text/plain": [
       "(684, 2)"
      ]
     },
     "metadata": {},
     "output_type": "display_data"
    },
    {
     "data": {
      "text/plain": [
       "(683, 2)"
      ]
     },
     "metadata": {},
     "output_type": "display_data"
    },
    {
     "data": {
      "text/plain": [
       "(682, 2)"
      ]
     },
     "metadata": {},
     "output_type": "display_data"
    },
    {
     "data": {
      "text/plain": [
       "(681, 2)"
      ]
     },
     "metadata": {},
     "output_type": "display_data"
    },
    {
     "data": {
      "text/plain": [
       "(680, 2)"
      ]
     },
     "metadata": {},
     "output_type": "display_data"
    },
    {
     "data": {
      "text/plain": [
       "(679, 2)"
      ]
     },
     "metadata": {},
     "output_type": "display_data"
    },
    {
     "data": {
      "text/plain": [
       "(678, 2)"
      ]
     },
     "metadata": {},
     "output_type": "display_data"
    },
    {
     "data": {
      "text/plain": [
       "(677, 2)"
      ]
     },
     "metadata": {},
     "output_type": "display_data"
    },
    {
     "data": {
      "text/plain": [
       "(676, 2)"
      ]
     },
     "metadata": {},
     "output_type": "display_data"
    },
    {
     "data": {
      "text/plain": [
       "(675, 2)"
      ]
     },
     "metadata": {},
     "output_type": "display_data"
    },
    {
     "data": {
      "text/plain": [
       "(674, 2)"
      ]
     },
     "metadata": {},
     "output_type": "display_data"
    },
    {
     "data": {
      "text/plain": [
       "(673, 2)"
      ]
     },
     "metadata": {},
     "output_type": "display_data"
    },
    {
     "data": {
      "text/plain": [
       "(672, 2)"
      ]
     },
     "metadata": {},
     "output_type": "display_data"
    },
    {
     "data": {
      "text/plain": [
       "(671, 2)"
      ]
     },
     "metadata": {},
     "output_type": "display_data"
    },
    {
     "data": {
      "text/plain": [
       "(670, 2)"
      ]
     },
     "metadata": {},
     "output_type": "display_data"
    },
    {
     "data": {
      "text/plain": [
       "(669, 2)"
      ]
     },
     "metadata": {},
     "output_type": "display_data"
    },
    {
     "data": {
      "text/plain": [
       "(668, 2)"
      ]
     },
     "metadata": {},
     "output_type": "display_data"
    },
    {
     "data": {
      "text/plain": [
       "(667, 2)"
      ]
     },
     "metadata": {},
     "output_type": "display_data"
    },
    {
     "data": {
      "text/plain": [
       "(666, 2)"
      ]
     },
     "metadata": {},
     "output_type": "display_data"
    },
    {
     "data": {
      "text/plain": [
       "(665, 2)"
      ]
     },
     "metadata": {},
     "output_type": "display_data"
    },
    {
     "data": {
      "text/plain": [
       "(664, 2)"
      ]
     },
     "metadata": {},
     "output_type": "display_data"
    },
    {
     "data": {
      "text/plain": [
       "(663, 2)"
      ]
     },
     "metadata": {},
     "output_type": "display_data"
    },
    {
     "data": {
      "text/plain": [
       "(662, 2)"
      ]
     },
     "metadata": {},
     "output_type": "display_data"
    },
    {
     "data": {
      "text/plain": [
       "(661, 2)"
      ]
     },
     "metadata": {},
     "output_type": "display_data"
    },
    {
     "data": {
      "text/plain": [
       "(660, 2)"
      ]
     },
     "metadata": {},
     "output_type": "display_data"
    },
    {
     "data": {
      "text/plain": [
       "(659, 2)"
      ]
     },
     "metadata": {},
     "output_type": "display_data"
    },
    {
     "data": {
      "text/plain": [
       "(658, 2)"
      ]
     },
     "metadata": {},
     "output_type": "display_data"
    },
    {
     "data": {
      "text/plain": [
       "(657, 2)"
      ]
     },
     "metadata": {},
     "output_type": "display_data"
    },
    {
     "data": {
      "text/plain": [
       "(656, 2)"
      ]
     },
     "metadata": {},
     "output_type": "display_data"
    },
    {
     "data": {
      "text/plain": [
       "(655, 2)"
      ]
     },
     "metadata": {},
     "output_type": "display_data"
    },
    {
     "data": {
      "text/plain": [
       "(654, 2)"
      ]
     },
     "metadata": {},
     "output_type": "display_data"
    },
    {
     "data": {
      "text/plain": [
       "(653, 2)"
      ]
     },
     "metadata": {},
     "output_type": "display_data"
    },
    {
     "data": {
      "text/plain": [
       "(652, 2)"
      ]
     },
     "metadata": {},
     "output_type": "display_data"
    },
    {
     "data": {
      "text/plain": [
       "(651, 2)"
      ]
     },
     "metadata": {},
     "output_type": "display_data"
    },
    {
     "data": {
      "text/plain": [
       "(650, 2)"
      ]
     },
     "metadata": {},
     "output_type": "display_data"
    },
    {
     "data": {
      "text/plain": [
       "(649, 2)"
      ]
     },
     "metadata": {},
     "output_type": "display_data"
    },
    {
     "data": {
      "text/plain": [
       "(648, 2)"
      ]
     },
     "metadata": {},
     "output_type": "display_data"
    },
    {
     "data": {
      "text/plain": [
       "(647, 2)"
      ]
     },
     "metadata": {},
     "output_type": "display_data"
    },
    {
     "data": {
      "text/plain": [
       "(646, 2)"
      ]
     },
     "metadata": {},
     "output_type": "display_data"
    },
    {
     "data": {
      "text/plain": [
       "(645, 2)"
      ]
     },
     "metadata": {},
     "output_type": "display_data"
    },
    {
     "data": {
      "text/plain": [
       "(644, 2)"
      ]
     },
     "metadata": {},
     "output_type": "display_data"
    },
    {
     "data": {
      "text/plain": [
       "(643, 2)"
      ]
     },
     "metadata": {},
     "output_type": "display_data"
    },
    {
     "data": {
      "text/plain": [
       "(642, 2)"
      ]
     },
     "metadata": {},
     "output_type": "display_data"
    },
    {
     "data": {
      "text/plain": [
       "(641, 2)"
      ]
     },
     "metadata": {},
     "output_type": "display_data"
    },
    {
     "data": {
      "text/plain": [
       "(640, 2)"
      ]
     },
     "metadata": {},
     "output_type": "display_data"
    },
    {
     "data": {
      "text/plain": [
       "(639, 2)"
      ]
     },
     "metadata": {},
     "output_type": "display_data"
    },
    {
     "data": {
      "text/plain": [
       "(638, 2)"
      ]
     },
     "metadata": {},
     "output_type": "display_data"
    },
    {
     "data": {
      "text/plain": [
       "(637, 2)"
      ]
     },
     "metadata": {},
     "output_type": "display_data"
    },
    {
     "data": {
      "text/plain": [
       "(636, 2)"
      ]
     },
     "metadata": {},
     "output_type": "display_data"
    },
    {
     "data": {
      "text/plain": [
       "(635, 2)"
      ]
     },
     "metadata": {},
     "output_type": "display_data"
    },
    {
     "data": {
      "text/plain": [
       "(634, 2)"
      ]
     },
     "metadata": {},
     "output_type": "display_data"
    },
    {
     "data": {
      "text/plain": [
       "(633, 2)"
      ]
     },
     "metadata": {},
     "output_type": "display_data"
    },
    {
     "data": {
      "text/plain": [
       "(632, 2)"
      ]
     },
     "metadata": {},
     "output_type": "display_data"
    },
    {
     "data": {
      "text/plain": [
       "(631, 2)"
      ]
     },
     "metadata": {},
     "output_type": "display_data"
    },
    {
     "data": {
      "text/plain": [
       "(630, 2)"
      ]
     },
     "metadata": {},
     "output_type": "display_data"
    },
    {
     "data": {
      "text/plain": [
       "(629, 2)"
      ]
     },
     "metadata": {},
     "output_type": "display_data"
    },
    {
     "data": {
      "text/plain": [
       "(628, 2)"
      ]
     },
     "metadata": {},
     "output_type": "display_data"
    },
    {
     "data": {
      "text/plain": [
       "(627, 2)"
      ]
     },
     "metadata": {},
     "output_type": "display_data"
    },
    {
     "data": {
      "text/plain": [
       "(626, 2)"
      ]
     },
     "metadata": {},
     "output_type": "display_data"
    },
    {
     "data": {
      "text/plain": [
       "(625, 2)"
      ]
     },
     "metadata": {},
     "output_type": "display_data"
    },
    {
     "data": {
      "text/plain": [
       "(624, 2)"
      ]
     },
     "metadata": {},
     "output_type": "display_data"
    },
    {
     "data": {
      "text/plain": [
       "(623, 2)"
      ]
     },
     "metadata": {},
     "output_type": "display_data"
    },
    {
     "data": {
      "text/plain": [
       "(622, 2)"
      ]
     },
     "metadata": {},
     "output_type": "display_data"
    },
    {
     "data": {
      "text/plain": [
       "(621, 2)"
      ]
     },
     "metadata": {},
     "output_type": "display_data"
    },
    {
     "data": {
      "text/plain": [
       "(620, 2)"
      ]
     },
     "metadata": {},
     "output_type": "display_data"
    },
    {
     "data": {
      "text/plain": [
       "(619, 2)"
      ]
     },
     "metadata": {},
     "output_type": "display_data"
    },
    {
     "data": {
      "text/plain": [
       "(618, 2)"
      ]
     },
     "metadata": {},
     "output_type": "display_data"
    },
    {
     "data": {
      "text/plain": [
       "(617, 2)"
      ]
     },
     "metadata": {},
     "output_type": "display_data"
    },
    {
     "data": {
      "text/plain": [
       "(616, 2)"
      ]
     },
     "metadata": {},
     "output_type": "display_data"
    },
    {
     "data": {
      "text/plain": [
       "(615, 2)"
      ]
     },
     "metadata": {},
     "output_type": "display_data"
    },
    {
     "data": {
      "text/plain": [
       "(614, 2)"
      ]
     },
     "metadata": {},
     "output_type": "display_data"
    },
    {
     "data": {
      "text/plain": [
       "(613, 2)"
      ]
     },
     "metadata": {},
     "output_type": "display_data"
    },
    {
     "data": {
      "text/plain": [
       "(612, 2)"
      ]
     },
     "metadata": {},
     "output_type": "display_data"
    },
    {
     "name": "stdout",
     "output_type": "stream",
     "text": [
      "개수가 1개 이상입니다.\n"
     ]
    },
    {
     "data": {
      "text/html": [
       "<div>\n",
       "<style scoped>\n",
       "    .dataframe tbody tr th:only-of-type {\n",
       "        vertical-align: middle;\n",
       "    }\n",
       "\n",
       "    .dataframe tbody tr th {\n",
       "        vertical-align: top;\n",
       "    }\n",
       "\n",
       "    .dataframe thead th {\n",
       "        text-align: right;\n",
       "    }\n",
       "</style>\n",
       "<table border=\"1\" class=\"dataframe\">\n",
       "  <thead>\n",
       "    <tr style=\"text-align: right;\">\n",
       "      <th></th>\n",
       "      <th>시군구</th>\n",
       "      <th>단지명</th>\n",
       "    </tr>\n",
       "  </thead>\n",
       "  <tbody>\n",
       "    <tr>\n",
       "      <th>4733</th>\n",
       "      <td>서울특별시 서대문구 홍제동</td>\n",
       "      <td>금호어울림</td>\n",
       "    </tr>\n",
       "    <tr>\n",
       "      <th>6812</th>\n",
       "      <td>서울특별시 성북구 돈암동</td>\n",
       "      <td>금호어울림</td>\n",
       "    </tr>\n",
       "  </tbody>\n",
       "</table>\n",
       "</div>"
      ],
      "text/plain": [
       "                 시군구    단지명\n",
       "4733  서울특별시 서대문구 홍제동  금호어울림\n",
       "6812   서울특별시 성북구 돈암동  금호어울림"
      ]
     },
     "metadata": {},
     "output_type": "display_data"
    },
    {
     "ename": "KeyboardInterrupt",
     "evalue": "Interrupted by user",
     "output_type": "error",
     "traceback": [
      "\u001b[1;31m---------------------------------------------------------------------------\u001b[0m",
      "\u001b[1;31mKeyboardInterrupt\u001b[0m                         Traceback (most recent call last)",
      "\u001b[1;32m<ipython-input-27-e9c638c905cd>\u001b[0m in \u001b[0;36m<module>\u001b[1;34m\u001b[0m\n\u001b[0;32m    144\u001b[0m \u001b[0mchangeWord\u001b[0m\u001b[1;33m(\u001b[0m\u001b[1;34m'한양수자인 사가정파크'\u001b[0m\u001b[1;33m,\u001b[0m \u001b[1;34m'한양수자인사가정파크'\u001b[0m\u001b[1;33m)\u001b[0m\u001b[1;33m\u001b[0m\u001b[1;33m\u001b[0m\u001b[0m\n\u001b[0;32m    145\u001b[0m \u001b[0mchangeWord\u001b[0m\u001b[1;33m(\u001b[0m\u001b[1;34m'ｅ편한세상 화랑대'\u001b[0m\u001b[1;33m,\u001b[0m \u001b[1;34m'이편한세상 화랑대'\u001b[0m\u001b[1;33m)\u001b[0m\u001b[1;33m\u001b[0m\u001b[1;33m\u001b[0m\u001b[0m\n\u001b[1;32m--> 146\u001b[1;33m \u001b[0mchangeWord\u001b[0m\u001b[1;33m(\u001b[0m\u001b[1;34m'금호어울림'\u001b[0m\u001b[1;33m,\u001b[0m \u001b[1;34m'길음역금호어울림센터힐'\u001b[0m\u001b[1;33m)\u001b[0m\u001b[1;33m\u001b[0m\u001b[1;33m\u001b[0m\u001b[0m\n\u001b[0m",
      "\u001b[1;32m<ipython-input-19-298f7b3c6355>\u001b[0m in \u001b[0;36mchangeWord\u001b[1;34m(before, after)\u001b[0m\n\u001b[0;32m      8\u001b[0m         \u001b[0mprint\u001b[0m\u001b[1;33m(\u001b[0m\u001b[1;34m'개수가 1개 이상입니다.'\u001b[0m\u001b[1;33m)\u001b[0m\u001b[1;33m\u001b[0m\u001b[1;33m\u001b[0m\u001b[0m\n\u001b[0;32m      9\u001b[0m         \u001b[0mdisplay\u001b[0m\u001b[1;33m(\u001b[0m\u001b[0mcondition\u001b[0m\u001b[1;33m)\u001b[0m\u001b[1;33m\u001b[0m\u001b[1;33m\u001b[0m\u001b[0m\n\u001b[1;32m---> 10\u001b[1;33m         \u001b[0msgg\u001b[0m \u001b[1;33m=\u001b[0m \u001b[0minput\u001b[0m\u001b[1;33m(\u001b[0m\u001b[1;34m'시군구를 입력해주세요'\u001b[0m\u001b[1;33m)\u001b[0m\u001b[1;33m\u001b[0m\u001b[1;33m\u001b[0m\u001b[0m\n\u001b[0m\u001b[0;32m     11\u001b[0m \u001b[1;33m\u001b[0m\u001b[0m\n\u001b[0;32m     12\u001b[0m         \u001b[0mdf\u001b[0m\u001b[1;33m.\u001b[0m\u001b[0mloc\u001b[0m\u001b[1;33m[\u001b[0m\u001b[1;33m(\u001b[0m\u001b[0mdf\u001b[0m\u001b[1;33m.\u001b[0m\u001b[0m시군구\u001b[0m\u001b[1;33m==\u001b[0m\u001b[0msgg\u001b[0m\u001b[1;33m)\u001b[0m \u001b[1;33m&\u001b[0m \u001b[1;33m(\u001b[0m\u001b[0mdf\u001b[0m\u001b[1;33m.\u001b[0m\u001b[0m단지명\u001b[0m \u001b[1;33m==\u001b[0m \u001b[0mbefore\u001b[0m\u001b[1;33m)\u001b[0m\u001b[1;33m,\u001b[0m \u001b[1;34m'단지명'\u001b[0m\u001b[1;33m]\u001b[0m \u001b[1;33m=\u001b[0m \u001b[0mafter\u001b[0m\u001b[1;33m\u001b[0m\u001b[1;33m\u001b[0m\u001b[0m\n",
      "\u001b[1;32m~\\anaconda3\\lib\\site-packages\\ipykernel\\kernelbase.py\u001b[0m in \u001b[0;36mraw_input\u001b[1;34m(self, prompt)\u001b[0m\n\u001b[0;32m    858\u001b[0m                 \u001b[1;34m\"raw_input was called, but this frontend does not support input requests.\"\u001b[0m\u001b[1;33m\u001b[0m\u001b[1;33m\u001b[0m\u001b[0m\n\u001b[0;32m    859\u001b[0m             )\n\u001b[1;32m--> 860\u001b[1;33m         return self._input_request(str(prompt),\n\u001b[0m\u001b[0;32m    861\u001b[0m             \u001b[0mself\u001b[0m\u001b[1;33m.\u001b[0m\u001b[0m_parent_ident\u001b[0m\u001b[1;33m,\u001b[0m\u001b[1;33m\u001b[0m\u001b[1;33m\u001b[0m\u001b[0m\n\u001b[0;32m    862\u001b[0m             \u001b[0mself\u001b[0m\u001b[1;33m.\u001b[0m\u001b[0m_parent_header\u001b[0m\u001b[1;33m,\u001b[0m\u001b[1;33m\u001b[0m\u001b[1;33m\u001b[0m\u001b[0m\n",
      "\u001b[1;32m~\\anaconda3\\lib\\site-packages\\ipykernel\\kernelbase.py\u001b[0m in \u001b[0;36m_input_request\u001b[1;34m(self, prompt, ident, parent, password)\u001b[0m\n\u001b[0;32m    902\u001b[0m             \u001b[1;32mexcept\u001b[0m \u001b[0mKeyboardInterrupt\u001b[0m\u001b[1;33m:\u001b[0m\u001b[1;33m\u001b[0m\u001b[1;33m\u001b[0m\u001b[0m\n\u001b[0;32m    903\u001b[0m                 \u001b[1;31m# re-raise KeyboardInterrupt, to truncate traceback\u001b[0m\u001b[1;33m\u001b[0m\u001b[1;33m\u001b[0m\u001b[1;33m\u001b[0m\u001b[0m\n\u001b[1;32m--> 904\u001b[1;33m                 \u001b[1;32mraise\u001b[0m \u001b[0mKeyboardInterrupt\u001b[0m\u001b[1;33m(\u001b[0m\u001b[1;34m\"Interrupted by user\"\u001b[0m\u001b[1;33m)\u001b[0m \u001b[1;32mfrom\u001b[0m \u001b[1;32mNone\u001b[0m\u001b[1;33m\u001b[0m\u001b[1;33m\u001b[0m\u001b[0m\n\u001b[0m\u001b[0;32m    905\u001b[0m             \u001b[1;32mexcept\u001b[0m \u001b[0mException\u001b[0m \u001b[1;32mas\u001b[0m \u001b[0me\u001b[0m\u001b[1;33m:\u001b[0m\u001b[1;33m\u001b[0m\u001b[1;33m\u001b[0m\u001b[0m\n\u001b[0;32m    906\u001b[0m                 \u001b[0mself\u001b[0m\u001b[1;33m.\u001b[0m\u001b[0mlog\u001b[0m\u001b[1;33m.\u001b[0m\u001b[0mwarning\u001b[0m\u001b[1;33m(\u001b[0m\u001b[1;34m\"Invalid Message:\"\u001b[0m\u001b[1;33m,\u001b[0m \u001b[0mexc_info\u001b[0m\u001b[1;33m=\u001b[0m\u001b[1;32mTrue\u001b[0m\u001b[1;33m)\u001b[0m\u001b[1;33m\u001b[0m\u001b[1;33m\u001b[0m\u001b[0m\n",
      "\u001b[1;31mKeyboardInterrupt\u001b[0m: Interrupted by user"
     ]
    }
   ],
   "source": [
    "# 서울특별시\n",
    "changeWord('래미안 강남포레스트', '개포래미안포레스트')\n",
    "changeWord('주공2', '래미안블레스티지')\n",
    "changeWord('래미안대치청실', '래미안대치팰리스')\n",
    "changeWord('삼성래미안(진달래1차)', '삼성래미안')\n",
    "changeWord('래미안 루체하임 ', '래미안 개포 루체하임')\n",
    "changeWord('강일리버파크', '강일리버파크5단지')\n",
    "changeWord('고덕래미안힐스테이트', '고덕래미안 힐스테이트아파트')\n",
    "changeWord('래미안 명일역 솔베뉴', '래미안솔베뉴')\n",
    "changeWord('삼익그린1차', '래미안솔베뉴')\n",
    "changeWord('고덕 센트럴 IPARK ', '고덕센트럴아이파크')\n",
    "changeWord('고덕 아르테온 ', '고덕아르테온')\n",
    "changeWord('힐스테이트 암사', '힐스테이트암사')\n",
    "changeWord('강동역 신동아파밀리에', '강동역신동아파밀리에')\n",
    "changeWord('래미안 강동팰리스', '래미안강동팰리스')\n",
    "changeWord('미아9-1 꿈의숲 효성해링턴 플레이스', '꿈의숲해링턴플레이스')\n",
    "changeWord('방화역 메이빌 아파트', '방화메이빌')\n",
    "changeWord('강서힐스테이트(화곡3주구)', '강서힐스테이트')\n",
    "changeWord('e편한세상 서울대입구', 'e편한세상 서울대입구 1단지')\n",
    "changeWord('한양아이클래스(도시형)', '서울대입구한양아이클래스')\n",
    "changeWord('강변SK VIEW', '강변에스케이뷰')\n",
    "changeWord('SH 항동 공공주택지구2단지 공공분양', '하버라인2단지')\n",
    "changeWord('SH 항동 공공주택지구3단지', '하버라인3단지')\n",
    "changeWord('SH 항동 공공주택지구4단지 공공분양', '하버라인4단지')\n",
    "changeWord('서울항동공공주택지구1BL 중흥S클래스', '항동중흥에스클래스베르데카운티')\n",
    "changeWord('가산지웰에스테이트ⅠⅠ', '가산 지웰 에스테이트 2차')\n",
    "changeWord('롯데캐슬골드파크3차', '금천 롯데캐슬 골드파크 3차')\n",
    "changeWord('롯데캐슬골드파크2차', '금천롯데캐슬골드파크2차201동202동')\n",
    "changeWord('6.7 디벨리움 도시형 생활주택', '6.7디벨리움')\n",
    "changeWord('상계역 센트럴 푸르지오 ', '노원센트럴 푸르지오')\n",
    "changeWord('꿈의숲SK뷰', '꿈의숲 SK VIEW')\n",
    "changeWord('녹천역두산위브', '녹천역두산위브아파트')\n",
    "changeWord('답십리래미안위브', '래미안위브')\n",
    "changeWord('답십리역 한일휴니스빌 도시형생활주택', '한일노벨리아')\n",
    "changeWord('래미안 답십리 미드카운티 ', '래미안 미드카운티')\n",
    "changeWord('서울 청계 와이즈 노벨리아', '청계와이즈노벨리아')\n",
    "changeWord('현대 썬앤빌 청계 도시형생활주택', '현대썬앤빌청계')\n",
    "changeWord('동대문푸르지오시티', '동대문푸르지오시티(도시형생활주택)')\n",
    "changeWord('현대 썬앤빌 601', '현대썬앤빌601')\n",
    "changeWord('휘경 SK VIEW ', '휘경 SK뷰')\n",
    "changeWord('휘경제이스카이', '휘경 제이스카이 아파트')\n",
    "changeWord('사당 롯데캐슬 골든포레 ', '롯데캐슬골든포레')\n",
    "changeWord('사당반석블레스', '반석블레스')\n",
    "changeWord('e편한세상 상도 노빌리티', '편한세상상도노빌리티')\n",
    "changeWord('두산위브지역주택조합(두산위브트레지움)', '두산위브트레지움2차')\n",
    "changeWord('상도 휴엔하임(도시형)', '상도 휴엔하임')\n",
    "changeWord('상도역 롯데캐슬', '상도역 롯데캐슬 파크엘')\n",
    "changeWord('보라매 e-편한세상', '보라매 e편한세상')\n",
    "changeWord('흑석뉴타운 롯데캐슬 에듀포레', '롯데캐슬에듀포레')\n",
    "changeWord('흑석뉴타운 아크로 리버하임', '아크로리버하임')\n",
    "changeWord('마포 한강 IPARK', '마포한강아이파크')\n",
    "changeWord('신촌숲 IPARK ', '신촌숲아이파크')\n",
    "changeWord('마포 애오개 아이파크 도시형생활주택', '애오개아이파크')\n",
    "changeWord('마포아현IPARK', '아현아이파크')\n",
    "changeWord('서울 마포자이 3차', '마포자이3차')\n",
    "changeWord('e편한세상마포3차', '편한세상마포리버파크')\n",
    "changeWord('마포한강2차 푸르지오', '마포한강2차푸르지오')\n",
    "changeWord('래미안 마포 웰스트림', '래미안 웰스트림')\n",
    "changeWord('DMC 2차 IPARK', '센트럴아이파크')\n",
    "changeWord('상암DMC 엘가 도시형생활주택', '디엠씨엘가')\n",
    "changeWord('e편한세상 신촌', 'e편한세상신촌')\n",
    "changeWord('북한산 더샵 ', '북한산더샵')\n",
    "changeWord('북한산 두산위브１차', '북한산두산위브1차')\n",
    "changeWord('홍제금호어울림', '금호어울림')\n",
    "changeWord('반포 래미안 아이파크', '반포래미안아이파크')\n",
    "changeWord('아크로리버 파크', '아크로리버파크')\n",
    "changeWord('래미안 서초 에스티지S ', '래미안서초에스티지')\n",
    "changeWord('마제스타시티 힐스테이트서리풀', '마제스타시티(힐스테이트서리풀101,102동)')\n",
    "changeWord('신반포센트럴자이 ', '반포센트럴자이')\n",
    "changeWord('아크로 리버뷰', '아크로리버뷰신반포')\n",
    "changeWord('E 편한세상 신금호', '이편한세상금호파크힐스')\n",
    "changeWord('힐스테이트 금호', '힐스테이트 서울숲 리버')\n",
    "changeWord('텐즈힐', '텐즈힐(2구역)')\n",
    "changeWord('옥수 이편한세상 파크힐스', '옥수파크힐스101동~116동')\n",
    "changeWord('왕십리뉴타운1구역', '텐즈힐아파트(1단지)')\n",
    "changeWord('왕십리뉴타운3구역 센트라스1,2차', '센트라스아파트')\n",
    "changeWord('서울 숲 리버뷰 자이', '서울숲리버뷰자이')\n",
    "changeWord('래미안 길음 센터피스 ', '래미안길음센터피스')\n",
    "changeWord('성신여대역 솔하임', '성신여대역솔하임')\n",
    "changeWord('꿈의숲 아이파크', '꿈의숲아이파크')\n",
    "changeWord('래미안 장위 퍼스트하이', '래미안장위퍼스트하이')\n",
    "changeWord('래미안 장위포레카운티', '래미안포레카운티')\n",
    "changeWord('장위뉴타운 꿈의숲 코오롱하늘채', '꿈의숲코오롱하늘채')\n",
    "changeWord('길음뉴타운 롯데캐슬 골든힐스', '롯데캐슬골든힐스')\n",
    "changeWord('송파 헬리오시티', '헬리오시티')\n",
    "changeWord('송파 파크하비오 푸르지오', '파크하비오')\n",
    "changeWord('석촌호수 효성해링턴타워', '석촌호수효성해링턴타워')\n",
    "changeWord('송파 두산위브 ', '송파두산위브')\n",
    "changeWord('송파 오금지구 3블럭 호반베르디움', '송파호반베르디움더퍼스트')\n",
    "changeWord('송파와이즈더샵(C1-4)', '송파와이즈더샵')\n",
    "changeWord('송파힐스테이트(C1-1)', '힐스테이트송파위례')\n",
    "changeWord('위례1차아이파크(C1-3)', '위례아이파크')\n",
    "changeWord('위례2차아이파크(C1-2)', '위례2차아이파크')\n",
    "changeWord('위례중앙푸르지오1단지 (BL5)', '위례중앙푸르지오1단지')\n",
    "changeWord('위례중앙푸르지오2단지(C1-6블럭)', '위례중앙푸르지오2단지')\n",
    "changeWord('잠실 올림픽 IPARK', '올림픽공원아이파크')\n",
    "changeWord('목동 롯데캐슬 마에스트로', '목동롯데캐슬마에스트로')\n",
    "changeWord('신정뉴타운1-1구역 아이파크위브', '목동센트럴 아이파크위브 1단지')\n",
    "changeWord('래미안 목동아델리체', '래미안목동아델리체(1326)')\n",
    "changeWord('목동파크자이 ', '목동파크자이(101동~108동)')\n",
    "changeWord('당산역롯데캐슬프레스티지', '당산 롯데캐슬 프레스티지')\n",
    "changeWord('e편한세상 보라매 2차', 'e편한세상 영등포 아델포레')\n",
    "changeWord('신대림2차신동아파밀리에', '보라매 신동아 파밀리에')\n",
    "changeWord('문래동 모아미래도', '문래동모아미래도아파트')\n",
    "changeWord(' 래미안에스티움(신길7구역)', '래미안에스티움')\n",
    "changeWord('보라매 SK VIEW', '보라매에스케이뷰')\n",
    "changeWord('신길 뉴타운 IPARK', '신길센트럴아이파크')\n",
    "changeWord('신길센트럴자이', '신길센트럴자이아파트')\n",
    "changeWord('영등포 중흥S클래스', '중흥에스클래스')\n",
    "changeWord('영등포 뉴타운 꿈에그린(포레나영등포)', '포레나영등포')\n",
    "changeWord('영등포 아크로타워 스퀘어', '아크로타워스퀘어')\n",
    "changeWord('용산더프라임', '용산 더프라임')\n",
    "changeWord('래미안 용산', '래미안용산더센트럴')\n",
    "changeWord('용산푸르지오써밋', '용산푸르지오써밋(420)')\n",
    "changeWord('한남 해피트리', '한남해피트리')\n",
    "changeWord('한남아이파크', '한남아이파크애비뉴')\n",
    "changeWord('용산 롯데캐슬 센터포레', '용산롯데캐슬센터포레')\n",
    "changeWord('효창 파크 KCC스위첸', '용산케이씨씨스위첸')\n",
    "changeWord('래미안 베라힐즈 ', '래미안베라힐즈')\n",
    "changeWord('힐스테이트 녹번', '힐스테이트녹번')\n",
    "changeWord('롯데캐슬(불광4구역)', '불광롯데캐슬')\n",
    "changeWord('DMC 롯데캐슬 더 퍼스트 ', 'DMC롯데캐슬더퍼스트')\n",
    "changeWord('은평 신사 효성해링턴 플레이스', '효성해링턴플레이스')\n",
    "changeWord('녹번역 e편한세상 캐슬', '녹번역e편한세상캐슬')\n",
    "changeWord('백련산 해모로 ', '백련산해모로')\n",
    "changeWord('서울 힐스테이트 백련산4차', '백련산힐스테이트 4차')\n",
    "changeWord('은평뉴타운 꿈에그린 ', '은평뉴타운꿈에그린')\n",
    "changeWord('은평뉴타운 솔하임(도시형)', '은평뉴타운솔하임')\n",
    "changeWord('은평뉴타운 우물골(84-0)', '은평뉴타운 우물골(두산위브7단지)')\n",
    "changeWord('은평뉴타운3지구B공구 2블록', '은평뉴타운 구파발(삼성래미안9단지)')\n",
    "changeWord('은평뉴타운힐데스하임', '힐데스하임')\n",
    "changeWord('은평스카이뷰자이', '은평 스카이뷰 자이')\n",
    "changeWord('경희궁자이(2BL)', '경희궁자이(2단지)')\n",
    "changeWord('경희궁자이(3BL)', '경희궁자이(3단지)')\n",
    "changeWord('경희궁자이(4BL)', '경희궁자이(4단지)')\n",
    "changeWord('효제포레스트힐시티', '포레스트힐시티')\n",
    "changeWord('서울역 한라비발디 센트럴 아파트', '서울역한라비발디센트럴')\n",
    "changeWord('서울 신당 KCC 스위첸', '신당 KCC 스위첸')\n",
    "changeWord('신당역 솔하임 5차', '신당역솔하임')\n",
    "changeWord('충무로 헤센스마트', '충무로헤센스마트')\n",
    "changeWord('면목 라온프라이빗 ', '라온프라이빗')\n",
    "changeWord('사가정 센트럴 아이파크', '사가정센트럴아이파크')\n",
    "changeWord('쌍용더플래티넘용마산', '쌍용 더 플래티넘 용마산')\n",
    "changeWord('한양수자인 사가정파크', '한양수자인사가정파크')\n",
    "changeWord('ｅ편한세상 화랑대', '이편한세상 화랑대')\n",
    "changeWord('금호어울림', '길음역금호어울림센터힐')\n"
   ]
  },
  {
   "cell_type": "code",
   "execution_count": 125,
   "id": "3c554195-0c0c-4f9b-bade-2e428bfb1174",
   "metadata": {},
   "outputs": [],
   "source": [
    "# 일부 데이터 시군구 변경\n",
    "df.loc[(df.시군구=='서울특별시 종로구 교남동') & (df.단지명 =='경희궁자이(2단지)'), '시군구'] = '서울특별시 종로구 홍파동'\n",
    "df.loc[(df.시군구=='서울특별시 종로구 교남동') & (df.단지명 =='경희궁자이(3단지)'), '시군구'] = '서울특별시 종로구 평동'\n",
    "df.loc[(df.시군구=='서울특별시 종로구 교남동') & (df.단지명 =='경희궁자이(4단지)'), '시군구'] = '서울특별시 종로구 교북동'"
   ]
  },
  {
   "cell_type": "code",
   "execution_count": 95,
   "id": "feaacaf3-72fd-428a-9740-5e7b936718c7",
   "metadata": {},
   "outputs": [
    {
     "data": {
      "text/plain": [
       "(587, 2)"
      ]
     },
     "metadata": {},
     "output_type": "display_data"
    },
    {
     "data": {
      "text/plain": [
       "(586, 2)"
      ]
     },
     "metadata": {},
     "output_type": "display_data"
    },
    {
     "data": {
      "text/plain": [
       "(585, 2)"
      ]
     },
     "metadata": {},
     "output_type": "display_data"
    },
    {
     "data": {
      "text/plain": [
       "(584, 2)"
      ]
     },
     "metadata": {},
     "output_type": "display_data"
    },
    {
     "data": {
      "text/plain": [
       "(583, 2)"
      ]
     },
     "metadata": {},
     "output_type": "display_data"
    },
    {
     "data": {
      "text/plain": [
       "(582, 2)"
      ]
     },
     "metadata": {},
     "output_type": "display_data"
    },
    {
     "data": {
      "text/plain": [
       "(581, 2)"
      ]
     },
     "metadata": {},
     "output_type": "display_data"
    },
    {
     "data": {
      "text/plain": [
       "(580, 2)"
      ]
     },
     "metadata": {},
     "output_type": "display_data"
    },
    {
     "data": {
      "text/plain": [
       "(579, 2)"
      ]
     },
     "metadata": {},
     "output_type": "display_data"
    },
    {
     "data": {
      "text/plain": [
       "(578, 2)"
      ]
     },
     "metadata": {},
     "output_type": "display_data"
    },
    {
     "data": {
      "text/plain": [
       "(577, 2)"
      ]
     },
     "metadata": {},
     "output_type": "display_data"
    },
    {
     "data": {
      "text/plain": [
       "(576, 2)"
      ]
     },
     "metadata": {},
     "output_type": "display_data"
    },
    {
     "data": {
      "text/plain": [
       "(575, 2)"
      ]
     },
     "metadata": {},
     "output_type": "display_data"
    },
    {
     "data": {
      "text/plain": [
       "(574, 2)"
      ]
     },
     "metadata": {},
     "output_type": "display_data"
    },
    {
     "data": {
      "text/plain": [
       "(573, 2)"
      ]
     },
     "metadata": {},
     "output_type": "display_data"
    },
    {
     "data": {
      "text/plain": [
       "(572, 2)"
      ]
     },
     "metadata": {},
     "output_type": "display_data"
    },
    {
     "data": {
      "text/plain": [
       "(571, 2)"
      ]
     },
     "metadata": {},
     "output_type": "display_data"
    },
    {
     "data": {
      "text/plain": [
       "(570, 2)"
      ]
     },
     "metadata": {},
     "output_type": "display_data"
    },
    {
     "data": {
      "text/plain": [
       "(569, 2)"
      ]
     },
     "metadata": {},
     "output_type": "display_data"
    },
    {
     "data": {
      "text/plain": [
       "(568, 2)"
      ]
     },
     "metadata": {},
     "output_type": "display_data"
    },
    {
     "data": {
      "text/plain": [
       "(567, 2)"
      ]
     },
     "metadata": {},
     "output_type": "display_data"
    },
    {
     "data": {
      "text/plain": [
       "(566, 2)"
      ]
     },
     "metadata": {},
     "output_type": "display_data"
    },
    {
     "data": {
      "text/plain": [
       "(565, 2)"
      ]
     },
     "metadata": {},
     "output_type": "display_data"
    },
    {
     "data": {
      "text/plain": [
       "(564, 2)"
      ]
     },
     "metadata": {},
     "output_type": "display_data"
    },
    {
     "data": {
      "text/plain": [
       "(563, 2)"
      ]
     },
     "metadata": {},
     "output_type": "display_data"
    },
    {
     "data": {
      "text/plain": [
       "(562, 2)"
      ]
     },
     "metadata": {},
     "output_type": "display_data"
    },
    {
     "data": {
      "text/plain": [
       "(561, 2)"
      ]
     },
     "metadata": {},
     "output_type": "display_data"
    },
    {
     "data": {
      "text/plain": [
       "(560, 2)"
      ]
     },
     "metadata": {},
     "output_type": "display_data"
    },
    {
     "data": {
      "text/plain": [
       "(559, 2)"
      ]
     },
     "metadata": {},
     "output_type": "display_data"
    },
    {
     "data": {
      "text/plain": [
       "(558, 2)"
      ]
     },
     "metadata": {},
     "output_type": "display_data"
    },
    {
     "data": {
      "text/plain": [
       "(557, 2)"
      ]
     },
     "metadata": {},
     "output_type": "display_data"
    },
    {
     "data": {
      "text/plain": [
       "(556, 2)"
      ]
     },
     "metadata": {},
     "output_type": "display_data"
    },
    {
     "data": {
      "text/plain": [
       "(555, 2)"
      ]
     },
     "metadata": {},
     "output_type": "display_data"
    },
    {
     "data": {
      "text/plain": [
       "(554, 2)"
      ]
     },
     "metadata": {},
     "output_type": "display_data"
    },
    {
     "name": "stdout",
     "output_type": "stream",
     "text": [
      "개수가 1개 이상입니다.\n"
     ]
    },
    {
     "data": {
      "text/html": [
       "<div>\n",
       "<style scoped>\n",
       "    .dataframe tbody tr th:only-of-type {\n",
       "        vertical-align: middle;\n",
       "    }\n",
       "\n",
       "    .dataframe tbody tr th {\n",
       "        vertical-align: top;\n",
       "    }\n",
       "\n",
       "    .dataframe thead th {\n",
       "        text-align: right;\n",
       "    }\n",
       "</style>\n",
       "<table border=\"1\" class=\"dataframe\">\n",
       "  <thead>\n",
       "    <tr style=\"text-align: right;\">\n",
       "      <th></th>\n",
       "      <th>시군구</th>\n",
       "      <th>단지명</th>\n",
       "    </tr>\n",
       "  </thead>\n",
       "  <tbody>\n",
       "    <tr>\n",
       "      <th>194853</th>\n",
       "      <td>인천광역시 서구 경서동</td>\n",
       "      <td>인천 청라국제도시 A1블록 모아미래도</td>\n",
       "    </tr>\n",
       "    <tr>\n",
       "      <th>195621</th>\n",
       "      <td>인천광역시 서구 청라동</td>\n",
       "      <td>인천 청라국제도시 A1블록 모아미래도</td>\n",
       "    </tr>\n",
       "  </tbody>\n",
       "</table>\n",
       "</div>"
      ],
      "text/plain": [
       "                 시군구                   단지명\n",
       "194853  인천광역시 서구 경서동  인천 청라국제도시 A1블록 모아미래도\n",
       "195621  인천광역시 서구 청라동  인천 청라국제도시 A1블록 모아미래도"
      ]
     },
     "metadata": {},
     "output_type": "display_data"
    },
    {
     "name": "stdin",
     "output_type": "stream",
     "text": [
      "시군구를 입력해주세요 인천광역시 서구 청라동\n"
     ]
    },
    {
     "data": {
      "text/plain": [
       "(554, 2)"
      ]
     },
     "metadata": {},
     "output_type": "display_data"
    },
    {
     "data": {
      "text/plain": [
       "(553, 2)"
      ]
     },
     "metadata": {},
     "output_type": "display_data"
    },
    {
     "data": {
      "text/plain": [
       "(552, 2)"
      ]
     },
     "metadata": {},
     "output_type": "display_data"
    },
    {
     "data": {
      "text/plain": [
       "(551, 2)"
      ]
     },
     "metadata": {},
     "output_type": "display_data"
    },
    {
     "data": {
      "text/plain": [
       "(550, 2)"
      ]
     },
     "metadata": {},
     "output_type": "display_data"
    },
    {
     "data": {
      "text/plain": [
       "(549, 2)"
      ]
     },
     "metadata": {},
     "output_type": "display_data"
    },
    {
     "data": {
      "text/plain": [
       "(548, 2)"
      ]
     },
     "metadata": {},
     "output_type": "display_data"
    },
    {
     "data": {
      "text/plain": [
       "(547, 2)"
      ]
     },
     "metadata": {},
     "output_type": "display_data"
    },
    {
     "data": {
      "text/plain": [
       "(546, 2)"
      ]
     },
     "metadata": {},
     "output_type": "display_data"
    },
    {
     "data": {
      "text/plain": [
       "(545, 2)"
      ]
     },
     "metadata": {},
     "output_type": "display_data"
    },
    {
     "data": {
      "text/plain": [
       "(544, 2)"
      ]
     },
     "metadata": {},
     "output_type": "display_data"
    },
    {
     "data": {
      "text/plain": [
       "(543, 2)"
      ]
     },
     "metadata": {},
     "output_type": "display_data"
    },
    {
     "data": {
      "text/plain": [
       "(542, 2)"
      ]
     },
     "metadata": {},
     "output_type": "display_data"
    },
    {
     "data": {
      "text/plain": [
       "(541, 2)"
      ]
     },
     "metadata": {},
     "output_type": "display_data"
    },
    {
     "data": {
      "text/plain": [
       "(540, 2)"
      ]
     },
     "metadata": {},
     "output_type": "display_data"
    },
    {
     "data": {
      "text/plain": [
       "(539, 2)"
      ]
     },
     "metadata": {},
     "output_type": "display_data"
    },
    {
     "data": {
      "text/plain": [
       "(538, 2)"
      ]
     },
     "metadata": {},
     "output_type": "display_data"
    },
    {
     "data": {
      "text/plain": [
       "(537, 2)"
      ]
     },
     "metadata": {},
     "output_type": "display_data"
    },
    {
     "data": {
      "text/plain": [
       "(536, 2)"
      ]
     },
     "metadata": {},
     "output_type": "display_data"
    },
    {
     "data": {
      "text/plain": [
       "(535, 2)"
      ]
     },
     "metadata": {},
     "output_type": "display_data"
    },
    {
     "data": {
      "text/plain": [
       "(534, 2)"
      ]
     },
     "metadata": {},
     "output_type": "display_data"
    },
    {
     "data": {
      "text/plain": [
       "(533, 2)"
      ]
     },
     "metadata": {},
     "output_type": "display_data"
    },
    {
     "data": {
      "text/plain": [
       "(532, 2)"
      ]
     },
     "metadata": {},
     "output_type": "display_data"
    },
    {
     "data": {
      "text/plain": [
       "(531, 2)"
      ]
     },
     "metadata": {},
     "output_type": "display_data"
    },
    {
     "data": {
      "text/plain": [
       "(530, 2)"
      ]
     },
     "metadata": {},
     "output_type": "display_data"
    },
    {
     "data": {
      "text/plain": [
       "(529, 2)"
      ]
     },
     "metadata": {},
     "output_type": "display_data"
    },
    {
     "data": {
      "text/plain": [
       "(528, 2)"
      ]
     },
     "metadata": {},
     "output_type": "display_data"
    },
    {
     "data": {
      "text/plain": [
       "(527, 2)"
      ]
     },
     "metadata": {},
     "output_type": "display_data"
    },
    {
     "data": {
      "text/plain": [
       "(526, 2)"
      ]
     },
     "metadata": {},
     "output_type": "display_data"
    },
    {
     "data": {
      "text/plain": [
       "(525, 2)"
      ]
     },
     "metadata": {},
     "output_type": "display_data"
    },
    {
     "data": {
      "text/plain": [
       "(524, 2)"
      ]
     },
     "metadata": {},
     "output_type": "display_data"
    },
    {
     "data": {
      "text/plain": [
       "(523, 2)"
      ]
     },
     "metadata": {},
     "output_type": "display_data"
    },
    {
     "data": {
      "text/plain": [
       "(522, 2)"
      ]
     },
     "metadata": {},
     "output_type": "display_data"
    },
    {
     "data": {
      "text/plain": [
       "(521, 2)"
      ]
     },
     "metadata": {},
     "output_type": "display_data"
    },
    {
     "data": {
      "text/plain": [
       "(520, 2)"
      ]
     },
     "metadata": {},
     "output_type": "display_data"
    },
    {
     "data": {
      "text/plain": [
       "(519, 2)"
      ]
     },
     "metadata": {},
     "output_type": "display_data"
    }
   ],
   "source": [
    "# 인천광역시\n",
    "changeWord('인천 계양산 파크 트루엘', '계양산파크트루엘')\n",
    "changeWord('계양코아루센트럴파크', '인천 계양 코아루 센트럴파크')\n",
    "changeWord('인천 브라운스톤 계양 스카이', '브라운스톤 계양스카이')\n",
    "changeWord('인천 간석 한신더휴', '간석한신더휴')\n",
    "changeWord('인천간석휴먼시아(1BL)', '인천간석휴먼시아1단지')\n",
    "changeWord('구월 두플라스 도시형생활주택', '두플라스')\n",
    "changeWord('대명 어반스테이', '대명어반스테이')\n",
    "changeWord('인천 구월 지웰시티 푸르지오', '신영구월지웰시티푸르지오')\n",
    "changeWord('인천 논현 유승한내들 와이드오션', '논현유승한내들')\n",
    "changeWord('인천 논현 푸르지오', '인천논현푸르지오')\n",
    "changeWord('인천향촌2단지 휴먼시아', '향촌휴먼시아2단지')\n",
    "changeWord('인천서창 2지구 10블록 e편한세상', '이편한세상서창')\n",
    "changeWord('인천서창LH8단지아파트', '인천서창엘에이치8단지')\n",
    "changeWord('인천 송림 파인앤유', '송림파인앤유 주상복합 아파트')\n",
    "changeWord('인천 더샵 스카이타워 8-5블록', '더샵 인천스카이타워 2단지')\n",
    "changeWord('인천 더샵 스카이타워 8-7블록', '더샵 인천스카이타워 1단지')\n",
    "changeWord('인천 도화지구 금강펜테리움 센트럴파크', '도화역 금강펜테리움 센트럴파크')\n",
    "changeWord('인천 SK스카이뷰 ', '인천 SK Sky VIEW')\n",
    "changeWord('인천용마루 2블록 공공분양', '엘에이치미추홀퍼스트')\n",
    "changeWord('인천 주안 지웰에스테이트', '주안 지웰에스테이트')\n",
    "changeWord('부평 지웰 에스테이트', '부평지웰에스테이트')\n",
    "changeWord('부평 코오롱하늘채', '부평코오롱하늘채')\n",
    "changeWord('부평엘에이치2단지', '부평LH 2단지')\n",
    "changeWord('부평 샬레 아넬리스 아파트', '부평샬레아넬리스')\n",
    "changeWord('부평 아이파크', '부평IPARK')\n",
    "changeWord('청천동 우민 늘푸른아파트', '청천우민늘푸른아파트')\n",
    "changeWord('인천 가정지구 4블록 제일풍경채', '루원제일풍경채')\n",
    "changeWord('인천 가정지구 시티 프라디움', '루원시티프라디움')\n",
    "changeWord('인천가정 1블록 공공분양', '루원더퍼스트')\n",
    "changeWord('인천가정 5블럭 호반베르디움 ', '루원호반베르디움더센트럴')\n",
    "changeWord('인천가좌 두산위브', '인천가좌두산위브트레지움 1,2단지')\n",
    "changeWord('주공2', '인천가좌두산위브트레지움 1,2단지')\n",
    "changeWord('인천 검단 2차 우방아이유쉘', '검단2차우방아이유쉘')\n",
    "changeWord('검단오류역 우방아이유쉘', '검단 오류역 우방아이유쉘')\n",
    "changeWord('인천 청라국제도시 A1블록 모아미래도', '청라모아미래도')\n",
    "changeWord('인천 청라국제도시 대광로제비앙', '청라국제 업무단지 센텀 대광로제비앙')\n",
    "changeWord('청라 A12 제일풍경채2차 에듀앤파크', '청라제일풍경채2차에듀앤파크')\n",
    "changeWord('청라 센트럴 에일린의 뜰 ', '청라센트럴에일린의뜰')\n",
    "changeWord('청라 호수공원 한신더휴 ', '청라 호수공원 한신더휴')\n",
    "changeWord('청라2차골드클래스(A23블럭)', '청라골드클래스')\n",
    "changeWord('청라국제금융단지 한양수자인 레이크블루', '청라국제금융단지한양수자인레이크블루')\n",
    "changeWord('청라상록힐스테이트(A10)', '청라힐스테이트커낼뷰')\n",
    "changeWord('청라중흥S클래스2단지(A16)', '청라지구중흥S-CLASS2단지')\n",
    "changeWord('송도 동일하이빌 파크레인', '송도 파크레인 동일하이빌')\n",
    "changeWord('연수파크자이', '송도파크자이')\n",
    "changeWord('인천 연수 서해그랑블 3단지', '인천연수서해그랑블3단지')\n",
    "changeWord('인천 연수 행복한마을 서해그랑블', '서해그랑블 포레스트')\n",
    "changeWord('인천동춘2구역연수 서해그랑블(1-2,1-3블록)', '연수 서해그랑블 1단지')\n",
    "changeWord('랜드마크시티 센트럴더샵', '랜드마크시티 센트럴 더샵')\n",
    "changeWord('송도 더샵 그린워크3차(D17-1블록)', '송도 더샵 그린워크 3차(17-1블럭)')\n",
    "changeWord('송도 더샵 그린워크3차(D18-1블록)', '송도 더샵 그린워크 3차(18-1블럭)')\n",
    "changeWord('송도 더샵 센토피아 ', '더샵송도 마리나베이')\n",
    "changeWord('송도 아메리칸타운 IPARK', '송도아메리칸타운아이파크')\n",
    "changeWord('송도 아트윈 푸르지오', '송도아트윈푸르지오')\n",
    "changeWord('송도 호반베르디움3차 ', '호반베르디움 에듀시티')\n",
    "changeWord('송도더샵마스터뷰(F21블럭)', '송도 더샵 마스터뷰 21BL')\n",
    "changeWord('송도더샵퍼스트파크(F13-1블럭)', '송도 더샵 퍼스트파크 F13-1BL')\n",
    "changeWord('송도더샵퍼스트파크(F14블럭)', '송도 더샵 퍼스트파크 F14BL')\n",
    "changeWord('송도더샵퍼스트파크(F15블럭)', '송도 더샵 퍼스트파크 F15BL')\n",
    "changeWord('송도포레스트카운티 지역주택조합', 'e편한세상 송도')\n",
    "changeWord('인천 힐스테이트 레이크 송도 (A11BL)', '힐스테이트레이크송도1차')\n",
    "changeWord('인천 송도 SK VIEW 아파트', '송도 SK VIEW')\n",
    "changeWord('송도에듀포레푸르지오(RC-2블록)', '송도 에듀포레 푸르지오')\n",
    "changeWord('송도호반베르디움2차(RC-1블럭)', '송도글로벌파크베르디움')\n",
    "changeWord('힐스테이트 레이크 송도 2차', '힐스테이트레이크송도2차')\n",
    "changeWord('영종하늘도시 푸르지오 자이', '영종센트럴 푸르지오자이')\n",
    "changeWord('e편한세상 영종하늘도시2차', 'e편한세상 영종국제도시 오션하임')\n",
    "changeWord('영종 한신더휴 스카이파크', '영종국제도시한신더휴스카이파크')\n",
    "changeWord('영종하늘도시 화성파크드림', '영종국제도시 화성파크드림')\n",
    "changeWord('인천영종 스카이시티자이', '스카이시티자이')"
   ]
  },
  {
   "cell_type": "code",
   "execution_count": 115,
   "id": "099de663-64d5-4700-8827-a3d9390c27fc",
   "metadata": {},
   "outputs": [
    {
     "data": {
      "text/plain": [
       "(512, 2)"
      ]
     },
     "metadata": {},
     "output_type": "display_data"
    }
   ],
   "source": [
    "changeWord('화성동탄A3 상록아파트', '동탄역 센트럴상록 아파트')\n",
    "changeWord('고양삼송동일스위트1차', '고양삼송동일스위트파크뷰7(1차)')\n",
    "changeWord('우남퍼스트빌(A-1)', '신원마을 1단지 우남퍼스트빌')\n",
    "changeWord('호반베르디움 A9블럭', 'A9블럭 신원마을 호반베르디움')\n",
    "changeWord('고양 삼송 원흥역 푸르지오 (M-BL)', '삼송원흥역센트럴푸르지오')\n",
    "changeWord('한강신도시 2차 KCC스위첸', '한강신도시 운양 KCC 스위첸')"
   ]
  },
  {
   "cell_type": "markdown",
   "id": "5e356d47",
   "metadata": {},
   "source": [
    "# 데이터 저장"
   ]
  },
  {
   "cell_type": "code",
   "execution_count": 126,
   "id": "a5454ec2-b860-4149-8c5f-f50cd79fe60a",
   "metadata": {},
   "outputs": [],
   "source": [
    "df.to_csv('data/분양권/분양권_1619.csv', index=False, encoding='utf-8-sig')"
   ]
  },
  {
   "cell_type": "code",
   "execution_count": null,
   "id": "3b55b33d-b074-4f66-b660-2795da1d6805",
   "metadata": {},
   "outputs": [],
   "source": []
  }
 ],
 "metadata": {
  "kernelspec": {
   "display_name": "Python 3",
   "language": "python",
   "name": "python3"
  },
  "language_info": {
   "codemirror_mode": {
    "name": "ipython",
    "version": 3
   },
   "file_extension": ".py",
   "mimetype": "text/x-python",
   "name": "python",
   "nbconvert_exporter": "python",
   "pygments_lexer": "ipython3",
   "version": "3.8.10"
  }
 },
 "nbformat": 4,
 "nbformat_minor": 5
}
